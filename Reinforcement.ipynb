{
  "cells": [
    {
      "cell_type": "markdown",
      "metadata": {
        "id": "t-V_5t8dYO3b"
      },
      "source": [
        "<p style=\"text-align:center\">\n",
        "    <a href=\"https://skills.network/?utm_medium=Exinfluencer&utm_source=Exinfluencer&utm_content=000026UJ&utm_term=10006555&utm_id=NA-SkillsNetwork-Channel-SkillsNetworkCoursesIBMDeveloperSkillsNetworkML311Coursera747-2022-01-01\" target=\"_blank\">\n",
        "    <img src=\"https://cf-courses-data.s3.us.cloud-object-storage.appdomain.cloud/assets/logos/SN_web_lightmode.png\" width=\"200\" alt=\"Skills Network Logo\"  />\n",
        "    </a>\n",
        "</p>\n"
      ]
    },
    {
      "cell_type": "markdown",
      "metadata": {
        "run_control": {
          "marked": true
        },
        "id": "0u8Cl0lpYO3y"
      },
      "source": [
        "# Machine Learning Foundation\n",
        "\n",
        "## Course 5, Part i: Reinforcement Learning DEMO\n"
      ]
    },
    {
      "cell_type": "markdown",
      "metadata": {
        "id": "-BdIGddpYO33"
      },
      "source": [
        "## Reinforcement Learning Example\n",
        "\n",
        "In this example from Reinforcement Learning, the task is to use tools from Machine Learning to predict how an agent should act. We will then use those predictions to drive the behavior of the agent. Ideally, our intelligent agent should get a much better score than a random agent.\n",
        "\n",
        "## Key concepts:\n",
        "\n",
        "- **Observation**: These are the states of the game. It describes where the agent currently is.\n",
        "- **Action**: These are the moves that the agent makes.\n",
        "- **Episode**: One full game played from beginning (`env.reset()`) to end (when `done == True`).\n",
        "- **Step**: Part of a game that includes one action. The game transitions from one observation to the next.\n",
        "\n",
        "## Setup\n",
        "\n",
        "This exaple uses the Python library [OpenAI Gym](https://gym.openai.com/docs/?utm_medium=Exinfluencer&utm_source=Exinfluencer&utm_content=000026UJ&utm_term=10006555&utm_id=NA-SkillsNetwork-Channel-SkillsNetworkCoursesIBMDeveloperSkillsNetworkML311Coursera747-2022-01-01).\n",
        "\n",
        "If you want to install everything (gym can run atari games.) follow [these instructions](https://github.com/openai/gym#installing-everything).\n",
        "\n",
        "Now we can build an environment using OpenAI.\n"
      ]
    },
    {
      "cell_type": "code",
      "execution_count": null,
      "metadata": {
        "colab": {
          "base_uri": "https://localhost:8080/"
        },
        "id": "RRto-OhlYO38",
        "outputId": "a4dae631-4764-4cb1-aaa5-c556fb084f24"
      },
      "outputs": [
        {
          "output_type": "stream",
          "name": "stdout",
          "text": [
            "\n",
            "Usage:   \n",
            "  pip3 install [options] <requirement specifier> [package-index-options] ...\n",
            "  pip3 install [options] -r <requirements file> [package-index-options] ...\n",
            "  pip3 install [options] [-e] <vcs project url> ...\n",
            "  pip3 install [options] [-e] <local project path> ...\n",
            "  pip3 install [options] <archive url/path> ...\n",
            "\n",
            "no such option: -y\n"
          ]
        }
      ],
      "source": [
        "!pip install -qy -c conda-forge gym==0.21.0"
      ]
    },
    {
      "cell_type": "code",
      "execution_count": null,
      "metadata": {
        "id": "x1WFm5VZYO4F"
      },
      "outputs": [],
      "source": [
        "import gym\n",
        "import pandas\n",
        "import numpy as np\n",
        "\n",
        "import warnings\n",
        "warnings.filterwarnings(\"ignore\")\n",
        "\n",
        "def warn(*args, **kwargs):\n",
        "    return None\n",
        "\n",
        "warnings.warn = warn"
      ]
    },
    {
      "cell_type": "markdown",
      "metadata": {
        "id": "E7t8p3GAYO4H"
      },
      "source": [
        "# The first part of the game uses the environment FrozenLake-V0\n",
        "\n",
        "This is a small world with 16 tiles.\n",
        "\n",
        "    SFFF\n",
        "    FHFH\n",
        "    FFFH\n",
        "    HFFG\n",
        "\n",
        "The game starts at the S tile. The object of the game is to get to the goal (G) without landing in a hole (H).\n"
      ]
    },
    {
      "cell_type": "code",
      "execution_count": null,
      "metadata": {
        "colab": {
          "base_uri": "https://localhost:8080/"
        },
        "id": "kt0GSfYQYO4K",
        "outputId": "eb1b21af-2b76-44be-d3ce-54dfd49cb5f5"
      },
      "outputs": [
        {
          "output_type": "stream",
          "name": "stdout",
          "text": [
            "0\n"
          ]
        }
      ],
      "source": [
        "# Build an environment with gym.make()\n",
        "env = gym.make('FrozenLake-v1') # Build a fresh environment\n",
        "\n",
        "# Start a new game with env.reset()\n",
        "current_observation = env.reset() # This starts a new \"episode\" and returns the initial observation\n",
        "\n",
        "# The current observation is just the current location\n",
        "print(current_observation) # Observations are just a number"
      ]
    },
    {
      "cell_type": "code",
      "execution_count": null,
      "metadata": {
        "id": "szB1GoySYO4M"
      },
      "outputs": [],
      "source": [
        "# we can print the environment if we want to look at it\n",
        "env.render()"
      ]
    },
    {
      "cell_type": "code",
      "execution_count": null,
      "metadata": {
        "colab": {
          "base_uri": "https://localhost:8080/"
        },
        "id": "yq1Nep6sYO4Q",
        "outputId": "b07364d5-a546-4fb2-cb2a-18b639777ab3"
      },
      "outputs": [
        {
          "output_type": "stream",
          "name": "stdout",
          "text": [
            "our action space: Discrete(4)\n",
            "our new action: 3\n"
          ]
        }
      ],
      "source": [
        "# the action space for this environment includes four discrete actions\n",
        "\n",
        "print(f\"our action space: {env.action_space}\")\n",
        "\n",
        "new_action = env.action_space.sample() # we can randomly sample actions\n",
        "\n",
        "print(f\"our new action: {new_action}\") # run this cell a few times to get an idea of the action space\n",
        "# what does it look like?"
      ]
    },
    {
      "cell_type": "code",
      "execution_count": null,
      "metadata": {
        "colab": {
          "base_uri": "https://localhost:8080/"
        },
        "id": "ts7loptBYO4W",
        "outputId": "115fc7f0-9894-47c9-97c8-ddba2758d726"
      },
      "outputs": [
        {
          "output_type": "stream",
          "name": "stdout",
          "text": [
            "observation: 0, reward: 0.0, done: False, info: {'prob': 0.3333333333333333}\n"
          ]
        }
      ],
      "source": [
        "# now we act! do this with the step function\n",
        "\n",
        "new_action = env.action_space.sample()\n",
        "\n",
        "observation, reward, done, info = env.step(new_action)\n",
        "\n",
        "# here's a look at what we get back\n",
        "print(f\"observation: {observation}, reward: {reward}, done: {done}, info: {info}\")\n",
        "\n",
        "env.render()"
      ]
    },
    {
      "cell_type": "code",
      "execution_count": null,
      "metadata": {
        "colab": {
          "base_uri": "https://localhost:8080/"
        },
        "id": "pqwZioVAYO4b",
        "outputId": "5d9b7740-35d6-4167-a3d6-91d1d635e245"
      },
      "outputs": [
        {
          "output_type": "stream",
          "name": "stdout",
          "text": [
            "observation: 0, reward: 0.0, done: False, info: {'prob': 0.3333333333333333}\n",
            "observation: 4, reward: 0.0, done: False, info: {'prob': 0.3333333333333333}\n",
            "observation: 0, reward: 0.0, done: False, info: {'prob': 0.3333333333333333}\n",
            "observation: 4, reward: 0.0, done: False, info: {'prob': 0.3333333333333333}\n",
            "observation: 8, reward: 0.0, done: False, info: {'prob': 0.3333333333333333}\n"
          ]
        }
      ],
      "source": [
        "# we can put this process into a for-loop and see how the game progresses\n",
        "\n",
        "current_observation = env.reset() # start a new game\n",
        "\n",
        "for i in range(5): # run 5 moves\n",
        "\n",
        "    new_action = env.action_space.sample() # same a new action\n",
        "\n",
        "    observation, reward, done, info = env.step(new_action) # step through the action and get the outputs\n",
        "\n",
        "    # here's a look at what we get back\n",
        "    print(f\"observation: {observation}, reward: {reward}, done: {done}, info: {info}\")\n",
        "\n",
        "    env.render()"
      ]
    },
    {
      "cell_type": "markdown",
      "metadata": {
        "id": "pkB12qE7YO4f"
      },
      "source": [
        "Now we can guess what each of the outputs mean.\n",
        "\n",
        "**Observation** refers to the number of the tile. The tiles appear to be numbered\n",
        "\n",
        "    0 1 2 3\n",
        "    4 5 ...\n",
        "    \n",
        "**Reward** refers to the outcome of the game. We get 1 if we win, zero otherwise.\n",
        "\n",
        "**Done** tells us if the game is still going. It goes to true when we win or fall into a hole.\n",
        "\n",
        "**info** gives extra info about the world. Here, it's probabilities. Can you guess what this means here? Perhaps the world is a bit noisy.\n"
      ]
    },
    {
      "cell_type": "code",
      "execution_count": null,
      "metadata": {
        "colab": {
          "base_uri": "https://localhost:8080/"
        },
        "id": "AtfxNMdkYO4h",
        "outputId": "e5d66e3e-4f61-4bf0-b039-1925a82d9584"
      },
      "outputs": [
        {
          "output_type": "stream",
          "name": "stdout",
          "text": [
            "action:0 observation: 0, reward: 0.0, done: False, info: {'prob': 0.3333333333333333}\n",
            "action:3 observation: 0, reward: 0.0, done: False, info: {'prob': 0.3333333333333333}\n",
            "action:0 observation: 4, reward: 0.0, done: False, info: {'prob': 0.3333333333333333}\n",
            "action:3 observation: 0, reward: 0.0, done: False, info: {'prob': 0.3333333333333333}\n",
            "action:0 observation: 4, reward: 0.0, done: False, info: {'prob': 0.3333333333333333}\n",
            "action:3 observation: 0, reward: 0.0, done: False, info: {'prob': 0.3333333333333333}\n",
            "action:3 observation: 0, reward: 0.0, done: False, info: {'prob': 0.3333333333333333}\n",
            "action:1 observation: 1, reward: 0.0, done: False, info: {'prob': 0.3333333333333333}\n",
            "action:1 observation: 0, reward: 0.0, done: False, info: {'prob': 0.3333333333333333}\n",
            "action:3 observation: 1, reward: 0.0, done: False, info: {'prob': 0.3333333333333333}\n",
            "action:0 observation: 1, reward: 0.0, done: False, info: {'prob': 0.3333333333333333}\n",
            "action:1 observation: 5, reward: 0.0, done: True, info: {'prob': 0.3333333333333333, 'TimeLimit.truncated': False}\n"
          ]
        }
      ],
      "source": [
        "# Here's how to simulate an entire episode\n",
        "# We're going to stop rendering it every time to save space\n",
        "# try running this a few. Does it ever win?\n",
        "\n",
        "current_observation = env.reset()\n",
        "done = False\n",
        "\n",
        "while not done:\n",
        "    new_action = env.action_space.sample()\n",
        "    new_observation, reward, done, info = env.step(new_action)\n",
        "    print(f\"action:{new_action} observation: {new_observation}, reward: {reward}, done: {done}, info: {info}\")"
      ]
    },
    {
      "cell_type": "markdown",
      "metadata": {
        "id": "TiOOZJGCYO4i"
      },
      "source": [
        "Things to think about:\n",
        "- What things do you notice about how the environment and actions work?\n",
        "- What do you think the actions mean?\n",
        "- When the agent performs the same action from the same place (same observation), does the same outcome happen every time?\n"
      ]
    },
    {
      "cell_type": "markdown",
      "metadata": {
        "id": "3WKCH4AfYO4k"
      },
      "source": [
        "The environment has some squares that always end the game (`H` in the render), some that don't (`F`), and one that is presumably the reward, if you get to it.\n",
        "\n",
        "The actions seem like up, down, left, and right. But they also seem stochastic. There seems to be a 1/3 chance of going into 3 different squares with each action.\n"
      ]
    },
    {
      "cell_type": "markdown",
      "metadata": {
        "id": "7GwRVy_0YO4l"
      },
      "source": [
        "# Part 1: Gather data\n",
        "\n",
        "We want to build an intelligent actor but first we have to gather data on which actions are useful.\n",
        "\n",
        "Use the code above as reference. Run a *random* agent through 1,000 or more episodes and collect data on each step.\n",
        "\n",
        "I recommend you store this data in a pandas dataframe. Each row should be a step. Your features should include the following features or similar\n",
        "\n",
        "- `observation` the observation at the beginning of the step (before acting!)\n",
        "- `action` the action randomly sampled\n",
        "- `current_reward` the reward received after the action was performed\n",
        "\n",
        "After you generate this data, it is recommended that you compute a column (such as `total_reward`, that is the total reward for the entire episode).\n",
        "\n",
        "At the end of the data gathering, you should be able to use pandas (or similar) to calculate the average total reward *per episode* of the random agent. The average score should be 1-2%, meaning that the agent very rarely wins.\n",
        "\n",
        "\n",
        "## Hints\n",
        "\n",
        "- `initial_observation = env.reset()` starts a new episode and returns the initial observation.\n",
        "- `new_observation, reward, done, info = env.step(new_action)` executes one action and returns the following observation. You may look at the documentation for the step method if you are curious about what it does.\n",
        "- `done != True` until the game is finished.\n",
        "- we are trying to maximize the reward *per episode*. Our first game gives 0 reward unless the agent travels to the goal.\n",
        "- `env.action_space.n` gives the number of possible actions in the environment. `env.action_space.sample()` allows the agent to randomly sample an action.\n",
        "- `env.observation_space.n` gives the number of possible states in the environment.\n"
      ]
    },
    {
      "cell_type": "code",
      "execution_count": null,
      "metadata": {
        "id": "3T3IEEXIYO4n"
      },
      "outputs": [],
      "source": [
        "env = gym.make('FrozenLake-v1')\n",
        "\n",
        "num_episodes = 40000\n",
        "\n",
        "life_memory = []\n",
        "for i in range(num_episodes):\n",
        "\n",
        "    # start a new episode and record all the memories\n",
        "    old_observation = env.reset()\n",
        "    done = False\n",
        "    tot_reward = 0\n",
        "    ep_memory = []\n",
        "    while not done:\n",
        "        new_action = env.action_space.sample()\n",
        "        observation, reward, done, info = env.step(new_action)\n",
        "        tot_reward += reward\n",
        "\n",
        "        ep_memory.append({\n",
        "            \"observation\": old_observation,\n",
        "            \"action\": new_action,\n",
        "            \"reward\": reward,\n",
        "            \"episode\": i,\n",
        "        })\n",
        "        old_observation = observation\n",
        "\n",
        "    # incorporate total reward\n",
        "    num_steps = len(ep_memory)\n",
        "    for i, ep_mem in enumerate(ep_memory):\n",
        "        ep_mem[\"tot_reward\"] = tot_reward\n",
        "        ep_mem[\"decay_reward\"] = i*tot_reward/num_steps\n",
        "\n",
        "    life_memory.extend(ep_memory)\n",
        "\n",
        "memory_df = pandas.DataFrame(life_memory)"
      ]
    },
    {
      "cell_type": "code",
      "execution_count": null,
      "metadata": {
        "colab": {
          "base_uri": "https://localhost:8080/",
          "height": 300
        },
        "id": "2tZjQFHfYO4p",
        "outputId": "204aec97-87ba-4b58-d78d-d66df2b9392b"
      },
      "outputs": [
        {
          "output_type": "execute_result",
          "data": {
            "text/plain": [
              "         observation         action         reward        episode  \\\n",
              "count  305555.000000  305555.000000  305555.000000  305555.000000   \n",
              "mean        2.236704       1.497842       0.001849   19990.005799   \n",
              "std         3.015742       1.118518       0.042961   11552.193186   \n",
              "min         0.000000       0.000000       0.000000       0.000000   \n",
              "25%         0.000000       0.000000       0.000000    9983.000000   \n",
              "50%         1.000000       1.000000       0.000000   19958.000000   \n",
              "75%         4.000000       2.000000       0.000000   29962.000000   \n",
              "max        14.000000       3.000000       1.000000   39999.000000   \n",
              "\n",
              "          tot_reward   decay_reward  \n",
              "count  305555.000000  305555.000000  \n",
              "mean        0.023845       0.010998  \n",
              "std         0.152567       0.083253  \n",
              "min         0.000000       0.000000  \n",
              "25%         0.000000       0.000000  \n",
              "50%         0.000000       0.000000  \n",
              "75%         0.000000       0.000000  \n",
              "max         1.000000       0.973684  "
            ],
            "text/html": [
              "\n",
              "  <div id=\"df-3f44fd2c-b369-40de-be23-4fd4ad8052e3\" class=\"colab-df-container\">\n",
              "    <div>\n",
              "<style scoped>\n",
              "    .dataframe tbody tr th:only-of-type {\n",
              "        vertical-align: middle;\n",
              "    }\n",
              "\n",
              "    .dataframe tbody tr th {\n",
              "        vertical-align: top;\n",
              "    }\n",
              "\n",
              "    .dataframe thead th {\n",
              "        text-align: right;\n",
              "    }\n",
              "</style>\n",
              "<table border=\"1\" class=\"dataframe\">\n",
              "  <thead>\n",
              "    <tr style=\"text-align: right;\">\n",
              "      <th></th>\n",
              "      <th>observation</th>\n",
              "      <th>action</th>\n",
              "      <th>reward</th>\n",
              "      <th>episode</th>\n",
              "      <th>tot_reward</th>\n",
              "      <th>decay_reward</th>\n",
              "    </tr>\n",
              "  </thead>\n",
              "  <tbody>\n",
              "    <tr>\n",
              "      <th>count</th>\n",
              "      <td>305555.000000</td>\n",
              "      <td>305555.000000</td>\n",
              "      <td>305555.000000</td>\n",
              "      <td>305555.000000</td>\n",
              "      <td>305555.000000</td>\n",
              "      <td>305555.000000</td>\n",
              "    </tr>\n",
              "    <tr>\n",
              "      <th>mean</th>\n",
              "      <td>2.236704</td>\n",
              "      <td>1.497842</td>\n",
              "      <td>0.001849</td>\n",
              "      <td>19990.005799</td>\n",
              "      <td>0.023845</td>\n",
              "      <td>0.010998</td>\n",
              "    </tr>\n",
              "    <tr>\n",
              "      <th>std</th>\n",
              "      <td>3.015742</td>\n",
              "      <td>1.118518</td>\n",
              "      <td>0.042961</td>\n",
              "      <td>11552.193186</td>\n",
              "      <td>0.152567</td>\n",
              "      <td>0.083253</td>\n",
              "    </tr>\n",
              "    <tr>\n",
              "      <th>min</th>\n",
              "      <td>0.000000</td>\n",
              "      <td>0.000000</td>\n",
              "      <td>0.000000</td>\n",
              "      <td>0.000000</td>\n",
              "      <td>0.000000</td>\n",
              "      <td>0.000000</td>\n",
              "    </tr>\n",
              "    <tr>\n",
              "      <th>25%</th>\n",
              "      <td>0.000000</td>\n",
              "      <td>0.000000</td>\n",
              "      <td>0.000000</td>\n",
              "      <td>9983.000000</td>\n",
              "      <td>0.000000</td>\n",
              "      <td>0.000000</td>\n",
              "    </tr>\n",
              "    <tr>\n",
              "      <th>50%</th>\n",
              "      <td>1.000000</td>\n",
              "      <td>1.000000</td>\n",
              "      <td>0.000000</td>\n",
              "      <td>19958.000000</td>\n",
              "      <td>0.000000</td>\n",
              "      <td>0.000000</td>\n",
              "    </tr>\n",
              "    <tr>\n",
              "      <th>75%</th>\n",
              "      <td>4.000000</td>\n",
              "      <td>2.000000</td>\n",
              "      <td>0.000000</td>\n",
              "      <td>29962.000000</td>\n",
              "      <td>0.000000</td>\n",
              "      <td>0.000000</td>\n",
              "    </tr>\n",
              "    <tr>\n",
              "      <th>max</th>\n",
              "      <td>14.000000</td>\n",
              "      <td>3.000000</td>\n",
              "      <td>1.000000</td>\n",
              "      <td>39999.000000</td>\n",
              "      <td>1.000000</td>\n",
              "      <td>0.973684</td>\n",
              "    </tr>\n",
              "  </tbody>\n",
              "</table>\n",
              "</div>\n",
              "    <div class=\"colab-df-buttons\">\n",
              "\n",
              "  <div class=\"colab-df-container\">\n",
              "    <button class=\"colab-df-convert\" onclick=\"convertToInteractive('df-3f44fd2c-b369-40de-be23-4fd4ad8052e3')\"\n",
              "            title=\"Convert this dataframe to an interactive table.\"\n",
              "            style=\"display:none;\">\n",
              "\n",
              "  <svg xmlns=\"http://www.w3.org/2000/svg\" height=\"24px\" viewBox=\"0 -960 960 960\">\n",
              "    <path d=\"M120-120v-720h720v720H120Zm60-500h600v-160H180v160Zm220 220h160v-160H400v160Zm0 220h160v-160H400v160ZM180-400h160v-160H180v160Zm440 0h160v-160H620v160ZM180-180h160v-160H180v160Zm440 0h160v-160H620v160Z\"/>\n",
              "  </svg>\n",
              "    </button>\n",
              "\n",
              "  <style>\n",
              "    .colab-df-container {\n",
              "      display:flex;\n",
              "      gap: 12px;\n",
              "    }\n",
              "\n",
              "    .colab-df-convert {\n",
              "      background-color: #E8F0FE;\n",
              "      border: none;\n",
              "      border-radius: 50%;\n",
              "      cursor: pointer;\n",
              "      display: none;\n",
              "      fill: #1967D2;\n",
              "      height: 32px;\n",
              "      padding: 0 0 0 0;\n",
              "      width: 32px;\n",
              "    }\n",
              "\n",
              "    .colab-df-convert:hover {\n",
              "      background-color: #E2EBFA;\n",
              "      box-shadow: 0px 1px 2px rgba(60, 64, 67, 0.3), 0px 1px 3px 1px rgba(60, 64, 67, 0.15);\n",
              "      fill: #174EA6;\n",
              "    }\n",
              "\n",
              "    .colab-df-buttons div {\n",
              "      margin-bottom: 4px;\n",
              "    }\n",
              "\n",
              "    [theme=dark] .colab-df-convert {\n",
              "      background-color: #3B4455;\n",
              "      fill: #D2E3FC;\n",
              "    }\n",
              "\n",
              "    [theme=dark] .colab-df-convert:hover {\n",
              "      background-color: #434B5C;\n",
              "      box-shadow: 0px 1px 3px 1px rgba(0, 0, 0, 0.15);\n",
              "      filter: drop-shadow(0px 1px 2px rgba(0, 0, 0, 0.3));\n",
              "      fill: #FFFFFF;\n",
              "    }\n",
              "  </style>\n",
              "\n",
              "    <script>\n",
              "      const buttonEl =\n",
              "        document.querySelector('#df-3f44fd2c-b369-40de-be23-4fd4ad8052e3 button.colab-df-convert');\n",
              "      buttonEl.style.display =\n",
              "        google.colab.kernel.accessAllowed ? 'block' : 'none';\n",
              "\n",
              "      async function convertToInteractive(key) {\n",
              "        const element = document.querySelector('#df-3f44fd2c-b369-40de-be23-4fd4ad8052e3');\n",
              "        const dataTable =\n",
              "          await google.colab.kernel.invokeFunction('convertToInteractive',\n",
              "                                                    [key], {});\n",
              "        if (!dataTable) return;\n",
              "\n",
              "        const docLinkHtml = 'Like what you see? Visit the ' +\n",
              "          '<a target=\"_blank\" href=https://colab.research.google.com/notebooks/data_table.ipynb>data table notebook</a>'\n",
              "          + ' to learn more about interactive tables.';\n",
              "        element.innerHTML = '';\n",
              "        dataTable['output_type'] = 'display_data';\n",
              "        await google.colab.output.renderOutput(dataTable, element);\n",
              "        const docLink = document.createElement('div');\n",
              "        docLink.innerHTML = docLinkHtml;\n",
              "        element.appendChild(docLink);\n",
              "      }\n",
              "    </script>\n",
              "  </div>\n",
              "\n",
              "\n",
              "<div id=\"df-e0c5d439-a368-41af-92de-fe4e4524d33e\">\n",
              "  <button class=\"colab-df-quickchart\" onclick=\"quickchart('df-e0c5d439-a368-41af-92de-fe4e4524d33e')\"\n",
              "            title=\"Suggest charts.\"\n",
              "            style=\"display:none;\">\n",
              "\n",
              "<svg xmlns=\"http://www.w3.org/2000/svg\" height=\"24px\"viewBox=\"0 0 24 24\"\n",
              "     width=\"24px\">\n",
              "    <g>\n",
              "        <path d=\"M19 3H5c-1.1 0-2 .9-2 2v14c0 1.1.9 2 2 2h14c1.1 0 2-.9 2-2V5c0-1.1-.9-2-2-2zM9 17H7v-7h2v7zm4 0h-2V7h2v10zm4 0h-2v-4h2v4z\"/>\n",
              "    </g>\n",
              "</svg>\n",
              "  </button>\n",
              "\n",
              "<style>\n",
              "  .colab-df-quickchart {\n",
              "      --bg-color: #E8F0FE;\n",
              "      --fill-color: #1967D2;\n",
              "      --hover-bg-color: #E2EBFA;\n",
              "      --hover-fill-color: #174EA6;\n",
              "      --disabled-fill-color: #AAA;\n",
              "      --disabled-bg-color: #DDD;\n",
              "  }\n",
              "\n",
              "  [theme=dark] .colab-df-quickchart {\n",
              "      --bg-color: #3B4455;\n",
              "      --fill-color: #D2E3FC;\n",
              "      --hover-bg-color: #434B5C;\n",
              "      --hover-fill-color: #FFFFFF;\n",
              "      --disabled-bg-color: #3B4455;\n",
              "      --disabled-fill-color: #666;\n",
              "  }\n",
              "\n",
              "  .colab-df-quickchart {\n",
              "    background-color: var(--bg-color);\n",
              "    border: none;\n",
              "    border-radius: 50%;\n",
              "    cursor: pointer;\n",
              "    display: none;\n",
              "    fill: var(--fill-color);\n",
              "    height: 32px;\n",
              "    padding: 0;\n",
              "    width: 32px;\n",
              "  }\n",
              "\n",
              "  .colab-df-quickchart:hover {\n",
              "    background-color: var(--hover-bg-color);\n",
              "    box-shadow: 0 1px 2px rgba(60, 64, 67, 0.3), 0 1px 3px 1px rgba(60, 64, 67, 0.15);\n",
              "    fill: var(--button-hover-fill-color);\n",
              "  }\n",
              "\n",
              "  .colab-df-quickchart-complete:disabled,\n",
              "  .colab-df-quickchart-complete:disabled:hover {\n",
              "    background-color: var(--disabled-bg-color);\n",
              "    fill: var(--disabled-fill-color);\n",
              "    box-shadow: none;\n",
              "  }\n",
              "\n",
              "  .colab-df-spinner {\n",
              "    border: 2px solid var(--fill-color);\n",
              "    border-color: transparent;\n",
              "    border-bottom-color: var(--fill-color);\n",
              "    animation:\n",
              "      spin 1s steps(1) infinite;\n",
              "  }\n",
              "\n",
              "  @keyframes spin {\n",
              "    0% {\n",
              "      border-color: transparent;\n",
              "      border-bottom-color: var(--fill-color);\n",
              "      border-left-color: var(--fill-color);\n",
              "    }\n",
              "    20% {\n",
              "      border-color: transparent;\n",
              "      border-left-color: var(--fill-color);\n",
              "      border-top-color: var(--fill-color);\n",
              "    }\n",
              "    30% {\n",
              "      border-color: transparent;\n",
              "      border-left-color: var(--fill-color);\n",
              "      border-top-color: var(--fill-color);\n",
              "      border-right-color: var(--fill-color);\n",
              "    }\n",
              "    40% {\n",
              "      border-color: transparent;\n",
              "      border-right-color: var(--fill-color);\n",
              "      border-top-color: var(--fill-color);\n",
              "    }\n",
              "    60% {\n",
              "      border-color: transparent;\n",
              "      border-right-color: var(--fill-color);\n",
              "    }\n",
              "    80% {\n",
              "      border-color: transparent;\n",
              "      border-right-color: var(--fill-color);\n",
              "      border-bottom-color: var(--fill-color);\n",
              "    }\n",
              "    90% {\n",
              "      border-color: transparent;\n",
              "      border-bottom-color: var(--fill-color);\n",
              "    }\n",
              "  }\n",
              "</style>\n",
              "\n",
              "  <script>\n",
              "    async function quickchart(key) {\n",
              "      const quickchartButtonEl =\n",
              "        document.querySelector('#' + key + ' button');\n",
              "      quickchartButtonEl.disabled = true;  // To prevent multiple clicks.\n",
              "      quickchartButtonEl.classList.add('colab-df-spinner');\n",
              "      try {\n",
              "        const charts = await google.colab.kernel.invokeFunction(\n",
              "            'suggestCharts', [key], {});\n",
              "      } catch (error) {\n",
              "        console.error('Error during call to suggestCharts:', error);\n",
              "      }\n",
              "      quickchartButtonEl.classList.remove('colab-df-spinner');\n",
              "      quickchartButtonEl.classList.add('colab-df-quickchart-complete');\n",
              "    }\n",
              "    (() => {\n",
              "      let quickchartButtonEl =\n",
              "        document.querySelector('#df-e0c5d439-a368-41af-92de-fe4e4524d33e button');\n",
              "      quickchartButtonEl.style.display =\n",
              "        google.colab.kernel.accessAllowed ? 'block' : 'none';\n",
              "    })();\n",
              "  </script>\n",
              "</div>\n",
              "    </div>\n",
              "  </div>\n"
            ]
          },
          "metadata": {},
          "execution_count": 10
        }
      ],
      "source": [
        "memory_df.describe()"
      ]
    },
    {
      "cell_type": "code",
      "execution_count": null,
      "metadata": {
        "colab": {
          "base_uri": "https://localhost:8080/"
        },
        "id": "rVdDRZw_YO4r",
        "outputId": "fe8033b8-495a-4ea9-968b-a627ffd1e411"
      },
      "outputs": [
        {
          "output_type": "execute_result",
          "data": {
            "text/plain": [
              "(305555, 6)"
            ]
          },
          "metadata": {},
          "execution_count": 11
        }
      ],
      "source": [
        "memory_df.shape"
      ]
    },
    {
      "cell_type": "code",
      "execution_count": null,
      "metadata": {
        "colab": {
          "base_uri": "https://localhost:8080/"
        },
        "id": "9X9TpZ2kYO4s",
        "outputId": "0fc324c0-5dbc-47ca-d55a-9b2826f1a55e"
      },
      "outputs": [
        {
          "output_type": "execute_result",
          "data": {
            "text/plain": [
              "0.014125"
            ]
          },
          "metadata": {},
          "execution_count": 12
        }
      ],
      "source": [
        "memory_df.groupby(\"episode\").reward.sum().mean()"
      ]
    },
    {
      "cell_type": "markdown",
      "metadata": {
        "id": "P3TDAqjXYO4u"
      },
      "source": [
        "# Step 2: Predict\n",
        "\n",
        "Now that you have a bunch of data put it into a format that you can model. The goal here is to guide the behavior of our agent. Our agent will be given an observation and need to decide between the possible actions given that observation and the prediction of the model.\n",
        "\n",
        "Remember, you're a data scientist! Be creative.\n",
        "\n",
        "It might be helpful to work backwards. Ultimately, you will write something like:\n",
        "\n",
        "```\n",
        "def convert_to_row(obs, act):\n",
        "    # expertly written code\n",
        "    return row_of_obs_act\n",
        "    \n",
        "rows = [convert_to_row(current_obs, act) for act in possible_actions]\n",
        "\n",
        "pred_outcome = model.predict(rows)\n",
        "```\n",
        "\n",
        "So, you will need to design a quantity that you can ask your model to predict for every possible action-observation pair. Think a bit about what this quantity should be. Should the model try to predict the immediate reward for each action? If so, how would it know where to go at the beginning of each episode when all moves give zero reward but when some moves bring it closer to the goal than others.\n"
      ]
    },
    {
      "cell_type": "code",
      "execution_count": null,
      "metadata": {
        "colab": {
          "base_uri": "https://localhost:8080/",
          "height": 75
        },
        "id": "8j6z_yQLYO4w",
        "outputId": "f9ec4f4d-b804-4646-d743-46e0194bf57e"
      },
      "outputs": [
        {
          "output_type": "execute_result",
          "data": {
            "text/plain": [
              "ExtraTreesRegressor(n_estimators=50)"
            ],
            "text/html": [
              "<style>#sk-container-id-1 {color: black;background-color: white;}#sk-container-id-1 pre{padding: 0;}#sk-container-id-1 div.sk-toggleable {background-color: white;}#sk-container-id-1 label.sk-toggleable__label {cursor: pointer;display: block;width: 100%;margin-bottom: 0;padding: 0.3em;box-sizing: border-box;text-align: center;}#sk-container-id-1 label.sk-toggleable__label-arrow:before {content: \"▸\";float: left;margin-right: 0.25em;color: #696969;}#sk-container-id-1 label.sk-toggleable__label-arrow:hover:before {color: black;}#sk-container-id-1 div.sk-estimator:hover label.sk-toggleable__label-arrow:before {color: black;}#sk-container-id-1 div.sk-toggleable__content {max-height: 0;max-width: 0;overflow: hidden;text-align: left;background-color: #f0f8ff;}#sk-container-id-1 div.sk-toggleable__content pre {margin: 0.2em;color: black;border-radius: 0.25em;background-color: #f0f8ff;}#sk-container-id-1 input.sk-toggleable__control:checked~div.sk-toggleable__content {max-height: 200px;max-width: 100%;overflow: auto;}#sk-container-id-1 input.sk-toggleable__control:checked~label.sk-toggleable__label-arrow:before {content: \"▾\";}#sk-container-id-1 div.sk-estimator input.sk-toggleable__control:checked~label.sk-toggleable__label {background-color: #d4ebff;}#sk-container-id-1 div.sk-label input.sk-toggleable__control:checked~label.sk-toggleable__label {background-color: #d4ebff;}#sk-container-id-1 input.sk-hidden--visually {border: 0;clip: rect(1px 1px 1px 1px);clip: rect(1px, 1px, 1px, 1px);height: 1px;margin: -1px;overflow: hidden;padding: 0;position: absolute;width: 1px;}#sk-container-id-1 div.sk-estimator {font-family: monospace;background-color: #f0f8ff;border: 1px dotted black;border-radius: 0.25em;box-sizing: border-box;margin-bottom: 0.5em;}#sk-container-id-1 div.sk-estimator:hover {background-color: #d4ebff;}#sk-container-id-1 div.sk-parallel-item::after {content: \"\";width: 100%;border-bottom: 1px solid gray;flex-grow: 1;}#sk-container-id-1 div.sk-label:hover label.sk-toggleable__label {background-color: #d4ebff;}#sk-container-id-1 div.sk-serial::before {content: \"\";position: absolute;border-left: 1px solid gray;box-sizing: border-box;top: 0;bottom: 0;left: 50%;z-index: 0;}#sk-container-id-1 div.sk-serial {display: flex;flex-direction: column;align-items: center;background-color: white;padding-right: 0.2em;padding-left: 0.2em;position: relative;}#sk-container-id-1 div.sk-item {position: relative;z-index: 1;}#sk-container-id-1 div.sk-parallel {display: flex;align-items: stretch;justify-content: center;background-color: white;position: relative;}#sk-container-id-1 div.sk-item::before, #sk-container-id-1 div.sk-parallel-item::before {content: \"\";position: absolute;border-left: 1px solid gray;box-sizing: border-box;top: 0;bottom: 0;left: 50%;z-index: -1;}#sk-container-id-1 div.sk-parallel-item {display: flex;flex-direction: column;z-index: 1;position: relative;background-color: white;}#sk-container-id-1 div.sk-parallel-item:first-child::after {align-self: flex-end;width: 50%;}#sk-container-id-1 div.sk-parallel-item:last-child::after {align-self: flex-start;width: 50%;}#sk-container-id-1 div.sk-parallel-item:only-child::after {width: 0;}#sk-container-id-1 div.sk-dashed-wrapped {border: 1px dashed gray;margin: 0 0.4em 0.5em 0.4em;box-sizing: border-box;padding-bottom: 0.4em;background-color: white;}#sk-container-id-1 div.sk-label label {font-family: monospace;font-weight: bold;display: inline-block;line-height: 1.2em;}#sk-container-id-1 div.sk-label-container {text-align: center;}#sk-container-id-1 div.sk-container {/* jupyter's `normalize.less` sets `[hidden] { display: none; }` but bootstrap.min.css set `[hidden] { display: none !important; }` so we also need the `!important` here to be able to override the default hidden behavior on the sphinx rendered scikit-learn.org. See: https://github.com/scikit-learn/scikit-learn/issues/21755 */display: inline-block !important;position: relative;}#sk-container-id-1 div.sk-text-repr-fallback {display: none;}</style><div id=\"sk-container-id-1\" class=\"sk-top-container\"><div class=\"sk-text-repr-fallback\"><pre>ExtraTreesRegressor(n_estimators=50)</pre><b>In a Jupyter environment, please rerun this cell to show the HTML representation or trust the notebook. <br />On GitHub, the HTML representation is unable to render, please try loading this page with nbviewer.org.</b></div><div class=\"sk-container\" hidden><div class=\"sk-item\"><div class=\"sk-estimator sk-toggleable\"><input class=\"sk-toggleable__control sk-hidden--visually\" id=\"sk-estimator-id-1\" type=\"checkbox\" checked><label for=\"sk-estimator-id-1\" class=\"sk-toggleable__label sk-toggleable__label-arrow\">ExtraTreesRegressor</label><div class=\"sk-toggleable__content\"><pre>ExtraTreesRegressor(n_estimators=50)</pre></div></div></div></div></div>"
            ]
          },
          "metadata": {},
          "execution_count": 13
        }
      ],
      "source": [
        "from sklearn.ensemble import RandomForestRegressor, ExtraTreesRegressor\n",
        "from sklearn.svm import SVR\n",
        "\n",
        "model = ExtraTreesRegressor(n_estimators=50)\n",
        "# model = SVR()\n",
        "y = 0.5*memory_df.reward + 0.1*memory_df.decay_reward + memory_df.tot_reward\n",
        "x = memory_df[[\"observation\", \"action\"]]\n",
        "model.fit(x, y)"
      ]
    },
    {
      "cell_type": "markdown",
      "metadata": {
        "id": "rX0pOEI5YO4y"
      },
      "source": [
        "# Step 3: Act\n",
        "\n",
        "Now that you have a model that predicts the desired behavior, let's act on it! Modify the code you used to gather data so that you replace the random decision with an intelligent one.\n",
        "\n",
        "We started out winning ~1.5% of the games with the random agent. How well can you do? You should be able to get your model to do at least 10x better (so 15%). Can you get ~50%?\n",
        "\n",
        "If you're having trouble, tune your model. Try different representations of the observation and action spaces. Try different models.\n"
      ]
    },
    {
      "cell_type": "code",
      "execution_count": null,
      "metadata": {
        "colab": {
          "base_uri": "https://localhost:8080/"
        },
        "id": "g6HvVbKAYO4z",
        "outputId": "338a491c-f0ea-43c8-8977-7bd10749c8e2"
      },
      "outputs": [
        {
          "output_type": "execute_result",
          "data": {
            "text/plain": [
              "0.634"
            ]
          },
          "metadata": {},
          "execution_count": 14
        }
      ],
      "source": [
        "model = RandomForestRegressor()\n",
        "y = 1*memory_df.reward + memory_df.tot_reward + .1*memory_df.decay_reward\n",
        "x = memory_df[[\"observation\", \"action\"]]\n",
        "model.fit(x, y)\n",
        "\n",
        "num_episodes = 500\n",
        "random_per = 0\n",
        "\n",
        "life_memory = []\n",
        "for i in range(num_episodes):\n",
        "    # Start a new episode and record all the memories.\n",
        "    old_observation = env.reset()\n",
        "    done = False\n",
        "    tot_reward = 0\n",
        "    ep_memory = []\n",
        "    while not done:\n",
        "        if np.random.rand() < random_per:\n",
        "            new_action = env.action_space.sample()\n",
        "        else:\n",
        "            pred_in = [[old_observation,i] for i in range(4)]\n",
        "            new_action = np.argmax(model.predict(pred_in))\n",
        "        observation, reward, done, info = env.step(new_action)\n",
        "        tot_reward += reward\n",
        "\n",
        "        ep_memory.append({\n",
        "            \"observation\": old_observation,\n",
        "            \"action\": new_action,\n",
        "            \"reward\": reward,\n",
        "            \"episode\": i,\n",
        "        })\n",
        "        old_observation = observation\n",
        "\n",
        "    # incorporate total reward\n",
        "    for ep_mem in ep_memory:\n",
        "        ep_mem[\"tot_reward\"] = tot_reward\n",
        "\n",
        "    life_memory.extend(ep_memory)\n",
        "\n",
        "memory_df2 = pandas.DataFrame(life_memory)\n",
        "\n",
        "# rf.fit(memory_df[[\"observation\", \"action\"]], memory_df[\"comb_reward\"])\n",
        "\n",
        "# Score\n",
        "# Much better!\n",
        "memory_df2.groupby(\"episode\").reward.sum().mean()"
      ]
    },
    {
      "cell_type": "code",
      "execution_count": null,
      "metadata": {
        "id": "NKAdcOYWYO40"
      },
      "outputs": [],
      "source": [
        "y = .1*memory_df.reward + 1*memory_df.decay_reward + 1*memory_df.tot_reward"
      ]
    },
    {
      "cell_type": "markdown",
      "metadata": {
        "id": "EPnps_WIYO41"
      },
      "source": [
        "# Extension: Pole cart\n",
        "\n",
        "If time permits, try your hand at pole cart (`env = gym.make('CartPole-v0')`).\n",
        "\n",
        "Notice that the observation space is quite different. It's no longer discrete--instead we have 4 continuous values. You'll have to store these differently from how you did with Frozenlake.\n",
        "\n",
        "My random actor actually does surprisingly well (avg ~22). But my intelligent agent is able to score ~99. Can you beat me?\n"
      ]
    },
    {
      "cell_type": "markdown",
      "metadata": {
        "id": "ZT9QZ7ovYO42"
      },
      "source": [
        "# Pole cart\n"
      ]
    },
    {
      "cell_type": "code",
      "execution_count": null,
      "metadata": {
        "id": "B9uWeCmJYO42"
      },
      "outputs": [],
      "source": [
        "env = gym.make('CartPole-v1')"
      ]
    },
    {
      "cell_type": "code",
      "execution_count": null,
      "metadata": {
        "colab": {
          "base_uri": "https://localhost:8080/"
        },
        "id": "sZQBSk42YO43",
        "outputId": "476cdd7d-d51b-4317-b808-0b0dfa538b8d"
      },
      "outputs": [
        {
          "output_type": "execute_result",
          "data": {
            "text/plain": [
              "22.634"
            ]
          },
          "metadata": {},
          "execution_count": 17
        }
      ],
      "source": [
        "# now we can build a toy world!\n",
        "num_episodes = 1000\n",
        "\n",
        "life_memory = []\n",
        "for i in range(num_episodes):\n",
        "\n",
        "    # start a new episode and record all the memories\n",
        "    old_observation = env.reset()\n",
        "    done = False\n",
        "    tot_reward = 0\n",
        "    ep_memory = []\n",
        "    while not done:\n",
        "        new_action = env.action_space.sample()\n",
        "        observation, reward, done, info = env.step(new_action)\n",
        "        tot_reward += reward\n",
        "\n",
        "        ep_memory.append({\n",
        "            \"obs0\": old_observation[0],\n",
        "            \"obs1\": old_observation[1],\n",
        "            \"obs2\": old_observation[2],\n",
        "            \"obs3\": old_observation[3],\n",
        "            \"action\": new_action,\n",
        "            \"reward\": reward,\n",
        "            \"episode\": i,\n",
        "        })\n",
        "        old_observation = observation\n",
        "\n",
        "    # incorporate total reward\n",
        "    for ep_mem in ep_memory:\n",
        "        ep_mem[\"tot_reward\"] = tot_reward\n",
        "\n",
        "    life_memory.extend(ep_memory)\n",
        "\n",
        "memory_df = pandas.DataFrame(life_memory)\n",
        "\n",
        "memory_df.groupby(\"episode\").reward.sum().mean()"
      ]
    },
    {
      "cell_type": "code",
      "execution_count": null,
      "metadata": {
        "colab": {
          "base_uri": "https://localhost:8080/",
          "height": 300
        },
        "id": "he3ReOY2YO45",
        "outputId": "446a65b0-bdeb-4041-9cfa-cebbea850d5d"
      },
      "outputs": [
        {
          "output_type": "execute_result",
          "data": {
            "text/plain": [
              "               obs0          obs1          obs2          obs3        action  \\\n",
              "count  22634.000000  22634.000000  22634.000000  22634.000000  22634.000000   \n",
              "mean      -0.001425     -0.017184      0.001958      0.027186      0.494477   \n",
              "std        0.103037      0.531209      0.092158      0.773949      0.499981   \n",
              "min       -1.196628     -2.660632     -0.209354     -3.052820      0.000000   \n",
              "25%       -0.043623     -0.370482     -0.052612     -0.465720      0.000000   \n",
              "50%       -0.003630     -0.010132      0.002449      0.010575      0.000000   \n",
              "75%        0.038880      0.339441      0.056510      0.535715      1.000000   \n",
              "max        0.996515      3.194331      0.209430      3.258623      1.000000   \n",
              "\n",
              "        reward       episode    tot_reward  \n",
              "count  22634.0  22634.000000  22634.000000  \n",
              "mean       1.0    512.067730     29.842273  \n",
              "std        0.0    287.324146     18.231697  \n",
              "min        1.0      0.000000      8.000000  \n",
              "25%        1.0    260.000000     17.000000  \n",
              "50%        1.0    519.000000     25.000000  \n",
              "75%        1.0    761.000000     37.000000  \n",
              "max        1.0    999.000000    111.000000  "
            ],
            "text/html": [
              "\n",
              "  <div id=\"df-b86ecdc7-683a-4e2e-8e24-5850a8e89d94\" class=\"colab-df-container\">\n",
              "    <div>\n",
              "<style scoped>\n",
              "    .dataframe tbody tr th:only-of-type {\n",
              "        vertical-align: middle;\n",
              "    }\n",
              "\n",
              "    .dataframe tbody tr th {\n",
              "        vertical-align: top;\n",
              "    }\n",
              "\n",
              "    .dataframe thead th {\n",
              "        text-align: right;\n",
              "    }\n",
              "</style>\n",
              "<table border=\"1\" class=\"dataframe\">\n",
              "  <thead>\n",
              "    <tr style=\"text-align: right;\">\n",
              "      <th></th>\n",
              "      <th>obs0</th>\n",
              "      <th>obs1</th>\n",
              "      <th>obs2</th>\n",
              "      <th>obs3</th>\n",
              "      <th>action</th>\n",
              "      <th>reward</th>\n",
              "      <th>episode</th>\n",
              "      <th>tot_reward</th>\n",
              "    </tr>\n",
              "  </thead>\n",
              "  <tbody>\n",
              "    <tr>\n",
              "      <th>count</th>\n",
              "      <td>22634.000000</td>\n",
              "      <td>22634.000000</td>\n",
              "      <td>22634.000000</td>\n",
              "      <td>22634.000000</td>\n",
              "      <td>22634.000000</td>\n",
              "      <td>22634.0</td>\n",
              "      <td>22634.000000</td>\n",
              "      <td>22634.000000</td>\n",
              "    </tr>\n",
              "    <tr>\n",
              "      <th>mean</th>\n",
              "      <td>-0.001425</td>\n",
              "      <td>-0.017184</td>\n",
              "      <td>0.001958</td>\n",
              "      <td>0.027186</td>\n",
              "      <td>0.494477</td>\n",
              "      <td>1.0</td>\n",
              "      <td>512.067730</td>\n",
              "      <td>29.842273</td>\n",
              "    </tr>\n",
              "    <tr>\n",
              "      <th>std</th>\n",
              "      <td>0.103037</td>\n",
              "      <td>0.531209</td>\n",
              "      <td>0.092158</td>\n",
              "      <td>0.773949</td>\n",
              "      <td>0.499981</td>\n",
              "      <td>0.0</td>\n",
              "      <td>287.324146</td>\n",
              "      <td>18.231697</td>\n",
              "    </tr>\n",
              "    <tr>\n",
              "      <th>min</th>\n",
              "      <td>-1.196628</td>\n",
              "      <td>-2.660632</td>\n",
              "      <td>-0.209354</td>\n",
              "      <td>-3.052820</td>\n",
              "      <td>0.000000</td>\n",
              "      <td>1.0</td>\n",
              "      <td>0.000000</td>\n",
              "      <td>8.000000</td>\n",
              "    </tr>\n",
              "    <tr>\n",
              "      <th>25%</th>\n",
              "      <td>-0.043623</td>\n",
              "      <td>-0.370482</td>\n",
              "      <td>-0.052612</td>\n",
              "      <td>-0.465720</td>\n",
              "      <td>0.000000</td>\n",
              "      <td>1.0</td>\n",
              "      <td>260.000000</td>\n",
              "      <td>17.000000</td>\n",
              "    </tr>\n",
              "    <tr>\n",
              "      <th>50%</th>\n",
              "      <td>-0.003630</td>\n",
              "      <td>-0.010132</td>\n",
              "      <td>0.002449</td>\n",
              "      <td>0.010575</td>\n",
              "      <td>0.000000</td>\n",
              "      <td>1.0</td>\n",
              "      <td>519.000000</td>\n",
              "      <td>25.000000</td>\n",
              "    </tr>\n",
              "    <tr>\n",
              "      <th>75%</th>\n",
              "      <td>0.038880</td>\n",
              "      <td>0.339441</td>\n",
              "      <td>0.056510</td>\n",
              "      <td>0.535715</td>\n",
              "      <td>1.000000</td>\n",
              "      <td>1.0</td>\n",
              "      <td>761.000000</td>\n",
              "      <td>37.000000</td>\n",
              "    </tr>\n",
              "    <tr>\n",
              "      <th>max</th>\n",
              "      <td>0.996515</td>\n",
              "      <td>3.194331</td>\n",
              "      <td>0.209430</td>\n",
              "      <td>3.258623</td>\n",
              "      <td>1.000000</td>\n",
              "      <td>1.0</td>\n",
              "      <td>999.000000</td>\n",
              "      <td>111.000000</td>\n",
              "    </tr>\n",
              "  </tbody>\n",
              "</table>\n",
              "</div>\n",
              "    <div class=\"colab-df-buttons\">\n",
              "\n",
              "  <div class=\"colab-df-container\">\n",
              "    <button class=\"colab-df-convert\" onclick=\"convertToInteractive('df-b86ecdc7-683a-4e2e-8e24-5850a8e89d94')\"\n",
              "            title=\"Convert this dataframe to an interactive table.\"\n",
              "            style=\"display:none;\">\n",
              "\n",
              "  <svg xmlns=\"http://www.w3.org/2000/svg\" height=\"24px\" viewBox=\"0 -960 960 960\">\n",
              "    <path d=\"M120-120v-720h720v720H120Zm60-500h600v-160H180v160Zm220 220h160v-160H400v160Zm0 220h160v-160H400v160ZM180-400h160v-160H180v160Zm440 0h160v-160H620v160ZM180-180h160v-160H180v160Zm440 0h160v-160H620v160Z\"/>\n",
              "  </svg>\n",
              "    </button>\n",
              "\n",
              "  <style>\n",
              "    .colab-df-container {\n",
              "      display:flex;\n",
              "      gap: 12px;\n",
              "    }\n",
              "\n",
              "    .colab-df-convert {\n",
              "      background-color: #E8F0FE;\n",
              "      border: none;\n",
              "      border-radius: 50%;\n",
              "      cursor: pointer;\n",
              "      display: none;\n",
              "      fill: #1967D2;\n",
              "      height: 32px;\n",
              "      padding: 0 0 0 0;\n",
              "      width: 32px;\n",
              "    }\n",
              "\n",
              "    .colab-df-convert:hover {\n",
              "      background-color: #E2EBFA;\n",
              "      box-shadow: 0px 1px 2px rgba(60, 64, 67, 0.3), 0px 1px 3px 1px rgba(60, 64, 67, 0.15);\n",
              "      fill: #174EA6;\n",
              "    }\n",
              "\n",
              "    .colab-df-buttons div {\n",
              "      margin-bottom: 4px;\n",
              "    }\n",
              "\n",
              "    [theme=dark] .colab-df-convert {\n",
              "      background-color: #3B4455;\n",
              "      fill: #D2E3FC;\n",
              "    }\n",
              "\n",
              "    [theme=dark] .colab-df-convert:hover {\n",
              "      background-color: #434B5C;\n",
              "      box-shadow: 0px 1px 3px 1px rgba(0, 0, 0, 0.15);\n",
              "      filter: drop-shadow(0px 1px 2px rgba(0, 0, 0, 0.3));\n",
              "      fill: #FFFFFF;\n",
              "    }\n",
              "  </style>\n",
              "\n",
              "    <script>\n",
              "      const buttonEl =\n",
              "        document.querySelector('#df-b86ecdc7-683a-4e2e-8e24-5850a8e89d94 button.colab-df-convert');\n",
              "      buttonEl.style.display =\n",
              "        google.colab.kernel.accessAllowed ? 'block' : 'none';\n",
              "\n",
              "      async function convertToInteractive(key) {\n",
              "        const element = document.querySelector('#df-b86ecdc7-683a-4e2e-8e24-5850a8e89d94');\n",
              "        const dataTable =\n",
              "          await google.colab.kernel.invokeFunction('convertToInteractive',\n",
              "                                                    [key], {});\n",
              "        if (!dataTable) return;\n",
              "\n",
              "        const docLinkHtml = 'Like what you see? Visit the ' +\n",
              "          '<a target=\"_blank\" href=https://colab.research.google.com/notebooks/data_table.ipynb>data table notebook</a>'\n",
              "          + ' to learn more about interactive tables.';\n",
              "        element.innerHTML = '';\n",
              "        dataTable['output_type'] = 'display_data';\n",
              "        await google.colab.output.renderOutput(dataTable, element);\n",
              "        const docLink = document.createElement('div');\n",
              "        docLink.innerHTML = docLinkHtml;\n",
              "        element.appendChild(docLink);\n",
              "      }\n",
              "    </script>\n",
              "  </div>\n",
              "\n",
              "\n",
              "<div id=\"df-e5cf55e2-826f-49e7-8970-336195742605\">\n",
              "  <button class=\"colab-df-quickchart\" onclick=\"quickchart('df-e5cf55e2-826f-49e7-8970-336195742605')\"\n",
              "            title=\"Suggest charts.\"\n",
              "            style=\"display:none;\">\n",
              "\n",
              "<svg xmlns=\"http://www.w3.org/2000/svg\" height=\"24px\"viewBox=\"0 0 24 24\"\n",
              "     width=\"24px\">\n",
              "    <g>\n",
              "        <path d=\"M19 3H5c-1.1 0-2 .9-2 2v14c0 1.1.9 2 2 2h14c1.1 0 2-.9 2-2V5c0-1.1-.9-2-2-2zM9 17H7v-7h2v7zm4 0h-2V7h2v10zm4 0h-2v-4h2v4z\"/>\n",
              "    </g>\n",
              "</svg>\n",
              "  </button>\n",
              "\n",
              "<style>\n",
              "  .colab-df-quickchart {\n",
              "      --bg-color: #E8F0FE;\n",
              "      --fill-color: #1967D2;\n",
              "      --hover-bg-color: #E2EBFA;\n",
              "      --hover-fill-color: #174EA6;\n",
              "      --disabled-fill-color: #AAA;\n",
              "      --disabled-bg-color: #DDD;\n",
              "  }\n",
              "\n",
              "  [theme=dark] .colab-df-quickchart {\n",
              "      --bg-color: #3B4455;\n",
              "      --fill-color: #D2E3FC;\n",
              "      --hover-bg-color: #434B5C;\n",
              "      --hover-fill-color: #FFFFFF;\n",
              "      --disabled-bg-color: #3B4455;\n",
              "      --disabled-fill-color: #666;\n",
              "  }\n",
              "\n",
              "  .colab-df-quickchart {\n",
              "    background-color: var(--bg-color);\n",
              "    border: none;\n",
              "    border-radius: 50%;\n",
              "    cursor: pointer;\n",
              "    display: none;\n",
              "    fill: var(--fill-color);\n",
              "    height: 32px;\n",
              "    padding: 0;\n",
              "    width: 32px;\n",
              "  }\n",
              "\n",
              "  .colab-df-quickchart:hover {\n",
              "    background-color: var(--hover-bg-color);\n",
              "    box-shadow: 0 1px 2px rgba(60, 64, 67, 0.3), 0 1px 3px 1px rgba(60, 64, 67, 0.15);\n",
              "    fill: var(--button-hover-fill-color);\n",
              "  }\n",
              "\n",
              "  .colab-df-quickchart-complete:disabled,\n",
              "  .colab-df-quickchart-complete:disabled:hover {\n",
              "    background-color: var(--disabled-bg-color);\n",
              "    fill: var(--disabled-fill-color);\n",
              "    box-shadow: none;\n",
              "  }\n",
              "\n",
              "  .colab-df-spinner {\n",
              "    border: 2px solid var(--fill-color);\n",
              "    border-color: transparent;\n",
              "    border-bottom-color: var(--fill-color);\n",
              "    animation:\n",
              "      spin 1s steps(1) infinite;\n",
              "  }\n",
              "\n",
              "  @keyframes spin {\n",
              "    0% {\n",
              "      border-color: transparent;\n",
              "      border-bottom-color: var(--fill-color);\n",
              "      border-left-color: var(--fill-color);\n",
              "    }\n",
              "    20% {\n",
              "      border-color: transparent;\n",
              "      border-left-color: var(--fill-color);\n",
              "      border-top-color: var(--fill-color);\n",
              "    }\n",
              "    30% {\n",
              "      border-color: transparent;\n",
              "      border-left-color: var(--fill-color);\n",
              "      border-top-color: var(--fill-color);\n",
              "      border-right-color: var(--fill-color);\n",
              "    }\n",
              "    40% {\n",
              "      border-color: transparent;\n",
              "      border-right-color: var(--fill-color);\n",
              "      border-top-color: var(--fill-color);\n",
              "    }\n",
              "    60% {\n",
              "      border-color: transparent;\n",
              "      border-right-color: var(--fill-color);\n",
              "    }\n",
              "    80% {\n",
              "      border-color: transparent;\n",
              "      border-right-color: var(--fill-color);\n",
              "      border-bottom-color: var(--fill-color);\n",
              "    }\n",
              "    90% {\n",
              "      border-color: transparent;\n",
              "      border-bottom-color: var(--fill-color);\n",
              "    }\n",
              "  }\n",
              "</style>\n",
              "\n",
              "  <script>\n",
              "    async function quickchart(key) {\n",
              "      const quickchartButtonEl =\n",
              "        document.querySelector('#' + key + ' button');\n",
              "      quickchartButtonEl.disabled = true;  // To prevent multiple clicks.\n",
              "      quickchartButtonEl.classList.add('colab-df-spinner');\n",
              "      try {\n",
              "        const charts = await google.colab.kernel.invokeFunction(\n",
              "            'suggestCharts', [key], {});\n",
              "      } catch (error) {\n",
              "        console.error('Error during call to suggestCharts:', error);\n",
              "      }\n",
              "      quickchartButtonEl.classList.remove('colab-df-spinner');\n",
              "      quickchartButtonEl.classList.add('colab-df-quickchart-complete');\n",
              "    }\n",
              "    (() => {\n",
              "      let quickchartButtonEl =\n",
              "        document.querySelector('#df-e5cf55e2-826f-49e7-8970-336195742605 button');\n",
              "      quickchartButtonEl.style.display =\n",
              "        google.colab.kernel.accessAllowed ? 'block' : 'none';\n",
              "    })();\n",
              "  </script>\n",
              "</div>\n",
              "    </div>\n",
              "  </div>\n"
            ]
          },
          "metadata": {},
          "execution_count": 18
        }
      ],
      "source": [
        "memory_df.describe()"
      ]
    },
    {
      "cell_type": "code",
      "execution_count": null,
      "metadata": {
        "colab": {
          "base_uri": "https://localhost:8080/",
          "height": 75
        },
        "id": "Bwapug69YO46",
        "outputId": "1709a4dc-b952-4a52-a23a-75ab42d78c9e"
      },
      "outputs": [
        {
          "output_type": "execute_result",
          "data": {
            "text/plain": [
              "ExtraTreesRegressor(n_estimators=50)"
            ],
            "text/html": [
              "<style>#sk-container-id-2 {color: black;background-color: white;}#sk-container-id-2 pre{padding: 0;}#sk-container-id-2 div.sk-toggleable {background-color: white;}#sk-container-id-2 label.sk-toggleable__label {cursor: pointer;display: block;width: 100%;margin-bottom: 0;padding: 0.3em;box-sizing: border-box;text-align: center;}#sk-container-id-2 label.sk-toggleable__label-arrow:before {content: \"▸\";float: left;margin-right: 0.25em;color: #696969;}#sk-container-id-2 label.sk-toggleable__label-arrow:hover:before {color: black;}#sk-container-id-2 div.sk-estimator:hover label.sk-toggleable__label-arrow:before {color: black;}#sk-container-id-2 div.sk-toggleable__content {max-height: 0;max-width: 0;overflow: hidden;text-align: left;background-color: #f0f8ff;}#sk-container-id-2 div.sk-toggleable__content pre {margin: 0.2em;color: black;border-radius: 0.25em;background-color: #f0f8ff;}#sk-container-id-2 input.sk-toggleable__control:checked~div.sk-toggleable__content {max-height: 200px;max-width: 100%;overflow: auto;}#sk-container-id-2 input.sk-toggleable__control:checked~label.sk-toggleable__label-arrow:before {content: \"▾\";}#sk-container-id-2 div.sk-estimator input.sk-toggleable__control:checked~label.sk-toggleable__label {background-color: #d4ebff;}#sk-container-id-2 div.sk-label input.sk-toggleable__control:checked~label.sk-toggleable__label {background-color: #d4ebff;}#sk-container-id-2 input.sk-hidden--visually {border: 0;clip: rect(1px 1px 1px 1px);clip: rect(1px, 1px, 1px, 1px);height: 1px;margin: -1px;overflow: hidden;padding: 0;position: absolute;width: 1px;}#sk-container-id-2 div.sk-estimator {font-family: monospace;background-color: #f0f8ff;border: 1px dotted black;border-radius: 0.25em;box-sizing: border-box;margin-bottom: 0.5em;}#sk-container-id-2 div.sk-estimator:hover {background-color: #d4ebff;}#sk-container-id-2 div.sk-parallel-item::after {content: \"\";width: 100%;border-bottom: 1px solid gray;flex-grow: 1;}#sk-container-id-2 div.sk-label:hover label.sk-toggleable__label {background-color: #d4ebff;}#sk-container-id-2 div.sk-serial::before {content: \"\";position: absolute;border-left: 1px solid gray;box-sizing: border-box;top: 0;bottom: 0;left: 50%;z-index: 0;}#sk-container-id-2 div.sk-serial {display: flex;flex-direction: column;align-items: center;background-color: white;padding-right: 0.2em;padding-left: 0.2em;position: relative;}#sk-container-id-2 div.sk-item {position: relative;z-index: 1;}#sk-container-id-2 div.sk-parallel {display: flex;align-items: stretch;justify-content: center;background-color: white;position: relative;}#sk-container-id-2 div.sk-item::before, #sk-container-id-2 div.sk-parallel-item::before {content: \"\";position: absolute;border-left: 1px solid gray;box-sizing: border-box;top: 0;bottom: 0;left: 50%;z-index: -1;}#sk-container-id-2 div.sk-parallel-item {display: flex;flex-direction: column;z-index: 1;position: relative;background-color: white;}#sk-container-id-2 div.sk-parallel-item:first-child::after {align-self: flex-end;width: 50%;}#sk-container-id-2 div.sk-parallel-item:last-child::after {align-self: flex-start;width: 50%;}#sk-container-id-2 div.sk-parallel-item:only-child::after {width: 0;}#sk-container-id-2 div.sk-dashed-wrapped {border: 1px dashed gray;margin: 0 0.4em 0.5em 0.4em;box-sizing: border-box;padding-bottom: 0.4em;background-color: white;}#sk-container-id-2 div.sk-label label {font-family: monospace;font-weight: bold;display: inline-block;line-height: 1.2em;}#sk-container-id-2 div.sk-label-container {text-align: center;}#sk-container-id-2 div.sk-container {/* jupyter's `normalize.less` sets `[hidden] { display: none; }` but bootstrap.min.css set `[hidden] { display: none !important; }` so we also need the `!important` here to be able to override the default hidden behavior on the sphinx rendered scikit-learn.org. See: https://github.com/scikit-learn/scikit-learn/issues/21755 */display: inline-block !important;position: relative;}#sk-container-id-2 div.sk-text-repr-fallback {display: none;}</style><div id=\"sk-container-id-2\" class=\"sk-top-container\"><div class=\"sk-text-repr-fallback\"><pre>ExtraTreesRegressor(n_estimators=50)</pre><b>In a Jupyter environment, please rerun this cell to show the HTML representation or trust the notebook. <br />On GitHub, the HTML representation is unable to render, please try loading this page with nbviewer.org.</b></div><div class=\"sk-container\" hidden><div class=\"sk-item\"><div class=\"sk-estimator sk-toggleable\"><input class=\"sk-toggleable__control sk-hidden--visually\" id=\"sk-estimator-id-2\" type=\"checkbox\" checked><label for=\"sk-estimator-id-2\" class=\"sk-toggleable__label sk-toggleable__label-arrow\">ExtraTreesRegressor</label><div class=\"sk-toggleable__content\"><pre>ExtraTreesRegressor(n_estimators=50)</pre></div></div></div></div></div>"
            ]
          },
          "metadata": {},
          "execution_count": 19
        }
      ],
      "source": [
        "from sklearn.ensemble import RandomForestRegressor, AdaBoostRegressor, ExtraTreesRegressor\n",
        "\n",
        "model = ExtraTreesRegressor(n_estimators=50)\n",
        "\n",
        "memory_df[\"comb_reward\"] = .5*memory_df.reward + memory_df.tot_reward\n",
        "model.fit(memory_df[[\"obs0\", \"obs1\", \"obs2\", \"obs3\", \"action\"]], memory_df.comb_reward)"
      ]
    },
    {
      "cell_type": "code",
      "execution_count": null,
      "metadata": {
        "colab": {
          "base_uri": "https://localhost:8080/"
        },
        "id": "FuEiSZDYYO48",
        "outputId": "f0dcbe8a-f951-43d7-c739-f92607cb0465"
      },
      "outputs": [
        {
          "output_type": "execute_result",
          "data": {
            "text/plain": [
              "117.08"
            ]
          },
          "metadata": {},
          "execution_count": 20
        }
      ],
      "source": [
        "num_episodes = 100\n",
        "random_per = 0\n",
        "\n",
        "life_memory = []\n",
        "for i in range(num_episodes):\n",
        "\n",
        "    # start a new episode and record all the memories\n",
        "    old_observation = env.reset()\n",
        "    done = False\n",
        "    tot_reward = 0\n",
        "    ep_memory = []\n",
        "    while not done:\n",
        "\n",
        "\n",
        "        if np.random.rand() < random_per:\n",
        "            new_action = env.action_space.sample()\n",
        "        else:\n",
        "            pred_in = [list(old_observation)+[i] for i in range(2)]\n",
        "            new_action = np.argmax(model.predict(pred_in))\n",
        "        observation, reward, done, info = env.step(new_action)\n",
        "        tot_reward += reward\n",
        "\n",
        "        ep_memory.append({\n",
        "            \"obs0\": old_observation[0],\n",
        "            \"obs1\": old_observation[1],\n",
        "            \"obs2\": old_observation[2],\n",
        "            \"obs3\": old_observation[3],\n",
        "            \"action\": new_action,\n",
        "            \"reward\": reward,\n",
        "            \"episode\": i,\n",
        "        })\n",
        "        old_observation = observation\n",
        "\n",
        "    # incorporate total reward\n",
        "    for ep_mem in ep_memory:\n",
        "        ep_mem[\"tot_reward\"] = tot_reward\n",
        "\n",
        "    life_memory.extend(ep_memory)\n",
        "\n",
        "memory_df2 = pandas.DataFrame(life_memory)\n",
        "memory_df2[\"comb_reward\"] = memory_df2.reward + memory_df2.tot_reward\n",
        "\n",
        "# score\n",
        "# much better!\n",
        "memory_df2.groupby(\"episode\").reward.sum().mean()"
      ]
    },
    {
      "cell_type": "markdown",
      "metadata": {
        "id": "remsxBg1YO49"
      },
      "source": [
        "---\n",
        "### Machine Learning Foundation © 2022 IBM Corporation\n"
      ]
    }
  ],
  "metadata": {
    "kernelspec": {
      "display_name": "Python",
      "language": "python",
      "name": "conda-env-python-py"
    },
    "language_info": {
      "name": ""
    },
    "colab": {
      "provenance": [],
      "gpuType": "T4"
    },
    "accelerator": "GPU"
  },
  "nbformat": 4,
  "nbformat_minor": 0
}