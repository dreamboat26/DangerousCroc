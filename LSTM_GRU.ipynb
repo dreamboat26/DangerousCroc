{
  "cells": [
    {
      "cell_type": "markdown",
      "metadata": {
        "id": "ceabdfa5-46ee-41b3-b624-0d45d2d56675"
      },
      "source": [
        "<center>\n",
        "    <img src=\"https://cf-courses-data.s3.us.cloud-object-storage.appdomain.cloud/assets/logos/SN_web_lightmode.png\" width=\"300\" alt=\"cognitiveclass.ai logo\">\n",
        "</center>\n"
      ]
    },
    {
      "cell_type": "markdown",
      "metadata": {
        "id": "ed02574b-53ff-4cbd-9264-8c6932a928bd"
      },
      "source": [
        "# **LSTM and GRU Demo (Activity)**\n"
      ]
    },
    {
      "cell_type": "markdown",
      "metadata": {
        "id": "0545db63-0ae3-44c5-8bcc-cc843ce099fe"
      },
      "source": [
        "Estimated time needed: **45** minutes\n"
      ]
    },
    {
      "cell_type": "markdown",
      "metadata": {
        "id": "d043306c-1ba2-4029-9f73-1ab621567331"
      },
      "source": [
        "Vanilla RNNs work well when dealing with short-term dependencies but suffer from the vanishing gradient descent problem when it comes to long-term context dependencies. This is because some information is lost at each time step when traversing the layers. Gated RNNs have units that are designed to forget and to update relevant information and can provide a good solution to this problem. In this lab, we will talk about two types of gated RNNs: LSTM and GRUs.\n"
      ]
    },
    {
      "cell_type": "markdown",
      "metadata": {
        "id": "32467c3c-7080-45ca-93b2-dd6fa4cca1b2"
      },
      "source": [
        "## __Table of Contents__\n",
        "\n",
        "<ol>\n",
        "    <li><a href=\"#Objectives\">Objectives</a></li>\n",
        "    <li>\n",
        "        <a href=\"#Setup\">Setup</a>\n",
        "        <ol>\n",
        "            <li><a href=\"#Installing-Required-Libraries\">Installing Required Libraries</a></li>\n",
        "            <li><a href=\"#Importing-Required-Libraries\">Importing Required Libraries</a></li>\n",
        "            <li><a href=\"#Defining-Helper-Functions\">Defining Helper Functions</a></li>\n",
        "        </ol>\n",
        "    </li>\n",
        "    <li>\n",
        "        <a href=\"#Gated-RNNs\">Gated RNNs</a>\n",
        "        <ol>\n",
        "            <li><a href=\"#LSTM\">LSTM</a></li>\n",
        "            <li><a href=\"#GRU\">GRU</a></li>\n",
        "            <li><a href=\"#LSTM in Keras: Time-series forecasting\">LSTM in Keras: Time-series forecasting</a></li>\n",
        "            <li><a href=\"#Exercise 1: GRU in Keras - Reuters classification\">Exercise 1: GRU in Keras - Reuters classification</a></li>\n",
        "        </ol>\n",
        "    </li>\n"
      ]
    },
    {
      "cell_type": "markdown",
      "metadata": {
        "id": "6ffa8ef1-5e18-40ee-99ce-ab622b8620fa"
      },
      "source": [
        "## Objectives\n",
        "\n",
        "After completing this lab, you will be able to:\n",
        "\n",
        " - Explain the fundamental components of LSTM and GRU\n",
        " - Implement LSTM and GRU in Keras for various tasks and applications\n"
      ]
    },
    {
      "cell_type": "markdown",
      "metadata": {
        "id": "dbfc0cd0-37a4-493b-9b82-9dcd3903de65"
      },
      "source": [
        "----\n"
      ]
    },
    {
      "cell_type": "markdown",
      "metadata": {
        "id": "28631fff-2635-4838-aa2f-9e702c82bc51"
      },
      "source": [
        "## Setup\n"
      ]
    },
    {
      "cell_type": "markdown",
      "metadata": {
        "id": "94e873e7-45e8-4bce-acf5-7a978178f5cc"
      },
      "source": [
        "For this lab, we will be using the following libraries:\n",
        "\n",
        "*   [`pandas`](https://pandas.pydata.org/?utm_medium=Exinfluencer&utm_source=Exinfluencer&utm_content=000026UJ&utm_term=10006555&utm_id=NA-SkillsNetwork-Channel-SkillsNetworkCoursesIBMML0187ENSkillsNetwork31430127-2021-01-01) for managing the data.\n",
        "*   [`numpy`](https://numpy.org/?utm_medium=Exinfluencer&utm_source=Exinfluencer&utm_content=000026UJ&utm_term=10006555&utm_id=NA-SkillsNetwork-Channel-SkillsNetworkCoursesIBMML0187ENSkillsNetwork31430127-2021-01-01) for mathematical operations.\n",
        "*   [`sklearn`](https://scikit-learn.org/stable/?utm_medium=Exinfluencer&utm_source=Exinfluencer&utm_content=000026UJ&utm_term=10006555&utm_id=NA-SkillsNetwork-Channel-SkillsNetworkCoursesIBMML0187ENSkillsNetwork31430127-2021-01-01) for machine learning and machine-learning-pipeline related functions.\n",
        "*   [`seaborn`](https://seaborn.pydata.org/?utm_medium=Exinfluencer&utm_source=Exinfluencer&utm_content=000026UJ&utm_term=10006555&utm_id=NA-SkillsNetwork-Channel-SkillsNetworkCoursesIBMML0187ENSkillsNetwork31430127-2021-01-01) for visualizing the data.\n",
        "*   [`matplotlib`](https://matplotlib.org/?utm_medium=Exinfluencer&utm_source=Exinfluencer&utm_content=000026UJ&utm_term=10006555&utm_id=NA-SkillsNetwork-Channel-SkillsNetworkCoursesIBMML0187ENSkillsNetwork31430127-2021-01-01) for additional plotting tools.\n"
      ]
    },
    {
      "cell_type": "markdown",
      "metadata": {
        "id": "764935b6-665e-4175-a512-7ba3e0e0c4f3"
      },
      "source": [
        "### Installing Required Libraries\n",
        "\n",
        "The following required libraries are pre-installed in the Skills Network Labs environment. However, if you run these notebook commands in a different Jupyter environment (like Watson Studio or Ananconda), you will need to install these libraries by removing the `#` sign before `!mamba` in the following code cell.\n"
      ]
    },
    {
      "cell_type": "code",
      "metadata": {
        "colab": {
          "base_uri": "https://localhost:8080/"
        },
        "id": "f22609f3-525a-4a56-a450-54c852cce0aa",
        "outputId": "98d930e6-a465-4618-e085-ef00f96cc7f8"
      },
      "outputs": [
        {
          "output_type": "stream",
          "name": "stdout",
          "text": [
            "\n",
            "Usage:   \n",
            "  pip3 install [options] <requirement specifier> [package-index-options] ...\n",
            "  pip3 install [options] -r <requirements file> [package-index-options] ...\n",
            "  pip3 install [options] [-e] <vcs project url> ...\n",
            "  pip3 install [options] [-e] <local project path> ...\n",
            "  pip3 install [options] <archive url/path> ...\n",
            "\n",
            "no such option: -y\n"
          ]
        }
      ],
      "source": [
        "# All Libraries required for this lab are listed below. The libraries pre-installed on Skills Network Labs are commented.\n",
        "!pip install -qy pandas==1.3.4 numpy==1.21.4 seaborn==0.9.0 matplotlib==3.5.0 scikit-learn==0.20.1\n",
        "# Note: If your environment doesn't support \"!mamba install\", use \"!pip install\""
      ],
      "execution_count": null
    },
    {
      "cell_type": "markdown",
      "metadata": {
        "id": "9d3fd032-8fe7-4a7a-a9f8-69444a0b41bd"
      },
      "source": [
        "The following required libraries are __not__ pre-installed in the Skills Network Labs environment. __You will need to run the following cell__ to install them:\n"
      ]
    },
    {
      "cell_type": "code",
      "metadata": {
        "id": "7ed95664-21fc-4793-a49d-b3bb4d4bc237"
      },
      "outputs": [],
      "source": [
        "%%capture\n",
        "\n",
        "!mamba install -qy tqdm\n",
        "!pip install tensorflow --upgrade"
      ],
      "execution_count": null
    },
    {
      "cell_type": "markdown",
      "metadata": {
        "id": "b711e10d-ec44-48cb-b35f-d0a63bc4ade8"
      },
      "source": [
        "### Importing Required Libraries\n"
      ]
    },
    {
      "cell_type": "code",
      "metadata": {
        "colab": {
          "base_uri": "https://localhost:8080/"
        },
        "id": "5eaee927-895f-4fb1-900d-30fdc8aa7391",
        "outputId": "a757c672-18ab-4969-a132-3b657b359041"
      },
      "outputs": [
        {
          "output_type": "stream",
          "name": "stdout",
          "text": [
            "2.13.0\n"
          ]
        }
      ],
      "source": [
        "# You can also use this section to suppress warnings generated by your code:\n",
        "def warn(*args, **kwargs):\n",
        "    pass\n",
        "import warnings\n",
        "warnings.warn = warn\n",
        "warnings.filterwarnings('ignore')\n",
        "\n",
        "import numpy as np\n",
        "import pandas as pd\n",
        "import math\n",
        "import matplotlib.pyplot as plt\n",
        "import seaborn as sns\n",
        "%matplotlib inline\n",
        "\n",
        "import tensorflow as tf\n",
        "print(tf. __version__)\n",
        "\n",
        "from tensorflow import keras\n",
        "from tensorflow.keras import layers\n",
        "from keras.preprocessing.text import Tokenizer\n",
        "from tensorflow.keras.losses import mean_squared_error\n",
        "from tensorflow.keras.models import Sequential\n",
        "from tensorflow.keras.layers import SimpleRNN, Dense, Embedding,Masking,LSTM, GRU, Conv1D, Dropout\n",
        "from tensorflow.keras.optimizers import Adam\n",
        "from tensorflow.keras.preprocessing.sequence import TimeseriesGenerator\n",
        "from sklearn.preprocessing import MinMaxScaler\n",
        "\n",
        "from keras.preprocessing import sequence\n",
        "from keras.models import Sequential\n",
        "from keras.layers import Dense, Dropout, Embedding, SimpleRNN\n",
        "from tensorflow.keras.datasets import reuters\n",
        "from keras.utils import pad_sequences\n",
        "\n",
        "\n",
        "sns.set_context('notebook')\n",
        "sns.set_style('white')\n",
        "np.random.seed(2024)\n"
      ],
      "execution_count": null
    },
    {
      "cell_type": "markdown",
      "metadata": {
        "id": "f3440cb3-d8ae-48c5-8350-7c619a1fb07e"
      },
      "source": [
        "## Gated RNN\n",
        "\n",
        "The two types of gated RNNs we will be studying in this lab are Long Short Term Memories (LSTM) and Gated Recurrent Units (GRU). GRU is simpler than LSTM. It's much faster and optimizes quicker.\n",
        "\n",
        "### LSTM\n",
        "\n",
        "The key idea of LSTMs is to have two state representations: the hidden state $\\mathbf h$ and the cell state $\\mathbf C$ (instead of $\\mathbf s$).\n",
        "\n",
        "An LSTM cell has a complex internal structure that makes it able to:\n",
        "\n",
        "* learn to recognize an important input,\n",
        "* store it in the long-term state,\n",
        "* preserve it for as long as it is needed,\n",
        "* extract it whenever it is needed.\n",
        "\n",
        "<img src=\"https://wiki.math.uwaterloo.ca/statwiki/images/thumb/9/98/LSTM.png/800px-LSTM.png\" alt=\"Source: http://colah.github.io/posts/2015-08-Understanding-LSTMs/\" style=\"width: 500px;\">\n",
        "\n",
        "Source: http://colah.github.io/posts/2015-08-Understanding-LSTMs/\n",
        "\n",
        "LSTM has the ability to remove or add information to the cell state, carefully regulated by structures called gates, which are a way to optionally let information through. There are three gates in an LSTM; forget gate, input gate, and output gate. They are composed out of a *sigmoid* neural net layer. Sigmoid-based layers output values near either 0 (gate closed) or 1 (gate open).\n"
      ]
    },
    {
      "cell_type": "markdown",
      "metadata": {
        "id": "80ba7df1-0009-48b7-bdad-5213747d1829"
      },
      "source": [
        "### GRU\n",
        "\n",
        "GRU is a simplification of the LSTM cell that performs similarly well while being faster to train. It has a single update gate controller that manages both the forget and input gates. Whenever one is open, the other is closed. There is no output gate. The reset gate controls which part of the previous state is shown to the main layer. The resulting model is simpler than standard LSTM models. GRUs have fewer parameters and thus may train a bit faster or need less data to generalize.\n",
        "\n",
        "<img src=\"https://github.com/DataScienceUB/DeepLearningMaster2019/blob/master/images/gru.png?raw=1\" alt=\"Source: http://colah.github.io/posts/2015-08-Understanding-LSTMs/\" style=\"width: 300px;\">\n"
      ]
    },
    {
      "cell_type": "markdown",
      "metadata": {
        "id": "34ef6c72-96bb-43de-93df-d909e4761fd6"
      },
      "source": [
        "### LSTM in Keras: Time-series forecasting\n"
      ]
    },
    {
      "cell_type": "markdown",
      "metadata": {
        "id": "559e624c-a022-4546-998e-86f8e67dcbbf"
      },
      "source": [
        "Next, we will build a simple LSTM model to solve a many-to-one time-series prediction problem on a simulated sine wave.\n"
      ]
    },
    {
      "cell_type": "markdown",
      "metadata": {
        "id": "b2694252-dff6-49d6-bf60-12e7520c64a3"
      },
      "source": [
        "Let's first start by generating some sine waves using the `np.sin()` function.\n"
      ]
    },
    {
      "cell_type": "code",
      "metadata": {
        "colab": {
          "base_uri": "https://localhost:8080/",
          "height": 452
        },
        "id": "4ec8075b-be6b-4b26-a383-d1fae16abbc2",
        "outputId": "f783c4da-f71c-4dec-ff40-2f54010b9e12"
      },
      "outputs": [
        {
          "output_type": "execute_result",
          "data": {
            "text/plain": [
              "[<matplotlib.lines.Line2D at 0x7db65ceb1b10>]"
            ]
          },
          "metadata": {},
          "execution_count": 4
        },
        {
          "output_type": "display_data",
          "data": {
            "text/plain": [
              "<Figure size 640x480 with 1 Axes>"
            ],
            "image/png": "[encoded data removed]"
          },
          "metadata": {}
        }
      ],
      "source": [
        "x = np.linspace(0, 50, 501)\n",
        "y = np.sin(x)\n",
        "plt.plot(x, y)"
      ],
      "execution_count": null
    },
    {
      "cell_type": "markdown",
      "metadata": {
        "id": "977f5057-9e78-49f5-b094-01f6be2e8b8b"
      },
      "source": [
        "We will convert this into a data frame for convenience.\n"
      ]
    },
    {
      "cell_type": "code",
      "metadata": {
        "id": "47acbc0a-74a3-4530-af21-41f11efcace0"
      },
      "outputs": [],
      "source": [
        "df = pd.DataFrame(data=y, index=x, columns=['Sine'])"
      ],
      "execution_count": null
    },
    {
      "cell_type": "markdown",
      "metadata": {
        "id": "689c9ca2-3fc9-4d73-8cb5-192627ac4b36"
      },
      "source": [
        "We are dealing with a univariate time series, so we have a total of one feature. We will be using 10% of the simulated data for testing.\n"
      ]
    },
    {
      "cell_type": "code",
      "metadata": {
        "id": "60fbfc36-d4e7-401e-8bc8-a916a345d050"
      },
      "outputs": [],
      "source": [
        "# percentage of data used for testing\n",
        "test_percent = 0.1\n",
        "# number of features\n",
        "n_features = 1\n",
        "# sequence length\n",
        "length = 50\n",
        "# batch size\n",
        "batch_size = 1"
      ],
      "execution_count": null
    },
    {
      "cell_type": "markdown",
      "metadata": {
        "id": "f42ff09f-5723-4334-a28b-5593b8b92d59"
      },
      "source": [
        "Let us now create a training and testing dataset to train and test our model on.\n"
      ]
    },
    {
      "cell_type": "code",
      "metadata": {
        "id": "f34940f5-c13f-4630-a749-757afaaae0a4"
      },
      "outputs": [],
      "source": [
        "test_point = np.round(len(df)*test_percent)\n",
        "test_ind = int(len(df)-test_point)\n",
        "\n",
        "train = df.iloc[:test_ind]\n",
        "test = df.iloc[test_ind:]"
      ],
      "execution_count": null
    },
    {
      "cell_type": "markdown",
      "metadata": {
        "id": "9c51ec95-6e1c-41f7-a63d-ac2842453d72"
      },
      "source": [
        "We will perform some basic preprocessing using the `MinMaxScaler`, which normalizes the input.\n"
      ]
    },
    {
      "cell_type": "code",
      "metadata": {
        "id": "b88c04fb-27ac-46a9-ad73-904291f5edaa"
      },
      "outputs": [],
      "source": [
        "scaler = MinMaxScaler()\n",
        "scaled_train = scaler.fit_transform(train)\n",
        "scaled_test = scaler.transform(test)"
      ],
      "execution_count": null
    },
    {
      "cell_type": "markdown",
      "metadata": {
        "id": "3db74b59-bf19-48ff-86f6-cd6ca6f9c410"
      },
      "source": [
        "`TimeseriesGenerator` is a utility class by Keras that is used in generating batches of temporal data. Given our scaled training data, we create 401 output sequences.\n"
      ]
    },
    {
      "cell_type": "code",
      "metadata": {
        "colab": {
          "base_uri": "https://localhost:8080/"
        },
        "id": "fca13949-b6ae-4710-bd21-ae02cfec2377",
        "outputId": "7ae0c598-2aa9-4e05-f2d6-ab853e1167f8"
      },
      "outputs": [
        {
          "output_type": "execute_result",
          "data": {
            "text/plain": [
              "401"
            ]
          },
          "metadata": {},
          "execution_count": 9
        }
      ],
      "source": [
        "generator = TimeseriesGenerator(scaled_train, scaled_train, length=length, batch_size=batch_size)\n",
        "len(generator)"
      ],
      "execution_count": null
    },
    {
      "cell_type": "markdown",
      "metadata": {
        "id": "05432728-4ee8-49bc-bd94-d777e415c326"
      },
      "source": [
        "We will use the `LSTM()` layer with 50 units, and an input shape defined by the sequence length and number of features.\n"
      ]
    },
    {
      "cell_type": "code",
      "metadata": {
        "id": "99bca611-26af-47d7-ab00-a5cf60549947"
      },
      "outputs": [],
      "source": [
        "model = Sequential()\n",
        "\n",
        "model.add(LSTM(50, input_shape=(length, n_features)))\n",
        "\n",
        "model.add(Dense(1))\n",
        "\n",
        "model.compile(optimizer='adam', loss='mse')"
      ],
      "execution_count": null
    },
    {
      "cell_type": "code",
      "metadata": {
        "colab": {
          "base_uri": "https://localhost:8080/"
        },
        "id": "d4f8fc1d-4dfa-4999-af04-5ad35cd1e9f4",
        "outputId": "2bb1449b-daae-40fc-aa4e-a799ceb55c92"
      },
      "outputs": [
        {
          "output_type": "stream",
          "name": "stdout",
          "text": [
            "Epoch 1/6\n",
            "401/401 [==============================] - 10s 5ms/step - loss: 0.0079\n",
            "Epoch 2/6\n",
            "401/401 [==============================] - 2s 5ms/step - loss: 1.5317e-04\n",
            "Epoch 3/6\n",
            "401/401 [==============================] - 2s 6ms/step - loss: 4.3910e-04\n",
            "Epoch 4/6\n",
            "401/401 [==============================] - 2s 5ms/step - loss: 8.8292e-05\n",
            "Epoch 5/6\n",
            "401/401 [==============================] - 2s 5ms/step - loss: 6.3781e-05\n",
            "Epoch 6/6\n",
            "401/401 [==============================] - 2s 5ms/step - loss: 6.6101e-04\n"
          ]
        },
        {
          "output_type": "execute_result",
          "data": {
            "text/plain": [
              "<keras.src.callbacks.History at 0x7db6fc9faad0>"
            ]
          },
          "metadata": {},
          "execution_count": 11
        }
      ],
      "source": [
        "model.fit_generator(generator, epochs=6)"
      ],
      "execution_count": null
    },
    {
      "cell_type": "markdown",
      "metadata": {
        "id": "6d33a314-e5dd-40e7-807c-c2cb33e41320"
      },
      "source": [
        "We will now evaluate the LSTM's performance in forecasting a few time steps from the first batch.\n"
      ]
    },
    {
      "cell_type": "code",
      "metadata": {
        "colab": {
          "base_uri": "https://localhost:8080/"
        },
        "id": "805677de-f14b-4f22-8701-2ea3be8289a9",
        "outputId": "a58ac0ec-17f4-4bae-fb44-c876b1f32e01"
      },
      "outputs": [
        {
          "output_type": "stream",
          "name": "stdout",
          "text": [
            "1/1 [==============================] - 0s 358ms/step\n",
            "1/1 [==============================] - 0s 21ms/step\n",
            "1/1 [==============================] - 0s 18ms/step\n",
            "1/1 [==============================] - 0s 17ms/step\n",
            "1/1 [==============================] - 0s 17ms/step\n",
            "1/1 [==============================] - 0s 18ms/step\n",
            "1/1 [==============================] - 0s 17ms/step\n",
            "1/1 [==============================] - 0s 18ms/step\n",
            "1/1 [==============================] - 0s 19ms/step\n",
            "1/1 [==============================] - 0s 18ms/step\n",
            "1/1 [==============================] - 0s 20ms/step\n",
            "1/1 [==============================] - 0s 19ms/step\n",
            "1/1 [==============================] - 0s 18ms/step\n",
            "1/1 [==============================] - 0s 18ms/step\n",
            "1/1 [==============================] - 0s 19ms/step\n",
            "1/1 [==============================] - 0s 21ms/step\n",
            "1/1 [==============================] - 0s 19ms/step\n",
            "1/1 [==============================] - 0s 19ms/step\n",
            "1/1 [==============================] - 0s 20ms/step\n",
            "1/1 [==============================] - 0s 19ms/step\n",
            "1/1 [==============================] - 0s 18ms/step\n",
            "1/1 [==============================] - 0s 22ms/step\n",
            "1/1 [==============================] - 0s 19ms/step\n",
            "1/1 [==============================] - 0s 20ms/step\n",
            "1/1 [==============================] - 0s 18ms/step\n"
          ]
        }
      ],
      "source": [
        "forecast = []\n",
        "\n",
        "first_eval_batch = scaled_train[-length:]\n",
        "current_batch = first_eval_batch.reshape((1, length, n_features))\n",
        "\n",
        "for i in range(25):\n",
        "    current_pred = model.predict(current_batch)[0]\n",
        "    forecast.append(current_pred)\n",
        "    current_batch = np.append(current_batch[:, 1:, :], [[current_pred]], axis=1)"
      ],
      "execution_count": null
    },
    {
      "cell_type": "markdown",
      "metadata": {
        "id": "74371bb3-e7f6-43c8-861f-3d73c22b3207"
      },
      "source": [
        "We will invert the min-max scaling on the predictions to allow for a direct comparison with the ground truth.\n"
      ]
    },
    {
      "cell_type": "code",
      "metadata": {
        "id": "f3b7f861-95fc-42a2-8623-cd336a46c595"
      },
      "outputs": [],
      "source": [
        "forecast = scaler.inverse_transform(forecast)"
      ],
      "execution_count": null
    },
    {
      "cell_type": "code",
      "metadata": {
        "id": "af4e3c02-c38d-413e-8b53-255d08815244"
      },
      "outputs": [],
      "source": [
        "forecast_index = np.arange(50.1, 52.6, step=0.1)"
      ],
      "execution_count": null
    },
    {
      "cell_type": "code",
      "metadata": {
        "colab": {
          "base_uri": "https://localhost:8080/",
          "height": 452
        },
        "id": "6273b865-2c1a-4c45-88dd-a2d9dacd684b",
        "outputId": "6227f748-af8b-4e86-ef77-7e36c36b9443"
      },
      "outputs": [
        {
          "output_type": "execute_result",
          "data": {
            "text/plain": [
              "[<matplotlib.lines.Line2D at 0x7db5f614cc10>]"
            ]
          },
          "metadata": {},
          "execution_count": 15
        },
        {
          "output_type": "display_data",
          "data": {
            "text/plain": [
              "<Figure size 640x480 with 1 Axes>"
            ],
            "image/png": "[encoded data removed]"
          },
          "metadata": {}
        }
      ],
      "source": [
        "plt.plot(df.index, df['Sine'])\n",
        "plt.plot(forecast_index, forecast)"
      ],
      "execution_count": null
    },
    {
      "cell_type": "markdown",
      "metadata": {
        "id": "5910dc77-9939-4bb8-bc8c-b8ee46032302"
      },
      "source": [
        "### Exercise 1: GRU in Keras - Reuters classification\n",
        "\n",
        "In this exercise, you will use the reuters dataset from Keras that we imported earlier to build a classification model using GRUs.\n"
      ]
    },
    {
      "cell_type": "markdown",
      "metadata": {
        "id": "077400b2-ac73-4b72-b52d-4c1e1053c401"
      },
      "source": [
        "The dataset used is the Reuters newswire dataset from Keras. We have 11,228 newswires from Reuters, labeled over 46 topics.\n",
        "\n",
        "> Each newswire is encoded as a list of word indexes (integers). For convenience, words are indexed by overall frequency in the dataset, so that for instance the integer \"3\" encodes the 3rd most frequent word in the data. This allows for quick filtering operations such as: \"only consider the top 10,000 most common words, but eliminate the top 20 most common words\".\n",
        "\n",
        "It returns the following:\n",
        "\n",
        "> x_train, x_test: lists of sequences, which are lists of indexes (integers). If the num_words argument was specific, the maximum possible index value is num_words - 1.\n"
      ]
    },
    {
      "cell_type": "markdown",
      "metadata": {
        "id": "f30ceb38-bf19-49ee-90bc-1c6d7d3841e0"
      },
      "source": [
        "Let us start by defining a few hyperparameters.\n",
        "\n",
        "* We use 10,000 to specify `num_words`, that is, the maximum possible index value loaded is `num_words` - 1.\n",
        "\n",
        "* Input length of the embedding layer is specified using `maxlen`\n",
        "\n",
        "* We will use 30% of the data for testing.\n"
      ]
    },
    {
      "cell_type": "code",
      "metadata": {
        "id": "247d8335-8928-402c-a8f2-c594c05a95f7"
      },
      "outputs": [],
      "source": [
        "# Hyperparameters\n",
        "num_words = 10000\n",
        "maxlen = 1000\n",
        "test_split = 0.3"
      ],
      "execution_count": null
    },
    {
      "cell_type": "markdown",
      "metadata": {
        "id": "0fef1f7e-7310-46c9-a3a3-b8773ce5b969"
      },
      "source": [
        "Next, we will use the Keras API to load in our reuters dataset.\n"
      ]
    },
    {
      "cell_type": "code",
      "metadata": {
        "colab": {
          "base_uri": "https://localhost:8080/"
        },
        "id": "e0642d97-65a2-4671-9095-1f340d6a323d",
        "outputId": "628d4857-212d-43b2-bd24-991e55244d1d"
      },
      "outputs": [
        {
          "output_type": "stream",
          "name": "stdout",
          "text": [
            "Downloading data from https://storage.googleapis.com/tensorflow/tf-keras-datasets/reuters.npz\n",
            "2110848/2110848 [==============================] - 0s 0us/step\n",
            "7859 train sequences\n",
            "3369 test sequences\n"
          ]
        }
      ],
      "source": [
        "# Load reuters Data from Keras datasets\n",
        "(X_train, y_train),(X_test, y_test) = reuters.load_data(num_words=num_words, test_split=0.3)\n",
        "print(len(X_train), 'train sequences')\n",
        "print(len(X_test), 'test sequences')\n"
      ],
      "execution_count": null
    },
    {
      "cell_type": "markdown",
      "metadata": {
        "id": "a2602b51-9cd3-40cb-b48f-42abf832e582"
      },
      "source": [
        "In terms of pre-processing, we pad sequences to the same length using `pad_sequences`. Sequences longer than `num_timesteps` are truncated so that they fit the desired length. Whereas sequences that are shorter than `num_timesteps` are padded with value until they are `num_timesteps` long.\n"
      ]
    },
    {
      "cell_type": "code",
      "metadata": {
        "colab": {
          "base_uri": "https://localhost:8080/"
        },
        "id": "eb8d6eef-7c41-497f-8b63-b7e6d40b1718",
        "outputId": "8de99eb4-5f02-422a-94a0-884d4a89dc55"
      },
      "outputs": [
        {
          "output_type": "stream",
          "name": "stdout",
          "text": [
            "X_train shape: (7859, 1000)\n",
            "X_test shape: (3369, 1000)\n"
          ]
        }
      ],
      "source": [
        "# data preprocessing\n",
        "X_train = pad_sequences(X_train, maxlen=maxlen)\n",
        "X_test = pad_sequences(X_test, maxlen=maxlen)\n",
        "print('X_train shape:', X_train.shape)\n",
        "print('X_test shape:', X_test.shape)\n",
        "\n",
        "\n",
        "y_train = tf.keras.utils.to_categorical(y_train, 46)\n",
        "y_test = tf.keras.utils.to_categorical(y_test, 46)"
      ],
      "execution_count": null
    },
    {
      "cell_type": "markdown",
      "metadata": {
        "id": "20aa99c1-c705-4920-a195-9dcc76c8d89a"
      },
      "source": [
        "Start by defining the model architecture. Use a `GRU` layer with 128 units, and a dropout rate of 0.2. Use a dense layer with 46 units and softmax as the activation function. Print out the model summary.\n"
      ]
    },
    {
      "cell_type": "code",
      "metadata": {
        "colab": {
          "base_uri": "https://localhost:8080/"
        },
        "id": "800d7296-ecb8-4b33-ae0c-9379711d09da",
        "outputId": "4c2c4de8-f569-4c90-dfa6-50dc3a3ab050"
      },
      "outputs": [
        {
          "output_type": "stream",
          "name": "stdout",
          "text": [
            "Model: \"sequential_1\"\n",
            "_________________________________________________________________\n",
            " Layer (type)                Output Shape              Param #   \n",
            "=================================================================\n",
            " embedding (Embedding)       (None, 1000, 300)         3000000   \n",
            "                                                                 \n",
            " gru (GRU)                   (None, 128)               165120    \n",
            "                                                                 \n",
            " dense_1 (Dense)             (None, 46)                5934      \n",
            "                                                                 \n",
            "=================================================================\n",
            "Total params: 3171054 (12.10 MB)\n",
            "Trainable params: 3171054 (12.10 MB)\n",
            "Non-trainable params: 0 (0.00 Byte)\n",
            "_________________________________________________________________\n"
          ]
        }
      ],
      "source": [
        "# Write your solution here\n",
        "model = Sequential()\n",
        "model.add(Embedding(input_dim = num_words, output_dim = 300,input_length=1000))\n",
        "model.add(GRU(128, dropout=0.2))\n",
        "model.add(Dense(46, activation='softmax'))\n",
        "model.summary()\n"
      ],
      "execution_count": null
    },
    {
      "cell_type": "markdown",
      "metadata": {
        "id": "76d86876-8523-46bc-ab10-7e4d732b8cc8"
      },
      "source": [
        "Now compile the model using categorical_crossentropy as the loss function, adam as the optimizer and accuracy as the metric. Train the model using 256 as the batch size, over 10 training iterations and using 20% of the data for validation purposes. Finally, evaluate the model's performance on the test dataset.\n"
      ]
    },
    {
      "cell_type": "code",
      "metadata": {
        "colab": {
          "base_uri": "https://localhost:8080/"
        },
        "id": "2832fc06-2425-4092-815a-ed4468f4f289",
        "outputId": "aeac874e-c3d9-49cc-b2d8-a56d8199187f"
      },
      "outputs": [
        {
          "output_type": "stream",
          "name": "stdout",
          "text": [
            "Epoch 1/10\n",
            "25/25 [==============================] - 10s 320ms/step - loss: 3.1023 - accuracy: 0.3370 - val_loss: 2.3398 - val_accuracy: 0.3575\n",
            "Epoch 2/10\n",
            "25/25 [==============================] - 7s 274ms/step - loss: 2.1804 - accuracy: 0.3652 - val_loss: 1.9897 - val_accuracy: 0.4122\n",
            "Epoch 3/10\n",
            "25/25 [==============================] - 8s 309ms/step - loss: 1.9039 - accuracy: 0.4419 - val_loss: 1.8674 - val_accuracy: 0.4485\n",
            "Epoch 4/10\n",
            "25/25 [==============================] - 8s 303ms/step - loss: 1.7239 - accuracy: 0.5305 - val_loss: 1.8089 - val_accuracy: 0.5274\n",
            "Epoch 5/10\n",
            "25/25 [==============================] - 7s 273ms/step - loss: 1.5959 - accuracy: 0.5632 - val_loss: 1.7946 - val_accuracy: 0.5363\n",
            "Epoch 6/10\n",
            "25/25 [==============================] - 7s 282ms/step - loss: 1.4850 - accuracy: 0.5954 - val_loss: 1.8304 - val_accuracy: 0.5293\n",
            "Epoch 7/10\n",
            "25/25 [==============================] - 7s 269ms/step - loss: 1.3959 - accuracy: 0.6197 - val_loss: 1.8136 - val_accuracy: 0.5363\n",
            "Epoch 8/10\n",
            "25/25 [==============================] - 7s 261ms/step - loss: 1.3231 - accuracy: 0.6366 - val_loss: 1.8098 - val_accuracy: 0.5496\n",
            "Epoch 9/10\n",
            "25/25 [==============================] - 7s 271ms/step - loss: 1.2588 - accuracy: 0.6583 - val_loss: 1.8172 - val_accuracy: 0.5528\n",
            "Epoch 10/10\n",
            "25/25 [==============================] - 6s 235ms/step - loss: 1.2045 - accuracy: 0.6665 - val_loss: 1.8357 - val_accuracy: 0.5585\n",
            "106/106 [==============================] - 2s 15ms/step - loss: 1.8831 - accuracy: 0.5515\n"
          ]
        },
        {
          "output_type": "execute_result",
          "data": {
            "text/plain": [
              "[1.8830782175064087, 0.5514989495277405]"
            ]
          },
          "metadata": {},
          "execution_count": 20
        }
      ],
      "source": [
        "# Write your solution here\n",
        "model.compile(loss='categorical_crossentropy',optimizer='adam',metrics=['accuracy'])\n",
        "model.fit(X_train, y_train,batch_size=256,epochs=10,validation_split=0.2)\n",
        "model.evaluate(X_test,y_test)\n"
      ],
      "execution_count": null
    },
    {
      "cell_type": "markdown",
      "metadata": {
        "id": "e3d84c3a-6e85-4632-a5f9-8ecd8da0b7ad"
      },
      "source": [
        "## Authors\n"
      ]
    },
    {
      "cell_type": "markdown",
      "metadata": {
        "id": "5c34897e-b26a-44a2-992f-4370a3d5c691"
      },
      "source": [
        "[Kopal Garg](https://www.linkedin.com/in/gargkopal/?utm_medium=Exinfluencer&utm_source=Exinfluencer&utm_content=000026UJ&utm_term=10006555&utm_id=NA-SkillsNetwork-Channel-SkillsNetworkCoursesIBMDeveloperSkillsNetworkML311Coursera747-2022-01-01)\n"
      ]
    },
    {
      "cell_type": "markdown",
      "metadata": {
        "id": "bb9be77b-d522-48fd-b7a5-f8556fae8080"
      },
      "source": [
        "Kopal is a Masters student in Computer Science at the University of Toronto.\n"
      ]
    },
    {
      "cell_type": "markdown",
      "metadata": {
        "id": "03ba7d5e-35aa-430c-bc6d-34bf2724fbe1"
      },
      "source": [
        "## Change Log\n"
      ]
    },
    {
      "cell_type": "markdown",
      "metadata": {
        "id": "86b25298-af01-4db7-8d49-b7bfab9163f7"
      },
      "source": [
        "|Date (YYYY-MM-DD)|Version|Changed By|Change Description|\n",
        "|-|-|-|-|\n",
        "|2022-06-23|0.1|Kopal|Create Lab|\n",
        "|2022-09-08|0.1|Steve Hord|QA pass edits|\n"
      ]
    },
    {
      "cell_type": "markdown",
      "metadata": {
        "id": "16f5947b-b8ac-48ca-83eb-6350140672ff"
      },
      "source": [
        "Copyright © 2022 IBM Corporation. All rights reserved.\n"
      ]
    }
  ],
  "metadata": {
    "kernelspec": {
      "display_name": "Python",
      "language": "python",
      "name": "conda-env-python-py"
    },
    "language_info": {
      "name": ""
    },
    "colab": {
      "provenance": [],
      "gpuType": "T4"
    },
    "accelerator": "GPU"
  },
  "nbformat": 4,
  "nbformat_minor": 0
}