{
  "cells": [
    {
      "cell_type": "markdown",
      "metadata": {
        "id": "fe1c6d2d-0bf8-4946-baf4-67db1fb6e512"
      },
      "source": [
        "<img src=\"https://cf-courses-data.s3.us.cloud-object-storage.appdomain.cloud/IBMDeveloperSkillsNetwork-DL0120EN-SkillsNetwork/images/IDSN-logo.png\" width=\"300\" alt=\"cognitiveclass.ai logo\">\n",
        "\n",
        "<h1 align=\"center\"><font size=\"5\">RESTRICTED BOLTZMANN MACHINES</font></h1>\n"
      ]
    },
    {
      "cell_type": "markdown",
      "metadata": {
        "id": "d52b5ec0-3f53-47d2-8045-c736beb23245"
      },
      "source": [
        "Estimated time needed: **25** minutes\n"
      ]
    },
    {
      "cell_type": "markdown",
      "metadata": {
        "id": "cdb605b0-b4ee-4cdb-a0f2-5afc262e93c8"
      },
      "source": [
        "<h3>Introduction</h3>\n",
        "<b>Restricted Boltzmann Machine (RBM):</b>  RBMs are shallow neural nets that learn to reconstruct data by themselves in an unsupervised fashion.  \n",
        "\n",
        "\n",
        "<h4>Why are RBMs important?</h4>\n",
        "An RBM are a basic form of autoencoder.  It can automatically extract <b>meaningful</b> features from a given input.\n",
        "\n",
        "\n",
        "<h4>How does it work?</h4>\n",
        "RBM is a 2 layer neural network. Simply, RBM takes the inputs and translates those into a set of binary values that represents them in the hidden layer. Then, these numbers can be translated back to reconstruct the inputs. Through several forward and backward passes, the RBM will be trained, and a trained RBM can reveal which features are the most important ones when detecting patterns.   \n",
        "\n",
        "\n",
        "<h4>What are the applications of an RBM?</h4>\n",
        "RBM is useful for <a href='http://www.cs.utoronto.ca/~hinton/absps/netflixICML.pdf?utm_medium=Exinfluencer&utm_source=Exinfluencer&utm_content=000026UJ&utm_term=10006555&utm_id=NA-SkillsNetwork-Channel-SkillsNetworkCoursesIBMDeveloperSkillsNetworkDL0120ENSkillsNetwork954-2023-01-01'>  Collaborative Filtering</a>, dimensionality reduction, classification, regression, feature learning, topic modeling and even <b>Deep Belief Networks</b>.\n",
        "\n",
        "<h4>Is RBM a generative or Discriminative model?</h4>\n",
        "RBM is a generative model. Let me explain it by first, see what is different between discriminative and generative models:\n",
        "\n",
        "<b>Discriminative:</b> Consider a classification problem where we want to learn to distinguish between Sedan cars (y = 1) and SUV cars (y = 0), based on some features of cars. Given a training set, an algorithm like logistic regression tries to find a straight line, or <i>decision boundary</i>, that separates the suv and sedan.  \n",
        "\n",
        "<b>Generative:</b> looking at cars, we can build a model of what Sedan cars look like. Then, looking at SUVs, we can build a separate model of what SUV cars look like. Finally, to classify a new car, we can match the new car against the Sedan model, and match it against the SUV model, to see whether the new car looks more like the SUV or Sedan.\n",
        "\n",
        "Generative Models specify a probability distribution over a dataset of input vectors. We can carry out both supervised and unsupervised tasks with generative models:\n",
        "<ul>\n",
        "    <li>In an unsupervised task, we try to form a model for $P(x)$, where $P$ is the probability given $x$ as an input vector.</li>\n",
        "    <li>In the supervised task, we first form a model for $P(x|y)$, where $P$ is the probability of $x$ given $y$(the label for $x$). For example, if $y = 0$ indicates that a car is an SUV, and $y = 1$ indicates that a car is a sedan, then $p(x|y = 0)$ models the distribution of SUV features, and $p(x|y = 1)$ models the distribution of sedan features. If we manage to find $P(x|y)$ and $P(y)$, then we can use <b>Bayes rule</b> to estimate $P(y|x)$, because:   \n",
        "        $$p(y|x) = \\frac{p(x|y)p(y)}{p(x)}$$</li>\n",
        "</ul>\n",
        "Now the question is, can we build a generative model, and then use it to create synthetic data by directly sampling from the modeled probability distributions? Lets see.\n"
      ]
    },
    {
      "cell_type": "markdown",
      "metadata": {
        "id": "267871b6-1fb3-43bc-abb2-76f7de374490"
      },
      "source": [
        "<h2>Table of Contents</h2>\n",
        "<ol>\n",
        "    <li><a href=\"#ref1\">Initialization</a></li>\n",
        "    <li><a href=\"#ref2\">RBM layers</a></li>\n",
        "    <li><a href=\"#ref3\">What RBM can do after training?</a></li>\n",
        "    <li><a href=\"#ref4\">How to train the model?</a></li>\n",
        "    <li><a href=\"#ref5\">Learned features</a></li>\n",
        "</ol>\n",
        "<p></p>\n",
        "</div>\n",
        "<br>\n",
        "\n",
        "<hr>\n"
      ]
    },
    {
      "cell_type": "markdown",
      "metadata": {
        "id": "eeab3e3c-2267-4d9d-ae3e-7c678d0c2c89"
      },
      "source": [
        "<a id=\"ref1\"></a>\n",
        "<h3>Initialization</h3>\n",
        "\n",
        "First, we have to load the utility file which contains different utility functions that are not connected\n",
        "in any way to the networks presented in the tutorials, but rather help in\n",
        "processing the outputs into a more understandable way.\n"
      ]
    },
    {
      "cell_type": "code",
      "metadata": {
        "id": "48765d73-89aa-41bf-bc31-9922da4f3df5"
      },
      "outputs": [],
      "source": [
        "import urllib.request\n",
        "with urllib.request.urlopen(\"https://cf-courses-data.s3.us.cloud-object-storage.appdomain.cloud/IBMDeveloperSkillsNetwork-DL0120EN-SkillsNetwork/labs/Week4/data/utils.py\") as url:\n",
        "    response = url.read()\n",
        "target = open('utils.py', 'w')\n",
        "target.write(response.decode('utf-8'))\n",
        "target.close()"
      ],
      "execution_count": null
    },
    {
      "cell_type": "markdown",
      "metadata": {
        "id": "abc2e254-e8a3-4963-a703-d2d756b1c88e"
      },
      "source": [
        "<h2>Installing TensorFlow </h2>\n",
        "\n",
        "We will installing TensorFlow version 2.9.0 and its required prerequistes.  Also installing pillow...\n"
      ]
    },
    {
      "cell_type": "code",
      "metadata": {
        "colab": {
          "base_uri": "https://localhost:8080/",
          "height": 1000
        },
        "id": "7f319a08-6876-47ad-b15a-02c68f176114",
        "outputId": "3544e727-37f4-4a25-e9df-cc284a3d8edd"
      },
      "outputs": [
        {
          "output_type": "stream",
          "name": "stdout",
          "text": [
            "Collecting grpcio==1.24.3\n",
            "  Downloading grpcio-1.24.3.tar.gz (14.0 MB)\n",
            "\u001b[2K     \u001b[90m━━━━━━━━━━━━━━━━━━━━━━━━━━━━━━━━━━━━━━━━\u001b[0m \u001b[32m14.0/14.0 MB\u001b[0m \u001b[31m10.8 MB/s\u001b[0m eta \u001b[36m0:00:00\u001b[0m\n",
            "\u001b[?25h  Preparing metadata (setup.py) ... \u001b[?25l\u001b[?25hdone\n",
            "Requirement already satisfied: six>=1.5.2 in /usr/local/lib/python3.10/dist-packages (from grpcio==1.24.3) (1.16.0)\n",
            "Building wheels for collected packages: grpcio\n",
            "  \u001b[1;31merror\u001b[0m: \u001b[1msubprocess-exited-with-error\u001b[0m\n",
            "  \n",
            "  \u001b[31m×\u001b[0m \u001b[32mpython setup.py bdist_wheel\u001b[0m did not run successfully.\n",
            "  \u001b[31m│\u001b[0m exit code: \u001b[1;36m1\u001b[0m\n",
            "  \u001b[31m╰─>\u001b[0m See above for output.\n",
            "  \n",
            "  \u001b[1;35mnote\u001b[0m: This error originates from a subprocess, and is likely not a problem with pip.\n",
            "  Building wheel for grpcio (setup.py) ... \u001b[?25lerror\n",
            "\u001b[31m  ERROR: Failed building wheel for grpcio\u001b[0m\u001b[31m\n",
            "\u001b[0m\u001b[?25h  Running setup.py clean for grpcio\n",
            "Failed to build grpcio\n",
            "\u001b[31mERROR: Could not build wheels for grpcio, which is required to install pyproject.toml-based projects\u001b[0m\u001b[31m\n",
            "\u001b[0mCollecting tensorflow==2.9.0\n",
            "  Downloading tensorflow-2.9.0-cp310-cp310-manylinux_2_17_x86_64.manylinux2014_x86_64.whl (511.7 MB)\n",
            "\u001b[2K     \u001b[90m━━━━━━━━━━━━━━━━━━━━━━━━━━━━━━━━━━━━━━━\u001b[0m \u001b[32m511.7/511.7 MB\u001b[0m \u001b[31m2.9 MB/s\u001b[0m eta \u001b[36m0:00:00\u001b[0m\n",
            "\u001b[?25hRequirement already satisfied: absl-py>=1.0.0 in /usr/local/lib/python3.10/dist-packages (from tensorflow==2.9.0) (1.4.0)\n",
            "Requirement already satisfied: astunparse>=1.6.0 in /usr/local/lib/python3.10/dist-packages (from tensorflow==2.9.0) (1.6.3)\n",
            "Collecting flatbuffers<2,>=1.12 (from tensorflow==2.9.0)\n",
            "  Downloading flatbuffers-1.12-py2.py3-none-any.whl (15 kB)\n",
            "Requirement already satisfied: gast<=0.4.0,>=0.2.1 in /usr/local/lib/python3.10/dist-packages (from tensorflow==2.9.0) (0.4.0)\n",
            "Requirement already satisfied: google-pasta>=0.1.1 in /usr/local/lib/python3.10/dist-packages (from tensorflow==2.9.0) (0.2.0)\n",
            "Requirement already satisfied: grpcio<2.0,>=1.24.3 in /usr/local/lib/python3.10/dist-packages (from tensorflow==2.9.0) (1.57.0)\n",
            "Requirement already satisfied: h5py>=2.9.0 in /usr/local/lib/python3.10/dist-packages (from tensorflow==2.9.0) (3.9.0)\n",
            "Collecting keras<2.10.0,>=2.9.0rc0 (from tensorflow==2.9.0)\n",
            "  Downloading keras-2.9.0-py2.py3-none-any.whl (1.6 MB)\n",
            "\u001b[2K     \u001b[90m━━━━━━━━━━━━━━━━━━━━━━━━━━━━━━━━━━━━━━━━\u001b[0m \u001b[32m1.6/1.6 MB\u001b[0m \u001b[31m76.3 MB/s\u001b[0m eta \u001b[36m0:00:00\u001b[0m\n",
            "\u001b[?25hCollecting keras-preprocessing>=1.1.1 (from tensorflow==2.9.0)\n",
            "  Downloading Keras_Preprocessing-1.1.2-py2.py3-none-any.whl (42 kB)\n",
            "\u001b[2K     \u001b[90m━━━━━━━━━━━━━━━━━━━━━━━━━━━━━━━━━━━━━━━━\u001b[0m \u001b[32m42.6/42.6 kB\u001b[0m \u001b[31m5.9 MB/s\u001b[0m eta \u001b[36m0:00:00\u001b[0m\n",
            "\u001b[?25hRequirement already satisfied: libclang>=13.0.0 in /usr/local/lib/python3.10/dist-packages (from tensorflow==2.9.0) (16.0.6)\n",
            "Requirement already satisfied: numpy>=1.20 in /usr/local/lib/python3.10/dist-packages (from tensorflow==2.9.0) (1.23.5)\n",
            "Requirement already satisfied: opt-einsum>=2.3.2 in /usr/local/lib/python3.10/dist-packages (from tensorflow==2.9.0) (3.3.0)\n",
            "Requirement already satisfied: packaging in /usr/local/lib/python3.10/dist-packages (from tensorflow==2.9.0) (23.1)\n",
            "Requirement already satisfied: protobuf>=3.9.2 in /usr/local/lib/python3.10/dist-packages (from tensorflow==2.9.0) (3.20.3)\n",
            "Requirement already satisfied: setuptools in /usr/local/lib/python3.10/dist-packages (from tensorflow==2.9.0) (67.7.2)\n",
            "Requirement already satisfied: six>=1.12.0 in /usr/local/lib/python3.10/dist-packages (from tensorflow==2.9.0) (1.16.0)\n",
            "Collecting tensorboard<2.10,>=2.9 (from tensorflow==2.9.0)\n",
            "  Downloading tensorboard-2.9.1-py3-none-any.whl (5.8 MB)\n",
            "\u001b[2K     \u001b[90m━━━━━━━━━━━━━━━━━━━━━━━━━━━━━━━━━━━━━━━━\u001b[0m \u001b[32m5.8/5.8 MB\u001b[0m \u001b[31m97.3 MB/s\u001b[0m eta \u001b[36m0:00:00\u001b[0m\n",
            "\u001b[?25hRequirement already satisfied: tensorflow-io-gcs-filesystem>=0.23.1 in /usr/local/lib/python3.10/dist-packages (from tensorflow==2.9.0) (0.33.0)\n",
            "Collecting tensorflow-estimator<2.10.0,>=2.9.0rc0 (from tensorflow==2.9.0)\n",
            "  Downloading tensorflow_estimator-2.9.0-py2.py3-none-any.whl (438 kB)\n",
            "\u001b[2K     \u001b[90m━━━━━━━━━━━━━━━━━━━━━━━━━━━━━━━━━━━━━━\u001b[0m \u001b[32m438.7/438.7 kB\u001b[0m \u001b[31m52.1 MB/s\u001b[0m eta \u001b[36m0:00:00\u001b[0m\n",
            "\u001b[?25hRequirement already satisfied: termcolor>=1.1.0 in /usr/local/lib/python3.10/dist-packages (from tensorflow==2.9.0) (2.3.0)\n",
            "Requirement already satisfied: typing-extensions>=3.6.6 in /usr/local/lib/python3.10/dist-packages (from tensorflow==2.9.0) (4.7.1)\n",
            "Requirement already satisfied: wrapt>=1.11.0 in /usr/local/lib/python3.10/dist-packages (from tensorflow==2.9.0) (1.14.1)\n",
            "Requirement already satisfied: wheel<1.0,>=0.23.0 in /usr/local/lib/python3.10/dist-packages (from astunparse>=1.6.0->tensorflow==2.9.0) (0.41.2)\n",
            "Requirement already satisfied: google-auth<3,>=1.6.3 in /usr/local/lib/python3.10/dist-packages (from tensorboard<2.10,>=2.9->tensorflow==2.9.0) (2.17.3)\n",
            "Collecting google-auth-oauthlib<0.5,>=0.4.1 (from tensorboard<2.10,>=2.9->tensorflow==2.9.0)\n",
            "  Downloading google_auth_oauthlib-0.4.6-py2.py3-none-any.whl (18 kB)\n",
            "Requirement already satisfied: markdown>=2.6.8 in /usr/local/lib/python3.10/dist-packages (from tensorboard<2.10,>=2.9->tensorflow==2.9.0) (3.4.4)\n",
            "Collecting protobuf>=3.9.2 (from tensorflow==2.9.0)\n",
            "  Downloading protobuf-3.19.6-cp310-cp310-manylinux_2_17_x86_64.manylinux2014_x86_64.whl (1.1 MB)\n",
            "\u001b[2K     \u001b[90m━━━━━━━━━━━━━━━━━━━━━━━━━━━━━━━━━━━━━━━━\u001b[0m \u001b[32m1.1/1.1 MB\u001b[0m \u001b[31m77.9 MB/s\u001b[0m eta \u001b[36m0:00:00\u001b[0m\n",
            "\u001b[?25hRequirement already satisfied: requests<3,>=2.21.0 in /usr/local/lib/python3.10/dist-packages (from tensorboard<2.10,>=2.9->tensorflow==2.9.0) (2.31.0)\n",
            "Collecting tensorboard-data-server<0.7.0,>=0.6.0 (from tensorboard<2.10,>=2.9->tensorflow==2.9.0)\n",
            "  Downloading tensorboard_data_server-0.6.1-py3-none-manylinux2010_x86_64.whl (4.9 MB)\n",
            "\u001b[2K     \u001b[90m━━━━━━━━━━━━━━━━━━━━━━━━━━━━━━━━━━━━━━━━\u001b[0m \u001b[32m4.9/4.9 MB\u001b[0m \u001b[31m80.3 MB/s\u001b[0m eta \u001b[36m0:00:00\u001b[0m\n",
            "\u001b[?25hCollecting tensorboard-plugin-wit>=1.6.0 (from tensorboard<2.10,>=2.9->tensorflow==2.9.0)\n",
            "  Downloading tensorboard_plugin_wit-1.8.1-py3-none-any.whl (781 kB)\n",
            "\u001b[2K     \u001b[90m━━━━━━━━━━━━━━━━━━━━━━━━━━━━━━━━━━━━━━\u001b[0m \u001b[32m781.3/781.3 kB\u001b[0m \u001b[31m74.2 MB/s\u001b[0m eta \u001b[36m0:00:00\u001b[0m\n",
            "\u001b[?25hRequirement already satisfied: werkzeug>=1.0.1 in /usr/local/lib/python3.10/dist-packages (from tensorboard<2.10,>=2.9->tensorflow==2.9.0) (2.3.7)\n",
            "Requirement already satisfied: cachetools<6.0,>=2.0.0 in /usr/local/lib/python3.10/dist-packages (from google-auth<3,>=1.6.3->tensorboard<2.10,>=2.9->tensorflow==2.9.0) (5.3.1)\n",
            "Requirement already satisfied: pyasn1-modules>=0.2.1 in /usr/local/lib/python3.10/dist-packages (from google-auth<3,>=1.6.3->tensorboard<2.10,>=2.9->tensorflow==2.9.0) (0.3.0)\n",
            "Requirement already satisfied: rsa<5,>=3.1.4 in /usr/local/lib/python3.10/dist-packages (from google-auth<3,>=1.6.3->tensorboard<2.10,>=2.9->tensorflow==2.9.0) (4.9)\n",
            "Requirement already satisfied: requests-oauthlib>=0.7.0 in /usr/local/lib/python3.10/dist-packages (from google-auth-oauthlib<0.5,>=0.4.1->tensorboard<2.10,>=2.9->tensorflow==2.9.0) (1.3.1)\n",
            "Requirement already satisfied: charset-normalizer<4,>=2 in /usr/local/lib/python3.10/dist-packages (from requests<3,>=2.21.0->tensorboard<2.10,>=2.9->tensorflow==2.9.0) (3.2.0)\n",
            "Requirement already satisfied: idna<4,>=2.5 in /usr/local/lib/python3.10/dist-packages (from requests<3,>=2.21.0->tensorboard<2.10,>=2.9->tensorflow==2.9.0) (3.4)\n",
            "Requirement already satisfied: urllib3<3,>=1.21.1 in /usr/local/lib/python3.10/dist-packages (from requests<3,>=2.21.0->tensorboard<2.10,>=2.9->tensorflow==2.9.0) (2.0.4)\n",
            "Requirement already satisfied: certifi>=2017.4.17 in /usr/local/lib/python3.10/dist-packages (from requests<3,>=2.21.0->tensorboard<2.10,>=2.9->tensorflow==2.9.0) (2023.7.22)\n",
            "Requirement already satisfied: MarkupSafe>=2.1.1 in /usr/local/lib/python3.10/dist-packages (from werkzeug>=1.0.1->tensorboard<2.10,>=2.9->tensorflow==2.9.0) (2.1.3)\n",
            "Requirement already satisfied: pyasn1<0.6.0,>=0.4.6 in /usr/local/lib/python3.10/dist-packages (from pyasn1-modules>=0.2.1->google-auth<3,>=1.6.3->tensorboard<2.10,>=2.9->tensorflow==2.9.0) (0.5.0)\n",
            "Requirement already satisfied: oauthlib>=3.0.0 in /usr/local/lib/python3.10/dist-packages (from requests-oauthlib>=0.7.0->google-auth-oauthlib<0.5,>=0.4.1->tensorboard<2.10,>=2.9->tensorflow==2.9.0) (3.2.2)\n",
            "Installing collected packages: tensorboard-plugin-wit, keras, flatbuffers, tensorflow-estimator, tensorboard-data-server, protobuf, keras-preprocessing, google-auth-oauthlib, tensorboard, tensorflow\n",
            "  Attempting uninstall: keras\n",
            "    Found existing installation: keras 2.12.0\n",
            "    Uninstalling keras-2.12.0:\n",
            "      Successfully uninstalled keras-2.12.0\n",
            "  Attempting uninstall: flatbuffers\n",
            "    Found existing installation: flatbuffers 23.5.26\n",
            "    Uninstalling flatbuffers-23.5.26:\n",
            "      Successfully uninstalled flatbuffers-23.5.26\n",
            "  Attempting uninstall: tensorflow-estimator\n",
            "    Found existing installation: tensorflow-estimator 2.12.0\n",
            "    Uninstalling tensorflow-estimator-2.12.0:\n",
            "      Successfully uninstalled tensorflow-estimator-2.12.0\n",
            "  Attempting uninstall: tensorboard-data-server\n",
            "    Found existing installation: tensorboard-data-server 0.7.1\n",
            "    Uninstalling tensorboard-data-server-0.7.1:\n",
            "      Successfully uninstalled tensorboard-data-server-0.7.1\n",
            "  Attempting uninstall: protobuf\n",
            "    Found existing installation: protobuf 3.20.3\n",
            "    Uninstalling protobuf-3.20.3:\n",
            "      Successfully uninstalled protobuf-3.20.3\n",
            "  Attempting uninstall: google-auth-oauthlib\n",
            "    Found existing installation: google-auth-oauthlib 1.0.0\n",
            "    Uninstalling google-auth-oauthlib-1.0.0:\n",
            "      Successfully uninstalled google-auth-oauthlib-1.0.0\n",
            "  Attempting uninstall: tensorboard\n",
            "    Found existing installation: tensorboard 2.12.3\n",
            "    Uninstalling tensorboard-2.12.3:\n",
            "      Successfully uninstalled tensorboard-2.12.3\n",
            "  Attempting uninstall: tensorflow\n",
            "    Found existing installation: tensorflow 2.12.0\n",
            "    Uninstalling tensorflow-2.12.0:\n",
            "      Successfully uninstalled tensorflow-2.12.0\n",
            "\u001b[31mERROR: pip's dependency resolver does not currently take into account all the packages that are installed. This behaviour is the source of the following dependency conflicts.\n",
            "tensorflow-datasets 4.9.2 requires protobuf>=3.20, but you have protobuf 3.19.6 which is incompatible.\n",
            "tensorflow-metadata 1.14.0 requires protobuf<4.21,>=3.20.3, but you have protobuf 3.19.6 which is incompatible.\u001b[0m\u001b[31m\n",
            "\u001b[0mSuccessfully installed flatbuffers-1.12 google-auth-oauthlib-0.4.6 keras-2.9.0 keras-preprocessing-1.1.2 protobuf-3.19.6 tensorboard-2.9.1 tensorboard-data-server-0.6.1 tensorboard-plugin-wit-1.8.1 tensorflow-2.9.0 tensorflow-estimator-2.9.0\n"
          ]
        },
        {
          "output_type": "display_data",
          "data": {
            "application/vnd.colab-display-data+json": {
              "pip_warning": {
                "packages": [
                  "google"
                ]
              }
            }
          },
          "metadata": {}
        },
        {
          "output_type": "stream",
          "name": "stdout",
          "text": [
            "Collecting pillow==8.1.0\n",
            "  Downloading Pillow-8.1.0.tar.gz (44.9 MB)\n",
            "\u001b[2K     \u001b[90m━━━━━━━━━━━━━━━━━━━━━━━━━━━━━━━━━━━━━━━━\u001b[0m \u001b[32m44.9/44.9 MB\u001b[0m \u001b[31m10.9 MB/s\u001b[0m eta \u001b[36m0:00:00\u001b[0m\n",
            "\u001b[?25h  Preparing metadata (setup.py) ... \u001b[?25l\u001b[?25hdone\n",
            "Building wheels for collected packages: pillow\n",
            "  Building wheel for pillow (setup.py) ... \u001b[?25l\u001b[?25hdone\n",
            "  Created wheel for pillow: filename=Pillow-8.1.0-cp310-cp310-linux_x86_64.whl size=1163290 sha256=bcd92d4f4eade405674ddf1e051546ec2350c3e45ac9c3814ebc1548099f77f1\n",
            "  Stored in directory: /root/.cache/pip/wheels/69/ff/e2/ff104a7329d86003512672dcce62234921a9bfb347340fd52c\n",
            "Successfully built pillow\n",
            "Installing collected packages: pillow\n",
            "  Attempting uninstall: pillow\n",
            "    Found existing installation: Pillow 9.4.0\n",
            "    Uninstalling Pillow-9.4.0:\n",
            "      Successfully uninstalled Pillow-9.4.0\n",
            "\u001b[31mERROR: pip's dependency resolver does not currently take into account all the packages that are installed. This behaviour is the source of the following dependency conflicts.\n",
            "imageio 2.31.3 requires pillow>=8.3.2, but you have pillow 8.1.0 which is incompatible.\u001b[0m\u001b[31m\n",
            "\u001b[0mSuccessfully installed pillow-8.1.0\n"
          ]
        },
        {
          "output_type": "display_data",
          "data": {
            "application/vnd.colab-display-data+json": {
              "pip_warning": {
                "packages": [
                  "PIL"
                ]
              }
            }
          },
          "metadata": {}
        }
      ],
      "source": [
        "!pip install grpcio==1.24.3\n",
        "!pip install tensorflow==2.9.0\n",
        "!pip install pillow==8.1.0"
      ],
      "execution_count": null
    },
    {
      "cell_type": "markdown",
      "metadata": {
        "id": "681a4e4f-ef2e-416a-a70c-946547b8aa12"
      },
      "source": [
        "<b>Notice:</b> This notebook has been created with TensorFlow version 2.9.0, and might not work with other versions. Therefore we check:\n"
      ]
    },
    {
      "cell_type": "code",
      "metadata": {
        "id": "b8801866-525d-4dc6-9970-624ac5f698e0"
      },
      "outputs": [],
      "source": [
        "import tensorflow as tf\n",
        "from IPython.display import Markdown, display\n",
        "\n",
        "def printmd(string):\n",
        "    display(Markdown('# <span style=\"color:red\">'+string+'</span>'))\n",
        "\n",
        "\n",
        "if not tf.__version__ == '2.9.0':\n",
        "    printmd('<<<<<!!!!! ERROR !!!! please upgrade to TensorFlow 2.9.0, or restart your Kernel (Kernel->Restart & Clear Output)>>>>>')"
      ],
      "execution_count": null
    },
    {
      "cell_type": "markdown",
      "metadata": {
        "id": "e45094f2-4d4a-4fed-a2dd-4929a34fe5ea"
      },
      "source": [
        "Now, we load in all the packages that we use to create the net including the TensorFlow package:\n"
      ]
    },
    {
      "cell_type": "code",
      "metadata": {
        "id": "50bdebfb-45a5-4ca1-a27b-0f0418cf8f5d"
      },
      "outputs": [],
      "source": [
        "import tensorflow as tf\n",
        "import numpy as np\n",
        "\n",
        "from PIL import Image\n",
        "from utils import tile_raster_images\n",
        "import matplotlib.pyplot as plt\n",
        "%matplotlib inline"
      ],
      "execution_count": null
    },
    {
      "cell_type": "markdown",
      "metadata": {
        "id": "1221efcd-a883-473d-bb86-a34ee68c8ea9"
      },
      "source": [
        "<hr>\n"
      ]
    },
    {
      "cell_type": "markdown",
      "metadata": {
        "id": "77b0892d-d47e-4590-b2c5-dc8c0e3d7752"
      },
      "source": [
        "<a id=\"ref2\"></a>\n",
        "<h3>RBM layers</h3>\n",
        "\n",
        "An RBM has two layers. The first layer of the RBM is called the <b>visible</b> (or input layer). Imagine that our toy example, has only vectors with 7 values, so the visible layer must have $V=7$ input nodes.\n",
        "The second layer is the <b>hidden</b> layer, which has $H$ neurons in our case. Each hidden node takes on values of either 0 or 1 (i.e., $h_i = 1$ or $h_i$ = 0), with a probability that is a logistic function of the inputs it receives from the other $V$ visible units, called for example, $p(h_i = 1)$. For our toy sample, we'll use 2 nodes in the hidden layer, so $H = 2$.\n",
        "\n",
        "<center><img src=\"https://ibm.box.com/shared/static/eu26opvcefgls6vnwuo29uwp0nudmokh.png\" alt=\"RBM Model\" style=\"width: 400px;\"></center>\n"
      ]
    },
    {
      "cell_type": "markdown",
      "metadata": {
        "id": "349468b7-0ffd-4e8f-8d68-d9443be849a8"
      },
      "source": [
        "     \n",
        "\n",
        "Each node in the first layer also has a <b>bias</b>. We will denote the bias as $v_{bias}$, and this single value is shared among the $V$ visible units.\n",
        "\n",
        "The <b>bias</b> of the second is defined similarly as $h_{bias}$, and this single value among the $H$ hidden units.\n"
      ]
    },
    {
      "cell_type": "code",
      "metadata": {
        "id": "2faea12d-bdae-421e-b61f-e9a70103e7bb"
      },
      "outputs": [],
      "source": [
        "v_bias = tf.Variable(tf.zeros([7]), tf.float32)\n",
        "h_bias = tf.Variable(tf.zeros([2]), tf.float32)"
      ],
      "execution_count": null
    },
    {
      "cell_type": "markdown",
      "metadata": {
        "id": "48d08e21-a12d-4c41-a2f2-35c000783b8a"
      },
      "source": [
        "We have to define weights among the input layer and hidden layer nodes. In the weight matrix, the number of rows are equal to the input nodes, and the number of columns are equal to the output nodes. We define a tensor $\\mathbf{W}$ of shape = (7,2), where the number of visible neurons = 7, and the number of hidden neurons = 2.\n"
      ]
    },
    {
      "cell_type": "code",
      "metadata": {
        "id": "e47a9ee0-0eb2-4184-8b46-5815eddc060b"
      },
      "outputs": [],
      "source": [
        "W = tf.constant(np.random.normal(loc=0.0, scale=1.0, size=(7, 2)).astype(np.float32))"
      ],
      "execution_count": null
    },
    {
      "cell_type": "markdown",
      "metadata": {
        "id": "74b48a8e-be39-4b5a-a310-0be1f4c6381a"
      },
      "source": [
        "<hr>\n"
      ]
    },
    {
      "cell_type": "markdown",
      "metadata": {
        "id": "218458dc-8d87-4c24-b9aa-db6117cdc8f8"
      },
      "source": [
        "<a id=\"ref3\"></a>\n",
        "<h3>What RBM can do after training?</h3>\n",
        "Think of RBM as a model that has been trained based on images of a dataset of many SUV and sedan cars. Also, imagine that the RBM network has only two hidden nodes, where one node encodes the weight and, and the other encodes the size.  \n",
        "In a sense, the different configurations represent different cars, where one is an SUV and the other is Sedan.  In a training process, through many forward and backward passes, the RBM adjust its weights to send a stronger signal to either the SUV node (0, 1) or the sedan node (1, 0) in the hidden layer, given the pixels of images. Now, given an SUV in hidden layer, which distribution of pixels should we expect? RBM can give you 2 things. First, it encodes your images in hidden layer. Second, it gives you the probability of observing a case, given some hidden values.\n",
        "\n",
        "\n",
        "<h3>The Inference Process</h3>\n",
        "\n",
        "RBM has two phases:\n",
        "<ul>\n",
        "    <li>Forward Pass</li>  \n",
        "    <li>Backward Pass or Reconstruction</li>\n",
        "</ul>\n",
        "\n",
        "<b>Phase 1) Forward pass:</b>  \n",
        "\n",
        "Input one training sample (one image) $\\mathbf{x}$ through all visible nodes, and pass it to all hidden nodes. Processing happens in each node in the hidden layer. This computation begins by making stochastic decisions about whether to transmit that input or not (i.e. to determine the state of each hidden layer).  First, the probability vector is computed using the input feature vector $\\mathbf{x}$, the weight matrix $\\mathbf{W}$, and the bias term $h_{bias}$, as\n",
        "\n",
        "\n",
        "$$p({h_j}|\\mathbf x)= \\sigma( \\sum_{i=1}^V W_{ij} x_i + h_{bias} )$$,\n",
        "\n",
        "where $\\sigma(z) = (1+e^{-z})^{-1}$ is the logistic function.\n",
        "\n",
        "\n",
        "So, what does $p({h_j})$ represent? It is the <b>probability distribution</b> of the hidden units. That is, RBM uses inputs $x_i$ to make predictions about hidden node activations. For example, imagine that the hidden node activation values are [0.51 0.84] for the first training item. It tells you that the conditional probability for each hidden neuron for Phase 1 is:\n",
        "\n",
        "$$p(h_{1} = 1|\\mathbf{v}) = 0.51$$\n",
        "$$p(h_{2} = 1|\\mathbf{v}) = 0.84$$\n",
        "\n",
        "As a result, for each row in the training set, vector of probabilities is generated.  In TensorFlow, this is referred to as a `tensor` with a shape of (1,2).\n",
        "\n",
        "We then turn unit $j$ with probability $p(h_{j}|\\mathbf{v})$, and turn it off with probability $1 - p(h_{j}|\\mathbf{v})$ by generating a uniform random number vector $\\mathbf{\\xi}$, and comparing it to the activation probability as\n",
        "\n",
        "<center>If $\\xi_j>p(h_{j}|\\mathbf{v})$, then $h_j=1$, else $h_j=0$.</center>\n",
        "\n",
        "\n",
        "Therefore, the conditional probability of a configuration of $\\mathbf{h}$ given $\\mathbf{v}$ (for a training sample) is:\n",
        "\n",
        "$$p(\\mathbf{h} \\mid \\mathbf{v}) = \\prod_{j=1}^H p(h_j \\mid \\mathbf{v})$$\n",
        "\n",
        "\n",
        "where $H$ is the number of hidden units.\n",
        "\n"
      ]
    },
    {
      "cell_type": "markdown",
      "metadata": {
        "id": "8d88de99-9eac-4b72-9ef4-d050160fcb2a"
      },
      "source": [
        "Before we go further, let's look at a toy example for one case out of all input. Assume that we have a trained RBM, and a very simple input vector, such as [1.0, 0.0, 0.0, 1.0, 0.0, 0.0, 0.0].   \n",
        "Let's see what the output of forward pass would look like:\n"
      ]
    },
    {
      "cell_type": "code",
      "metadata": {
        "colab": {
          "base_uri": "https://localhost:8080/"
        },
        "id": "64856f2f-4991-487c-9de4-bd090c9e8aa7",
        "outputId": "7124a849-71b3-445f-ea8f-adbe6dabb0e6"
      },
      "outputs": [
        {
          "output_type": "stream",
          "name": "stdout",
          "text": [
            "Input:  tf.Tensor([[1. 0. 0. 1. 0. 0. 0.]], shape=(1, 7), dtype=float32)\n",
            "hb:  tf.Tensor([0.1 0.1], shape=(2,), dtype=float32)\n",
            "w:  tf.Tensor(\n",
            "[[-5.0255972e-01 -2.4624985e-01]\n",
            " [ 2.0281897e-01 -1.0413534e-01]\n",
            " [ 6.0944492e-04 -1.5095414e+00]\n",
            " [ 1.4087386e+00  1.8877883e+00]\n",
            " [-1.1164203e+00  1.0997404e+00]\n",
            " [ 4.5617110e-01  5.1200247e-01]\n",
            " [-2.9727930e-01  1.1648121e+00]], shape=(7, 2), dtype=float32)\n",
            "p(h|v):  tf.Tensor([[0.7322717 0.8508824]], shape=(1, 2), dtype=float32)\n",
            "h0 states: tf.Tensor([[1. 1.]], shape=(1, 2), dtype=float32)\n"
          ]
        }
      ],
      "source": [
        "X = tf.constant([[1.0, 0.0, 0.0, 1.0, 0.0, 0.0, 0.0]], tf.float32)\n",
        "\n",
        "v_state = X\n",
        "print (\"Input: \", v_state)\n",
        "\n",
        "h_bias = tf.constant([0.1, 0.1])\n",
        "print (\"hb: \", h_bias)\n",
        "print (\"w: \", W)\n",
        "\n",
        "# Calculate the probabilities of turning the hidden units on:\n",
        "h_prob = tf.nn.sigmoid(tf.matmul(v_state, W) + h_bias)  #probabilities of the hidden units\n",
        "print (\"p(h|v): \", h_prob)\n",
        "\n",
        "# Draw samples from the distribution:\n",
        "h_state = tf.nn.relu(tf.sign(h_prob - tf.random.uniform(tf.shape(h_prob)))) #states\n",
        "print (\"h0 states:\", h_state)"
      ],
      "execution_count": null
    },
    {
      "cell_type": "markdown",
      "metadata": {
        "id": "5e5f1913-71e8-40ce-b266-5eb1f49ea46b"
      },
      "source": [
        "<b>Phase 2) Backward Pass (Reconstruction):</b>\n",
        "The RBM reconstructs data by making several forward and backward passes between the visible and hidden layers.\n",
        "\n",
        "So, in the second phase (i.e. reconstruction phase), the samples from the hidden layer (i.e. $\\mathbf h$) becomes the input in the backward pass. The same weight matrix and visible layer biases are used to passed to the sigmoid function. The reproduced output is a reconstruction which is an approximation of the original input.\n"
      ]
    },
    {
      "cell_type": "code",
      "metadata": {
        "colab": {
          "base_uri": "https://localhost:8080/"
        },
        "id": "35f26183-0036-4af6-b019-7c61780a2faa",
        "outputId": "48d9784e-1afb-4bd2-d93a-96f098f3a063"
      },
      "outputs": [
        {
          "output_type": "stream",
          "name": "stdout",
          "text": [
            "b:  tf.Tensor([0.1 0.2 0.1 0.1 0.1 0.2 0.1], shape=(7,), dtype=float32)\n",
            "p(vi∣h):  tf.Tensor(\n",
            "[[0.34325784 0.57412064 0.19640256 0.9675959  0.520818   0.76281476\n",
            "  0.7246275 ]], shape=(1, 7), dtype=float32)\n",
            "v probability states:  tf.Tensor([[1. 1. 1. 1. 0. 0. 1.]], shape=(1, 7), dtype=float32)\n"
          ]
        }
      ],
      "source": [
        "vb = tf.constant([0.1, 0.2, 0.1, 0.1, 0.1, 0.2, 0.1])\n",
        "print (\"b: \", vb)\n",
        "v_prob = tf.nn.sigmoid(tf.matmul(h_state, tf.transpose(W)) + vb)\n",
        "print (\"p(vi∣h): \", v_prob)\n",
        "v_state = tf.nn.relu(tf.sign(v_prob - tf.random.uniform(tf.shape(v_prob))))\n",
        "print (\"v probability states: \", v_state)"
      ],
      "execution_count": null
    },
    {
      "cell_type": "markdown",
      "metadata": {
        "id": "c0622071-a2aa-4f6e-bbe6-9a58d9ca792c"
      },
      "source": [
        "RBM learns a probability distribution over the input, and then, after being trained, the RBM can generate new samples from the learned probability distribution. As you know, <b>probability distribution</b>, is a mathematical function that provides the probabilities of occurrence of different possible outcomes in an experiment.\n",
        "\n",
        "The (conditional) probability distribution over the visible units v is given by\n",
        "\n",
        "$$p(\\mathbf{v} \\mid \\mathbf{h}) = \\prod_{i=1}^V p(v_i \\mid \\mathbf{h}),$$\n",
        "\n",
        "\n",
        "where,\n",
        "\n",
        "$$p(v_i \\mid \\mathbf{h}) = \\sigma\\left(\\sum_{j=1}^H W_{ji} h_j + v_{bias} \\right)$$\n",
        "\n",
        "so, given current state of hidden units and weights, what is the probability of generating [1. 0. 0. 1. 0. 0. 0.] in reconstruction phase, based on the above <b>probability distribution</b> function?\n"
      ]
    },
    {
      "cell_type": "code",
      "metadata": {
        "colab": {
          "base_uri": "https://localhost:8080/"
        },
        "id": "992ccc3d-91de-40fd-9d28-1323bfb7b24c",
        "outputId": "37655097-2972-4d3a-b777-7b94952f8832"
      },
      "outputs": [
        {
          "output_type": "stream",
          "name": "stdout",
          "text": [
            "input X: [[1. 0. 0. 1. 0. 0. 0.]]\n",
            "probablity vector: [0.34325784 0.57412064 0.19640256 0.9675959  0.520818   0.76281476\n",
            " 0.7246275 ]\n",
            "probability of generating X:  0.0035575284\n"
          ]
        }
      ],
      "source": [
        "inp = X\n",
        "print(\"input X:\" , inp.numpy())\n",
        "\n",
        "print(\"probablity vector:\" , v_prob[0].numpy())\n",
        "v_probability = 1\n",
        "\n",
        "for elm, p in zip(inp[0],v_prob[0]) :\n",
        "    if elm ==1:\n",
        "        v_probability *= p\n",
        "    else:\n",
        "        v_probability *= (1-p)\n",
        "\n",
        "print(\"probability of generating X: \" , v_probability.numpy())"
      ],
      "execution_count": null
    },
    {
      "cell_type": "markdown",
      "metadata": {
        "id": "04ff95c7-8dee-4837-ac2e-b2549675baec"
      },
      "source": [
        "How similar are vectors $\\mathbf{x}$ and $\\mathbf{v}$? Of course, the reconstructed values most likely will not look anything like the input vector, because our network has not been trained yet. Our objective is to train the model in such a way that the input vector and reconstructed vector to be same. Therefore, based on how different the input values look to the ones that we just reconstructed, the weights are adjusted.\n"
      ]
    },
    {
      "cell_type": "markdown",
      "metadata": {
        "id": "c8c5b30a-e8b1-4f5c-a330-35afa2fd9bbc"
      },
      "source": [
        "<hr>\n"
      ]
    },
    {
      "cell_type": "markdown",
      "metadata": {
        "id": "6df2fdeb-258e-419a-bd8f-d355160dfa15"
      },
      "source": [
        "\n",
        "<h2>MNIST</h2>\n"
      ]
    },
    {
      "cell_type": "markdown",
      "metadata": {
        "id": "3779926d-23c1-4d66-914f-7f078d9f6595"
      },
      "source": [
        "We will be using the MNIST dataset to practice the usage of RBMs. The following cell loads the MNIST dataset.\n"
      ]
    },
    {
      "cell_type": "code",
      "metadata": {
        "colab": {
          "base_uri": "https://localhost:8080/"
        },
        "id": "5d78f144-b7cb-4666-9804-9534cbf9cad8",
        "outputId": "bc6a9a29-f595-4ba6-9d65-2ca8a0e1df8d"
      },
      "outputs": [
        {
          "output_type": "stream",
          "name": "stdout",
          "text": [
            "Downloading data from https://storage.googleapis.com/tensorflow/tf-keras-datasets/mnist.npz\n",
            "11490434/11490434 [==============================] - 0s 0us/step\n"
          ]
        }
      ],
      "source": [
        "#loading training and test data\n",
        "mnist = tf.keras.datasets.mnist\n",
        "(trX, trY), (teX, teY) = mnist.load_data()\n",
        "\n",
        "# showing an example of the Flatten class and operation\n",
        "from tensorflow.keras.layers import Flatten\n",
        "flatten = Flatten(dtype='float32')\n",
        "trX = flatten(trX/255.0)\n",
        "trY = flatten(trY/255.0)"
      ],
      "execution_count": null
    },
    {
      "cell_type": "markdown",
      "metadata": {
        "id": "75a2621a-f73c-4b61-8e8a-a22eb6a3af12"
      },
      "source": [
        "Lets look at the dimension of the images.\n"
      ]
    },
    {
      "cell_type": "markdown",
      "metadata": {
        "id": "00b23490-c951-4b35-a900-2431a5095a70"
      },
      "source": [
        "MNIST images have 784 pixels, so the visible layer must have 784 input nodes.  For our case, we'll use 50 nodes in the hidden layer, so i = 50.\n"
      ]
    },
    {
      "cell_type": "code",
      "metadata": {
        "id": "bb7cc0bc-5aa1-4676-bcfb-f6ae3dd1bab1"
      },
      "outputs": [],
      "source": [
        "vb = tf.Variable(tf.zeros([784]), tf.float32)\n",
        "hb = tf.Variable(tf.zeros([50]), tf.float32)"
      ],
      "execution_count": null
    },
    {
      "cell_type": "markdown",
      "metadata": {
        "id": "92f25b3c-44a4-4342-9923-dddc9a2739e6"
      },
      "source": [
        "Let $\\mathbf W$ be the Tensor of 784x50 (784 - number of visible neurons, 50 - number of hidden neurons) that represents weights between the neurons.\n"
      ]
    },
    {
      "cell_type": "code",
      "metadata": {
        "id": "cac85183-49e0-4225-abb3-54b0093a3f45"
      },
      "outputs": [],
      "source": [
        "W = tf.Variable(tf.zeros([784,50]), tf.float32)"
      ],
      "execution_count": null
    },
    {
      "cell_type": "markdown",
      "metadata": {
        "id": "067c4e92-2a6c-4e0b-8b3f-19e7cad60c4d"
      },
      "source": [
        "Lets define the visible layer:\n"
      ]
    },
    {
      "cell_type": "code",
      "metadata": {
        "colab": {
          "base_uri": "https://localhost:8080/"
        },
        "id": "72f731e1-0533-4cd4-b5a2-d6b916e23d02",
        "outputId": "5c577de6-94bd-4178-ac4e-193a7732eaeb"
      },
      "outputs": [
        {
          "output_type": "execute_result",
          "data": {
            "text/plain": [
              "<tf.Tensor: shape=(1, 50), dtype=float32, numpy=\n",
              "array([[0., 0., 0., 0., 0., 0., 0., 0., 0., 0., 0., 0., 0., 0., 0., 0.,\n",
              "        0., 0., 0., 0., 0., 0., 0., 0., 0., 0., 0., 0., 0., 0., 0., 0.,\n",
              "        0., 0., 0., 0., 0., 0., 0., 0., 0., 0., 0., 0., 0., 0., 0., 0.,\n",
              "        0., 0.]], dtype=float32)>"
            ]
          },
          "metadata": {},
          "execution_count": 13
        }
      ],
      "source": [
        "v0_state = tf.Variable(tf.zeros([784]), tf.float32)\n",
        "\n",
        "#testing to see if the matrix product works\n",
        "tf.matmul( [v0_state], W)"
      ],
      "execution_count": null
    },
    {
      "cell_type": "markdown",
      "metadata": {
        "id": "7a4347f8-e9f7-4bcb-9350-c9d132b84545"
      },
      "source": [
        "Now, we can define hidden layer:\n"
      ]
    },
    {
      "cell_type": "code",
      "metadata": {
        "colab": {
          "base_uri": "https://localhost:8080/"
        },
        "id": "abba6ab2-2950-4954-b08d-4a04defd8b93",
        "outputId": "12d3e45b-f0dc-4ef8-da82-b097069a6867"
      },
      "outputs": [
        {
          "output_type": "stream",
          "name": "stdout",
          "text": [
            "h0_state shape:  tf.Tensor([ 1 50], shape=(2,), dtype=int32)\n",
            "first 15 hidden states:  tf.Tensor([1. 1. 0. 1. 1. 0. 1. 0. 1. 1. 1. 0. 1. 1. 1.], shape=(15,), dtype=float32)\n"
          ]
        }
      ],
      "source": [
        "#computing the hidden nodes probability vector and checking shape\n",
        "h0_prob = tf.nn.sigmoid(tf.matmul([v0_state], W) + hb)  #probabilities of the hidden units\n",
        "print(\"h0_state shape: \" , tf.shape(h0_prob))\n",
        "\n",
        "#defining a function to return only the generated hidden states\n",
        "def hidden_layer(v0_state, W, hb):\n",
        "    h0_prob = tf.nn.sigmoid(tf.matmul([v0_state], W) + hb)  #probabilities of the hidden units\n",
        "    h0_state = tf.nn.relu(tf.sign(h0_prob - tf.random.uniform(tf.shape(h0_prob)))) #sample_h_given_X\n",
        "    return h0_state\n",
        "\n",
        "\n",
        "h0_state = hidden_layer(v0_state, W, hb)\n",
        "print(\"first 15 hidden states: \", h0_state[0][0:15])"
      ],
      "execution_count": null
    },
    {
      "cell_type": "markdown",
      "metadata": {
        "id": "76405c42-562c-4a41-ab0b-2d956368750c"
      },
      "source": [
        "Now, we define reconstruction part:\n"
      ]
    },
    {
      "cell_type": "code",
      "metadata": {
        "colab": {
          "base_uri": "https://localhost:8080/"
        },
        "id": "d069fab9-d9bd-4bf6-915f-9944cee81d88",
        "outputId": "05eee345-a258-41a3-cd97-c33edd3a1a52"
      },
      "outputs": [
        {
          "output_type": "stream",
          "name": "stdout",
          "text": [
            "hidden state shape:  (1, 50)\n",
            "v0 state shape:   (784,)\n",
            "v1 state shape:   (784,)\n"
          ]
        }
      ],
      "source": [
        "def reconstructed_output(h0_state, W, vb):\n",
        "    v1_prob = tf.nn.sigmoid(tf.matmul(h0_state, tf.transpose(W)) + vb)\n",
        "    v1_state = tf.nn.relu(tf.sign(v1_prob - tf.random.uniform(tf.shape(v1_prob)))) #sample_v_given_h\n",
        "    return v1_state[0]\n",
        "\n",
        "v1_state = reconstructed_output(h0_state, W, vb)\n",
        "print(\"hidden state shape: \", h0_state.shape)\n",
        "print(\"v0 state shape:  \", v0_state.shape)\n",
        "print(\"v1 state shape:  \", v1_state.shape)"
      ],
      "execution_count": null
    },
    {
      "cell_type": "markdown",
      "metadata": {
        "id": "1ada2348-7da0-42bd-b392-08af72dda252"
      },
      "source": [
        "<h3>What is the objective function?</h3>\n",
        "\n",
        "<b>Goal</b>: Maximize the likelihood of our data being drawn from that distribution\n",
        "\n",
        "<b>Calculate error:</b>  \n",
        "In each epoch, we compute the \"error\" as a sum of the squared difference between step 1 and step n,\n",
        "e.g the error shows the difference between the data and its reconstruction.\n",
        "\n",
        "<b>Note:</b> tf.reduce_mean computes the mean of elements across dimensions of a tensor.\n"
      ]
    },
    {
      "cell_type": "code",
      "metadata": {
        "colab": {
          "base_uri": "https://localhost:8080/"
        },
        "id": "c04edd06-e384-4bd1-800c-8b202e954523",
        "outputId": "96141343-78c4-49fc-c731-669fc8709342"
      },
      "outputs": [
        {
          "output_type": "stream",
          "name": "stdout",
          "text": [
            "error 0.50382656\n"
          ]
        }
      ],
      "source": [
        "def error(v0_state, v1_state):\n",
        "    return tf.reduce_mean(tf.square(v0_state - v1_state))\n",
        "\n",
        "err = tf.reduce_mean(tf.square(v0_state - v1_state))\n",
        "print(\"error\" , err.numpy())"
      ],
      "execution_count": null
    },
    {
      "cell_type": "markdown",
      "metadata": {
        "id": "0a5650f7-3608-4e20-993d-404e38955b0a"
      },
      "source": [
        "<a id=\"ref4\"></a>\n",
        "<h3>Training the Model</h3>\n",
        "<b>Warning...</b> The following part is math-heavy, but you can skip it if you just want to run the cells in the next section.\n",
        "\n",
        "As mentioned, we want to give a high probability to the input data we train on. So, in order to train an RBM, we have to maximize the product of probabilities assigned to all rows $\\mathbf{v}$ (images) in the training set $\\mathbf{V}$ (a matrix, where each row of it is treated as a visible vector $\\mathbf{v}$)\n",
        "\n",
        "$$\\arg \\max_W \\prod_{\\mathbf{v}\\in\\mathbf{V}_T} p(\\mathbf{v})$$\n",
        "\n",
        "\n",
        "which is equivalent to maximizing the expectation of the log probability, given as\n",
        "\n",
        "$$\\arg\\max_W\\left[ \\mathbb{E} \\left(\\prod_{\\mathbf v\\in \\mathbf V}\\text{log} \\left(p(\\mathbf v)\\right) \\right) \\right].$$\n",
        "\n",
        "\n",
        "So, we have to update the weights $W_{ij}$  to increase $p(\\mathbf{v})$ for all $\\mathbf{v}$ in our training data during training. So we have to calculate the derivative:\n",
        "\n",
        "\n",
        "$$\\frac{\\partial \\log p(\\mathbf v)}{\\partial W_{ij}}$$\n",
        "\n",
        "This cannot be easily done by typical <b>gradient descent (SGD)</b>, so we can use another approach, which has 2 steps:\n",
        "<ol>\n",
        "    <li>Gibbs Sampling</li>\n",
        "    <li>Contrastive Divergence</li>\n",
        "</ol>    \n",
        "    \n",
        "<h3>Gibbs Sampling</h3>   \n",
        "\n",
        "<h4>Gibbs Sampling Step 1</h4>\n",
        "Given an input vector $\\mathbf{v}$, we are using $p(\\mathbf{h}|\\mathbf{v})$ to predict the hidden values $\\mathbf{h}$.\n",
        "  $$p({h_j}|\\mathbf v)= \\sigma\\left(\\sum_{i=1}^V W_{ij} v_i + h_{bias} \\right)$$\n",
        "The samples are generated from this distribution by generating the uniform random variate vector $\\mathbf{\\xi} \\sim U[0,1]$ of length $H$ and comparing to the computed probabilities as\n",
        "\n",
        "\n",
        "<center>If $\\xi_j>p(h_{j}|\\mathbf{v})$, then $h_j=1$, else $h_j=0$.</center>\n",
        "\n",
        "\n",
        "<h4>Gibbs Sampling Step 2</h4>\n",
        "Then, knowing the hidden values, we use $p(\\mathbf v| \\mathbf h)$ for reconstructing of new input values v.\n",
        "\n",
        "   $$p({v_i}|\\mathbf h)= \\sigma\\left(\\sum_{j=1}^H W^{T}_{ij} h_j + v_{bias} \\right)$$\n",
        "\n",
        "\n",
        "The samples are generated from this distribution by generating a uniform random variate vector $\\mathbf{\\xi} \\sim U[0,1]$ of length $V$ and comparing to the computed probabilities as\n",
        "\n",
        "<center>If $\\xi_i>p(v_{i}|\\mathbf{h})$, then $v_i=1$, else $v_i=0$.</center>\n",
        "\n",
        "Let vectors $\\mathbf v_k$ and $\\mathbf h_k$ be for the $k$th iteration.  In general, the $kth$ state is generrated as:\n",
        "\n",
        "\n",
        "    \n",
        "<b>Iteration</b> $k$:\n",
        "\n",
        "$$\\mathbf v_{k-1} \\Rightarrow p(\\mathbf h_{k-1}|\\mathbf v_{k-1})\\Rightarrow \\mathbf h_{k-1}\\Rightarrow p(\\mathbf v_{k}|\\mathbf h_{k-1})\\Rightarrow \\mathbf v_k$$       \n",
        "    \n",
        "<h3>Contrastive Divergence (CD-k)</h3>\n",
        "The update of the weight matrix is done during the Contrastive Divergence step.\n",
        "\n",
        "Vectors v0 and vk are used to calculate the activation probabilities for hidden values h0 and hk. The difference between the outer products of those probabilities with input vectors v0 and vk results in the update matrix:\n",
        "\n",
        "\n",
        "$$\\Delta \\mathbf W_k =\\mathbf v_k \\otimes \\mathbf h_k - \\mathbf v_{k-1} \\otimes \\mathbf h_{k-1}$$\n",
        "\n",
        "Contrastive Divergence is actually matrix of values that is computed and used to adjust values of the $\\mathbf W$ matrix. Changing $\\mathbf W$ incrementally leads to training of the  $\\mathbf W$ values. Then, on each step (epoch), $\\mathbf W$ is updated using the following:\n",
        "\n",
        "$$\\mathbf W_k = \\mathbf W_{k-1} + \\alpha * \\Delta \\mathbf W_k$$\n",
        "\n",
        "\n",
        "\n",
        "Reconstruction steps:\n",
        "<ul>\n",
        "    <li> Get one data point from data set, like <i>x</i>, and pass it through the following steps:</li>\n",
        "    \n",
        "<b>Iteration</b> $k=1$:\n",
        "    \n",
        "Sampling (starting with input image)\n",
        "    $$\\mathbf x = \\mathbf v_0 \\Rightarrow p(\\mathbf h_0|\\mathbf v_0)\\Rightarrow \\mathbf h_0 \\Rightarrow p(\\mathbf v_1|\\mathbf h_0)\\Rightarrow \\mathbf v_1$$   \n",
        "    followed by the CD-k step\n",
        "$$\\Delta \\mathbf W_1 =\\mathbf v_1 \\otimes \\mathbf h_1 - \\mathbf v_{0} \\otimes \\mathbf h_{0}$$     \n",
        "$$\\mathbf W_1 = \\mathbf W_{0} + \\alpha * \\Delta \\mathbf W_1$$\n",
        "\n",
        "<li> $\\mathbf v_1$ is the reconstruction of $\\mathbf x$ sent to the next iteration).</li>\n",
        "\n",
        "<b>Iteration</b> $k=2$:\n",
        "\n",
        "Sampling (starting with $\\mathbf v_1$)\n",
        "\n",
        "$$\\mathbf v_1 \\Rightarrow p(\\mathbf h_1|\\mathbf v_1)\\Rightarrow \\mathbf h_1\\Rightarrow p(\\mathbf v_2|\\mathbf h_1)\\Rightarrow \\mathbf v_2$$   \n",
        "\n",
        "followed by the CD-k step\n",
        "$$\\Delta \\mathbf W_2 =\\mathbf v_2 \\otimes \\mathbf h_2 - \\mathbf v_{1} \\otimes \\mathbf h_{1}$$     \n",
        "$$\\mathbf W_2 = \\mathbf W_{1} + \\alpha * \\Delta \\mathbf W_2$$\n",
        "\n",
        "<li> $\\mathbf v_2$ is the reconstruction of $\\mathbf v_1$ sent to the next iteration).</li>    \n",
        "      \n",
        "<b>Iteration</b> $k=K$:\n",
        "    \n",
        "Sampling (starting with $\\mathbf v_{K-1}$)\n",
        "\n",
        "$$\\mathbf v_{K-1} \\Rightarrow p(\\mathbf h_{K-1}|\\mathbf v_{K-1})\\Rightarrow \\mathbf h_{K-1}\\Rightarrow p(\\mathbf v_K|\\mathbf h_{K-1})\\Rightarrow \\mathbf v_K$$   \n",
        "\n",
        "followed by the CD-k step\n",
        "$$\\Delta \\mathbf W_K =\\mathbf v_K \\otimes \\mathbf h_K - \\mathbf v_{K-1} \\otimes \\mathbf h_{K-1}$$     \n",
        "$$\\mathbf W_K = \\mathbf W_{K-1} + \\alpha * \\Delta \\mathbf W_K$$\n",
        "    \n",
        "<b>What is $\\alpha$?</b>  \n",
        "Here, alpha is some small step size, and is also known as the \"learning rate\".\n"
      ]
    },
    {
      "cell_type": "markdown",
      "metadata": {
        "id": "2f60b14f-bf2d-45c4-8d0f-67b966c6fc01"
      },
      "source": [
        "$K$ is adjustable, and good performance can be achieved with $K=1$, so that we just take one set of sampling steps per image.\n"
      ]
    },
    {
      "cell_type": "code",
      "metadata": {
        "id": "413c50ad-dcdb-422e-a95c-ba37840142d3"
      },
      "outputs": [],
      "source": [
        "h1_prob = tf.nn.sigmoid(tf.matmul([v1_state], W) + hb)\n",
        "h1_state = tf.nn.relu(tf.sign(h1_prob - tf.random.uniform(tf.shape(h1_prob)))) #sample_h_given_X"
      ],
      "execution_count": null
    },
    {
      "cell_type": "markdown",
      "metadata": {
        "id": "f38794be-3ed5-4ec5-ac1f-b8ad51bc3333"
      },
      "source": [
        "Lets look at the error of the first run:\n"
      ]
    },
    {
      "cell_type": "code",
      "metadata": {
        "colab": {
          "base_uri": "https://localhost:8080/"
        },
        "id": "dc6cde30-4a2a-46b0-83aa-3c6043d3ff27",
        "outputId": "4e7887e8-dba0-491c-c636-516dcc0d4292"
      },
      "outputs": [
        {
          "output_type": "stream",
          "name": "stdout",
          "text": [
            "error:  tf.Tensor(0.50382656, shape=(), dtype=float32)\n"
          ]
        }
      ],
      "source": [
        "print(\"error: \", error(v0_state, v1_state))"
      ],
      "execution_count": null
    },
    {
      "cell_type": "code",
      "metadata": {
        "colab": {
          "base_uri": "https://localhost:8080/"
        },
        "id": "4365ca66-201b-4020-a14a-554ef5fc0ba7",
        "outputId": "2c8a1354-a65d-47b7-9fc2-a2d0163d05c2"
      },
      "outputs": [
        {
          "output_type": "stream",
          "name": "stdout",
          "text": [
            "Epoch: 0 batch #: 1  of 300 sample #: 199 reconstruction error: 0.172537\n",
            "Epoch: 0 batch #: 2  of 300 sample #: 199 reconstruction error: 0.196851\n",
            "Epoch: 0 batch #: 3  of 300 sample #: 199 reconstruction error: 0.124031\n",
            "Epoch: 0 batch #: 4  of 300 sample #: 199 reconstruction error: 0.126817\n",
            "Epoch: 0 batch #: 5  of 300 sample #: 199 reconstruction error: 0.100618\n",
            "Epoch: 0 batch #: 6  of 300 sample #: 199 reconstruction error: 0.176785\n",
            "Epoch: 0 batch #: 7  of 300 sample #: 199 reconstruction error: 0.101809\n",
            "Epoch: 0 batch #: 8  of 300 sample #: 199 reconstruction error: 0.105763\n",
            "Epoch: 0 batch #: 9  of 300 sample #: 199 reconstruction error: 0.110356\n",
            "Epoch: 0 batch #: 10  of 300 sample #: 199 reconstruction error: 0.186350\n",
            "Epoch: 0 batch #: 11  of 300 sample #: 199 reconstruction error: 0.088295\n",
            "Epoch: 0 batch #: 12  of 300 sample #: 199 reconstruction error: 0.136876\n",
            "Epoch: 0 batch #: 13  of 300 sample #: 199 reconstruction error: 0.063088\n",
            "Epoch: 0 batch #: 14  of 300 sample #: 199 reconstruction error: 0.106884\n",
            "Epoch: 0 batch #: 15  of 300 sample #: 199 reconstruction error: 0.102807\n",
            "Epoch: 0 batch #: 16  of 300 sample #: 199 reconstruction error: 0.108028\n",
            "Epoch: 0 batch #: 17  of 300 sample #: 199 reconstruction error: 0.077403\n",
            "Epoch: 0 batch #: 18  of 300 sample #: 199 reconstruction error: 0.120215\n",
            "Epoch: 0 batch #: 19  of 300 sample #: 199 reconstruction error: 0.143312\n",
            "Epoch: 0 batch #: 20  of 300 sample #: 199 reconstruction error: 0.091092\n",
            "Epoch: 0 batch #: 21  of 300 sample #: 199 reconstruction error: 0.090109\n",
            "Epoch: 0 batch #: 22  of 300 sample #: 199 reconstruction error: 0.085232\n",
            "Epoch: 0 batch #: 23  of 300 sample #: 199 reconstruction error: 0.127571\n",
            "Epoch: 0 batch #: 24  of 300 sample #: 199 reconstruction error: 0.124909\n",
            "Epoch: 0 batch #: 25  of 300 sample #: 199 reconstruction error: 0.095068\n",
            "Epoch: 0 batch #: 26  of 300 sample #: 199 reconstruction error: 0.112347\n",
            "Epoch: 0 batch #: 27  of 300 sample #: 199 reconstruction error: 0.104456\n",
            "Epoch: 0 batch #: 28  of 300 sample #: 199 reconstruction error: 0.071240\n",
            "Epoch: 0 batch #: 29  of 300 sample #: 199 reconstruction error: 0.099565\n",
            "Epoch: 0 batch #: 30  of 300 sample #: 199 reconstruction error: 0.075888\n",
            "Epoch: 0 batch #: 31  of 300 sample #: 199 reconstruction error: 0.085346\n",
            "Epoch: 0 batch #: 32  of 300 sample #: 199 reconstruction error: 0.109745\n",
            "Epoch: 0 batch #: 33  of 300 sample #: 199 reconstruction error: 0.062524\n",
            "Epoch: 0 batch #: 34  of 300 sample #: 199 reconstruction error: 0.070173\n",
            "Epoch: 0 batch #: 35  of 300 sample #: 199 reconstruction error: 0.075736\n",
            "Epoch: 0 batch #: 36  of 300 sample #: 199 reconstruction error: 0.107213\n",
            "Epoch: 0 batch #: 37  of 300 sample #: 199 reconstruction error: 0.067295\n",
            "Epoch: 0 batch #: 38  of 300 sample #: 199 reconstruction error: 0.068142\n",
            "Epoch: 0 batch #: 39  of 300 sample #: 199 reconstruction error: 0.093973\n",
            "Epoch: 0 batch #: 40  of 300 sample #: 199 reconstruction error: 0.104741\n",
            "Epoch: 0 batch #: 41  of 300 sample #: 199 reconstruction error: 0.090453\n",
            "Epoch: 0 batch #: 42  of 300 sample #: 199 reconstruction error: 0.066180\n",
            "Epoch: 0 batch #: 43  of 300 sample #: 199 reconstruction error: 0.118881\n",
            "Epoch: 0 batch #: 44  of 300 sample #: 199 reconstruction error: 0.070370\n",
            "Epoch: 0 batch #: 45  of 300 sample #: 199 reconstruction error: 0.064158\n",
            "Epoch: 0 batch #: 46  of 300 sample #: 199 reconstruction error: 0.034502\n",
            "Epoch: 0 batch #: 47  of 300 sample #: 199 reconstruction error: 0.050514\n",
            "Epoch: 0 batch #: 48  of 300 sample #: 199 reconstruction error: 0.041717\n",
            "Epoch: 0 batch #: 49  of 300 sample #: 199 reconstruction error: 0.127574\n",
            "Epoch: 0 batch #: 50  of 300 sample #: 199 reconstruction error: 0.050278\n",
            "Epoch: 0 batch #: 51  of 300 sample #: 199 reconstruction error: 0.063086\n",
            "Epoch: 0 batch #: 52  of 300 sample #: 199 reconstruction error: 0.037361\n",
            "Epoch: 0 batch #: 53  of 300 sample #: 199 reconstruction error: 0.098574\n",
            "Epoch: 0 batch #: 54  of 300 sample #: 199 reconstruction error: 0.060753\n",
            "Epoch: 0 batch #: 55  of 300 sample #: 199 reconstruction error: 0.104307\n",
            "Epoch: 0 batch #: 56  of 300 sample #: 199 reconstruction error: 0.052609\n",
            "Epoch: 0 batch #: 57  of 300 sample #: 199 reconstruction error: 0.057678\n",
            "Epoch: 0 batch #: 58  of 300 sample #: 199 reconstruction error: 0.072681\n",
            "Epoch: 0 batch #: 59  of 300 sample #: 199 reconstruction error: 0.050959\n",
            "Epoch: 0 batch #: 60  of 300 sample #: 199 reconstruction error: 0.088987\n",
            "Epoch: 0 batch #: 61  of 300 sample #: 199 reconstruction error: 0.060859\n",
            "Epoch: 0 batch #: 62  of 300 sample #: 199 reconstruction error: 0.081199\n",
            "Epoch: 0 batch #: 63  of 300 sample #: 199 reconstruction error: 0.045812\n",
            "Epoch: 0 batch #: 64  of 300 sample #: 199 reconstruction error: 0.085137\n",
            "Epoch: 0 batch #: 65  of 300 sample #: 199 reconstruction error: 0.102746\n",
            "Epoch: 0 batch #: 66  of 300 sample #: 199 reconstruction error: 0.058060\n",
            "Epoch: 0 batch #: 67  of 300 sample #: 199 reconstruction error: 0.056217\n",
            "Epoch: 0 batch #: 68  of 300 sample #: 199 reconstruction error: 0.059047\n",
            "Epoch: 0 batch #: 69  of 300 sample #: 199 reconstruction error: 0.084923\n",
            "Epoch: 0 batch #: 70  of 300 sample #: 199 reconstruction error: 0.080937\n",
            "Epoch: 0 batch #: 71  of 300 sample #: 199 reconstruction error: 0.080547\n",
            "Epoch: 0 batch #: 72  of 300 sample #: 199 reconstruction error: 0.059705\n",
            "Epoch: 0 batch #: 73  of 300 sample #: 199 reconstruction error: 0.090775\n",
            "Epoch: 0 batch #: 74  of 300 sample #: 199 reconstruction error: 0.094404\n",
            "Epoch: 0 batch #: 75  of 300 sample #: 199 reconstruction error: 0.049228\n",
            "Epoch: 0 batch #: 76  of 300 sample #: 199 reconstruction error: 0.085614\n",
            "Epoch: 0 batch #: 77  of 300 sample #: 199 reconstruction error: 0.094186\n",
            "Epoch: 0 batch #: 78  of 300 sample #: 199 reconstruction error: 0.102909\n",
            "Epoch: 0 batch #: 79  of 300 sample #: 199 reconstruction error: 0.113564\n",
            "Epoch: 0 batch #: 80  of 300 sample #: 199 reconstruction error: 0.035327\n",
            "Epoch: 0 batch #: 81  of 300 sample #: 199 reconstruction error: 0.061794\n",
            "Epoch: 0 batch #: 82  of 300 sample #: 199 reconstruction error: 0.043852\n",
            "Epoch: 0 batch #: 83  of 300 sample #: 199 reconstruction error: 0.064450\n",
            "Epoch: 0 batch #: 84  of 300 sample #: 199 reconstruction error: 0.080739\n",
            "Epoch: 0 batch #: 85  of 300 sample #: 199 reconstruction error: 0.036079\n",
            "Epoch: 0 batch #: 86  of 300 sample #: 199 reconstruction error: 0.089365\n",
            "Epoch: 0 batch #: 87  of 300 sample #: 199 reconstruction error: 0.087720\n",
            "Epoch: 0 batch #: 88  of 300 sample #: 199 reconstruction error: 0.028887\n",
            "Epoch: 0 batch #: 89  of 300 sample #: 199 reconstruction error: 0.047534\n",
            "Epoch: 0 batch #: 90  of 300 sample #: 199 reconstruction error: 0.066866\n",
            "Epoch: 0 batch #: 91  of 300 sample #: 199 reconstruction error: 0.054293\n",
            "Epoch: 0 batch #: 92  of 300 sample #: 199 reconstruction error: 0.059851\n",
            "Epoch: 0 batch #: 93  of 300 sample #: 199 reconstruction error: 0.123721\n",
            "Epoch: 0 batch #: 94  of 300 sample #: 199 reconstruction error: 0.102225\n",
            "Epoch: 0 batch #: 95  of 300 sample #: 199 reconstruction error: 0.075304\n",
            "Epoch: 0 batch #: 96  of 300 sample #: 199 reconstruction error: 0.053465\n",
            "Epoch: 0 batch #: 97  of 300 sample #: 199 reconstruction error: 0.101779\n",
            "Epoch: 0 batch #: 98  of 300 sample #: 199 reconstruction error: 0.083912\n",
            "Epoch: 0 batch #: 99  of 300 sample #: 199 reconstruction error: 0.060642\n",
            "Epoch: 0 batch #: 100  of 300 sample #: 199 reconstruction error: 0.101355\n",
            "Epoch: 0 batch #: 101  of 300 sample #: 199 reconstruction error: 0.069660\n",
            "Epoch: 0 batch #: 102  of 300 sample #: 199 reconstruction error: 0.083762\n",
            "Epoch: 0 batch #: 103  of 300 sample #: 199 reconstruction error: 0.083136\n",
            "Epoch: 0 batch #: 104  of 300 sample #: 199 reconstruction error: 0.063004\n",
            "Epoch: 0 batch #: 105  of 300 sample #: 199 reconstruction error: 0.069490\n",
            "Epoch: 0 batch #: 106  of 300 sample #: 199 reconstruction error: 0.103786\n",
            "Epoch: 0 batch #: 107  of 300 sample #: 199 reconstruction error: 0.145101\n",
            "Epoch: 0 batch #: 108  of 300 sample #: 199 reconstruction error: 0.059108\n",
            "Epoch: 0 batch #: 109  of 300 sample #: 199 reconstruction error: 0.118353\n",
            "Epoch: 0 batch #: 110  of 300 sample #: 199 reconstruction error: 0.051143\n",
            "Epoch: 0 batch #: 111  of 300 sample #: 199 reconstruction error: 0.098751\n",
            "Epoch: 0 batch #: 112  of 300 sample #: 199 reconstruction error: 0.044737\n",
            "Epoch: 0 batch #: 113  of 300 sample #: 199 reconstruction error: 0.080176\n",
            "Epoch: 0 batch #: 114  of 300 sample #: 199 reconstruction error: 0.076470\n",
            "Epoch: 0 batch #: 115  of 300 sample #: 199 reconstruction error: 0.069765\n",
            "Epoch: 0 batch #: 116  of 300 sample #: 199 reconstruction error: 0.044893\n",
            "Epoch: 0 batch #: 117  of 300 sample #: 199 reconstruction error: 0.033904\n",
            "Epoch: 0 batch #: 118  of 300 sample #: 199 reconstruction error: 0.076047\n",
            "Epoch: 0 batch #: 119  of 300 sample #: 199 reconstruction error: 0.132201\n",
            "Epoch: 0 batch #: 120  of 300 sample #: 199 reconstruction error: 0.070539\n",
            "Epoch: 0 batch #: 121  of 300 sample #: 199 reconstruction error: 0.047990\n",
            "Epoch: 0 batch #: 122  of 300 sample #: 199 reconstruction error: 0.091228\n",
            "Epoch: 0 batch #: 123  of 300 sample #: 199 reconstruction error: 0.053759\n",
            "Epoch: 0 batch #: 124  of 300 sample #: 199 reconstruction error: 0.075540\n",
            "Epoch: 0 batch #: 125  of 300 sample #: 199 reconstruction error: 0.044541\n",
            "Epoch: 0 batch #: 126  of 300 sample #: 199 reconstruction error: 0.080700\n",
            "Epoch: 0 batch #: 127  of 300 sample #: 199 reconstruction error: 0.088584\n",
            "Epoch: 0 batch #: 128  of 300 sample #: 199 reconstruction error: 0.085033\n",
            "Epoch: 0 batch #: 129  of 300 sample #: 199 reconstruction error: 0.063860\n",
            "Epoch: 0 batch #: 130  of 300 sample #: 199 reconstruction error: 0.084853\n",
            "Epoch: 0 batch #: 131  of 300 sample #: 199 reconstruction error: 0.049417\n",
            "Epoch: 0 batch #: 132  of 300 sample #: 199 reconstruction error: 0.048482\n",
            "Epoch: 0 batch #: 133  of 300 sample #: 199 reconstruction error: 0.069380\n",
            "Epoch: 0 batch #: 134  of 300 sample #: 199 reconstruction error: 0.109878\n",
            "Epoch: 0 batch #: 135  of 300 sample #: 199 reconstruction error: 0.100866\n",
            "Epoch: 0 batch #: 136  of 300 sample #: 199 reconstruction error: 0.099413\n",
            "Epoch: 0 batch #: 137  of 300 sample #: 199 reconstruction error: 0.071637\n",
            "Epoch: 0 batch #: 138  of 300 sample #: 199 reconstruction error: 0.088569\n",
            "Epoch: 0 batch #: 139  of 300 sample #: 199 reconstruction error: 0.103197\n",
            "Epoch: 0 batch #: 140  of 300 sample #: 199 reconstruction error: 0.084269\n",
            "Epoch: 0 batch #: 141  of 300 sample #: 199 reconstruction error: 0.082165\n",
            "Epoch: 0 batch #: 142  of 300 sample #: 199 reconstruction error: 0.065373\n",
            "Epoch: 0 batch #: 143  of 300 sample #: 199 reconstruction error: 0.053385\n",
            "Epoch: 0 batch #: 144  of 300 sample #: 199 reconstruction error: 0.061681\n",
            "Epoch: 0 batch #: 145  of 300 sample #: 199 reconstruction error: 0.086574\n",
            "Epoch: 0 batch #: 146  of 300 sample #: 199 reconstruction error: 0.115890\n",
            "Epoch: 0 batch #: 147  of 300 sample #: 199 reconstruction error: 0.074277\n",
            "Epoch: 0 batch #: 148  of 300 sample #: 199 reconstruction error: 0.087729\n",
            "Epoch: 0 batch #: 149  of 300 sample #: 199 reconstruction error: 0.056217\n",
            "Epoch: 0 batch #: 150  of 300 sample #: 199 reconstruction error: 0.046711\n",
            "Epoch: 0 batch #: 151  of 300 sample #: 199 reconstruction error: 0.109343\n",
            "Epoch: 0 batch #: 152  of 300 sample #: 199 reconstruction error: 0.095039\n",
            "Epoch: 0 batch #: 153  of 300 sample #: 199 reconstruction error: 0.062863\n",
            "Epoch: 0 batch #: 154  of 300 sample #: 199 reconstruction error: 0.071231\n",
            "Epoch: 0 batch #: 155  of 300 sample #: 199 reconstruction error: 0.068615\n",
            "Epoch: 0 batch #: 156  of 300 sample #: 199 reconstruction error: 0.065093\n",
            "Epoch: 0 batch #: 157  of 300 sample #: 199 reconstruction error: 0.100527\n",
            "Epoch: 0 batch #: 158  of 300 sample #: 199 reconstruction error: 0.084260\n",
            "Epoch: 0 batch #: 159  of 300 sample #: 199 reconstruction error: 0.062838\n",
            "Epoch: 0 batch #: 160  of 300 sample #: 199 reconstruction error: 0.082043\n",
            "Epoch: 0 batch #: 161  of 300 sample #: 199 reconstruction error: 0.080949\n",
            "Epoch: 0 batch #: 162  of 300 sample #: 199 reconstruction error: 0.119271\n",
            "Epoch: 0 batch #: 163  of 300 sample #: 199 reconstruction error: 0.039482\n",
            "Epoch: 0 batch #: 164  of 300 sample #: 199 reconstruction error: 0.069257\n",
            "Epoch: 0 batch #: 165  of 300 sample #: 199 reconstruction error: 0.084906\n",
            "Epoch: 0 batch #: 166  of 300 sample #: 199 reconstruction error: 0.044814\n",
            "Epoch: 0 batch #: 167  of 300 sample #: 199 reconstruction error: 0.088000\n",
            "Epoch: 0 batch #: 168  of 300 sample #: 199 reconstruction error: 0.056199\n",
            "Epoch: 0 batch #: 169  of 300 sample #: 199 reconstruction error: 0.036031\n",
            "Epoch: 0 batch #: 170  of 300 sample #: 199 reconstruction error: 0.058268\n",
            "Epoch: 0 batch #: 171  of 300 sample #: 199 reconstruction error: 0.038279\n",
            "Epoch: 0 batch #: 172  of 300 sample #: 199 reconstruction error: 0.059020\n",
            "Epoch: 0 batch #: 173  of 300 sample #: 199 reconstruction error: 0.076265\n",
            "Epoch: 0 batch #: 174  of 300 sample #: 199 reconstruction error: 0.129507\n",
            "Epoch: 0 batch #: 175  of 300 sample #: 199 reconstruction error: 0.057272\n",
            "Epoch: 0 batch #: 176  of 300 sample #: 199 reconstruction error: 0.041925\n",
            "Epoch: 0 batch #: 177  of 300 sample #: 199 reconstruction error: 0.035337\n",
            "Epoch: 0 batch #: 178  of 300 sample #: 199 reconstruction error: 0.085722\n",
            "Epoch: 0 batch #: 179  of 300 sample #: 199 reconstruction error: 0.062404\n",
            "Epoch: 0 batch #: 180  of 300 sample #: 199 reconstruction error: 0.093710\n",
            "Epoch: 0 batch #: 181  of 300 sample #: 199 reconstruction error: 0.097708\n",
            "Epoch: 0 batch #: 182  of 300 sample #: 199 reconstruction error: 0.068523\n",
            "Epoch: 0 batch #: 183  of 300 sample #: 199 reconstruction error: 0.123495\n",
            "Epoch: 0 batch #: 184  of 300 sample #: 199 reconstruction error: 0.061497\n",
            "Epoch: 0 batch #: 185  of 300 sample #: 199 reconstruction error: 0.078751\n",
            "Epoch: 0 batch #: 186  of 300 sample #: 199 reconstruction error: 0.099908\n",
            "Epoch: 0 batch #: 187  of 300 sample #: 199 reconstruction error: 0.053006\n",
            "Epoch: 0 batch #: 188  of 300 sample #: 199 reconstruction error: 0.120449\n",
            "Epoch: 0 batch #: 189  of 300 sample #: 199 reconstruction error: 0.089006\n",
            "Epoch: 0 batch #: 190  of 300 sample #: 199 reconstruction error: 0.068035\n",
            "Epoch: 0 batch #: 191  of 300 sample #: 199 reconstruction error: 0.101341\n",
            "Epoch: 0 batch #: 192  of 300 sample #: 199 reconstruction error: 0.126997\n",
            "Epoch: 0 batch #: 193  of 300 sample #: 199 reconstruction error: 0.086862\n",
            "Epoch: 0 batch #: 194  of 300 sample #: 199 reconstruction error: 0.074702\n",
            "Epoch: 0 batch #: 195  of 300 sample #: 199 reconstruction error: 0.048514\n",
            "Epoch: 0 batch #: 196  of 300 sample #: 199 reconstruction error: 0.036139\n",
            "Epoch: 0 batch #: 197  of 300 sample #: 199 reconstruction error: 0.047732\n",
            "Epoch: 0 batch #: 198  of 300 sample #: 199 reconstruction error: 0.076609\n",
            "Epoch: 0 batch #: 199  of 300 sample #: 199 reconstruction error: 0.060316\n",
            "Epoch: 0 batch #: 200  of 300 sample #: 199 reconstruction error: 0.107763\n",
            "Epoch: 0 batch #: 201  of 300 sample #: 199 reconstruction error: 0.091788\n",
            "Epoch: 0 batch #: 202  of 300 sample #: 199 reconstruction error: 0.028983\n",
            "Epoch: 0 batch #: 203  of 300 sample #: 199 reconstruction error: 0.087750\n",
            "Epoch: 0 batch #: 204  of 300 sample #: 199 reconstruction error: 0.056697\n",
            "Epoch: 0 batch #: 205  of 300 sample #: 199 reconstruction error: 0.018509\n",
            "Epoch: 0 batch #: 206  of 300 sample #: 199 reconstruction error: 0.084296\n",
            "Epoch: 0 batch #: 207  of 300 sample #: 199 reconstruction error: 0.072834\n",
            "Epoch: 0 batch #: 208  of 300 sample #: 199 reconstruction error: 0.053040\n",
            "Epoch: 0 batch #: 209  of 300 sample #: 199 reconstruction error: 0.027950\n",
            "Epoch: 0 batch #: 210  of 300 sample #: 199 reconstruction error: 0.116389\n",
            "Epoch: 0 batch #: 211  of 300 sample #: 199 reconstruction error: 0.103209\n",
            "Epoch: 0 batch #: 212  of 300 sample #: 199 reconstruction error: 0.085437\n",
            "Epoch: 0 batch #: 213  of 300 sample #: 199 reconstruction error: 0.082636\n",
            "Epoch: 0 batch #: 214  of 300 sample #: 199 reconstruction error: 0.096732\n",
            "Epoch: 0 batch #: 215  of 300 sample #: 199 reconstruction error: 0.031758\n",
            "Epoch: 0 batch #: 216  of 300 sample #: 199 reconstruction error: 0.110921\n",
            "Epoch: 0 batch #: 217  of 300 sample #: 199 reconstruction error: 0.082647\n",
            "Epoch: 0 batch #: 218  of 300 sample #: 199 reconstruction error: 0.063144\n",
            "Epoch: 0 batch #: 219  of 300 sample #: 199 reconstruction error: 0.084341\n",
            "Epoch: 0 batch #: 220  of 300 sample #: 199 reconstruction error: 0.056494\n",
            "Epoch: 0 batch #: 221  of 300 sample #: 199 reconstruction error: 0.089889\n",
            "Epoch: 0 batch #: 222  of 300 sample #: 199 reconstruction error: 0.077047\n",
            "Epoch: 0 batch #: 223  of 300 sample #: 199 reconstruction error: 0.069827\n",
            "Epoch: 0 batch #: 224  of 300 sample #: 199 reconstruction error: 0.056533\n",
            "Epoch: 0 batch #: 225  of 300 sample #: 199 reconstruction error: 0.060494\n",
            "Epoch: 0 batch #: 226  of 300 sample #: 199 reconstruction error: 0.125941\n",
            "Epoch: 0 batch #: 227  of 300 sample #: 199 reconstruction error: 0.067672\n",
            "Epoch: 0 batch #: 228  of 300 sample #: 199 reconstruction error: 0.068691\n",
            "Epoch: 0 batch #: 229  of 300 sample #: 199 reconstruction error: 0.094002\n",
            "Epoch: 0 batch #: 230  of 300 sample #: 199 reconstruction error: 0.040741\n",
            "Epoch: 0 batch #: 231  of 300 sample #: 199 reconstruction error: 0.025254\n",
            "Epoch: 0 batch #: 232  of 300 sample #: 199 reconstruction error: 0.080318\n",
            "Epoch: 0 batch #: 233  of 300 sample #: 199 reconstruction error: 0.075252\n",
            "Epoch: 0 batch #: 234  of 300 sample #: 199 reconstruction error: 0.063837\n",
            "Epoch: 0 batch #: 235  of 300 sample #: 199 reconstruction error: 0.075722\n",
            "Epoch: 0 batch #: 236  of 300 sample #: 199 reconstruction error: 0.089062\n",
            "Epoch: 0 batch #: 237  of 300 sample #: 199 reconstruction error: 0.080485\n",
            "Epoch: 0 batch #: 238  of 300 sample #: 199 reconstruction error: 0.106942\n",
            "Epoch: 0 batch #: 239  of 300 sample #: 199 reconstruction error: 0.030016\n",
            "Epoch: 0 batch #: 240  of 300 sample #: 199 reconstruction error: 0.105249\n",
            "Epoch: 0 batch #: 241  of 300 sample #: 199 reconstruction error: 0.079474\n",
            "Epoch: 0 batch #: 242  of 300 sample #: 199 reconstruction error: 0.065378\n",
            "Epoch: 0 batch #: 243  of 300 sample #: 199 reconstruction error: 0.058785\n",
            "Epoch: 0 batch #: 244  of 300 sample #: 199 reconstruction error: 0.098030\n",
            "Epoch: 0 batch #: 245  of 300 sample #: 199 reconstruction error: 0.062568\n",
            "Epoch: 0 batch #: 246  of 300 sample #: 199 reconstruction error: 0.074569\n",
            "Epoch: 0 batch #: 247  of 300 sample #: 199 reconstruction error: 0.041133\n",
            "Epoch: 0 batch #: 248  of 300 sample #: 199 reconstruction error: 0.055307\n",
            "Epoch: 0 batch #: 249  of 300 sample #: 199 reconstruction error: 0.046101\n",
            "Epoch: 0 batch #: 250  of 300 sample #: 199 reconstruction error: 0.086931\n",
            "Epoch: 0 batch #: 251  of 300 sample #: 199 reconstruction error: 0.047751\n",
            "Epoch: 0 batch #: 252  of 300 sample #: 199 reconstruction error: 0.066235\n",
            "Epoch: 0 batch #: 253  of 300 sample #: 199 reconstruction error: 0.044776\n",
            "Epoch: 0 batch #: 254  of 300 sample #: 199 reconstruction error: 0.023350\n",
            "Epoch: 0 batch #: 255  of 300 sample #: 199 reconstruction error: 0.054947\n",
            "Epoch: 0 batch #: 256  of 300 sample #: 199 reconstruction error: 0.071097\n",
            "Epoch: 0 batch #: 257  of 300 sample #: 199 reconstruction error: 0.083381\n",
            "Epoch: 0 batch #: 258  of 300 sample #: 199 reconstruction error: 0.088364\n",
            "Epoch: 0 batch #: 259  of 300 sample #: 199 reconstruction error: 0.072587\n",
            "Epoch: 0 batch #: 260  of 300 sample #: 199 reconstruction error: 0.096438\n",
            "Epoch: 0 batch #: 261  of 300 sample #: 199 reconstruction error: 0.037323\n",
            "Epoch: 0 batch #: 262  of 300 sample #: 199 reconstruction error: 0.041673\n",
            "Epoch: 0 batch #: 263  of 300 sample #: 199 reconstruction error: 0.085690\n",
            "Epoch: 0 batch #: 264  of 300 sample #: 199 reconstruction error: 0.070733\n",
            "Epoch: 0 batch #: 265  of 300 sample #: 199 reconstruction error: 0.061895\n",
            "Epoch: 0 batch #: 266  of 300 sample #: 199 reconstruction error: 0.032067\n",
            "Epoch: 0 batch #: 267  of 300 sample #: 199 reconstruction error: 0.064965\n",
            "Epoch: 0 batch #: 268  of 300 sample #: 199 reconstruction error: 0.029067\n",
            "Epoch: 0 batch #: 269  of 300 sample #: 199 reconstruction error: 0.098577\n",
            "Epoch: 0 batch #: 270  of 300 sample #: 199 reconstruction error: 0.076124\n",
            "Epoch: 0 batch #: 271  of 300 sample #: 199 reconstruction error: 0.057378\n",
            "Epoch: 0 batch #: 272  of 300 sample #: 199 reconstruction error: 0.062561\n",
            "Epoch: 0 batch #: 273  of 300 sample #: 199 reconstruction error: 0.044098\n",
            "Epoch: 0 batch #: 274  of 300 sample #: 199 reconstruction error: 0.066206\n",
            "Epoch: 0 batch #: 275  of 300 sample #: 199 reconstruction error: 0.102647\n",
            "Epoch: 0 batch #: 276  of 300 sample #: 199 reconstruction error: 0.084736\n",
            "Epoch: 0 batch #: 277  of 300 sample #: 199 reconstruction error: 0.093952\n",
            "Epoch: 0 batch #: 278  of 300 sample #: 199 reconstruction error: 0.051897\n",
            "Epoch: 0 batch #: 279  of 300 sample #: 199 reconstruction error: 0.052151\n",
            "Epoch: 0 batch #: 280  of 300 sample #: 199 reconstruction error: 0.083261\n",
            "Epoch: 0 batch #: 281  of 300 sample #: 199 reconstruction error: 0.075655\n",
            "Epoch: 0 batch #: 282  of 300 sample #: 199 reconstruction error: 0.089189\n",
            "Epoch: 0 batch #: 283  of 300 sample #: 199 reconstruction error: 0.061012\n",
            "Epoch: 0 batch #: 284  of 300 sample #: 199 reconstruction error: 0.042714\n",
            "Epoch: 0 batch #: 285  of 300 sample #: 199 reconstruction error: 0.066716\n",
            "Epoch: 0 batch #: 286  of 300 sample #: 199 reconstruction error: 0.084494\n",
            "Epoch: 0 batch #: 287  of 300 sample #: 199 reconstruction error: 0.059895\n",
            "Epoch: 0 batch #: 288  of 300 sample #: 199 reconstruction error: 0.028413\n",
            "Epoch: 0 batch #: 289  of 300 sample #: 199 reconstruction error: 0.073407\n",
            "Epoch: 0 batch #: 290  of 300 sample #: 199 reconstruction error: 0.100309\n",
            "Epoch: 0 batch #: 291  of 300 sample #: 199 reconstruction error: 0.110994\n",
            "Epoch: 0 batch #: 292  of 300 sample #: 199 reconstruction error: 0.074114\n",
            "Epoch: 0 batch #: 293  of 300 sample #: 199 reconstruction error: 0.059822\n",
            "Epoch: 0 batch #: 294  of 300 sample #: 199 reconstruction error: 0.085532\n",
            "Epoch: 0 batch #: 295  of 300 sample #: 199 reconstruction error: 0.078348\n",
            "Epoch: 0 batch #: 296  of 300 sample #: 199 reconstruction error: 0.034401\n",
            "Epoch: 0 batch #: 297  of 300 sample #: 199 reconstruction error: 0.088660\n",
            "Epoch: 0 batch #: 298  of 300 sample #: 199 reconstruction error: 0.061656\n",
            "Epoch: 0 batch #: 299  of 300 sample #: 199 reconstruction error: 0.050881\n",
            "Epoch: 0 batch #: 300  of 300 sample #: 199 reconstruction error: 0.072355\n"
          ]
        }
      ],
      "source": [
        "#Parameters\n",
        "alpha = 0.01\n",
        "epochs = 1\n",
        "batchsize = 200\n",
        "weights = []\n",
        "errors = []\n",
        "batch_number = 0\n",
        "K = 1\n",
        "\n",
        "#creating datasets\n",
        "train_ds = \\\n",
        "    tf.data.Dataset.from_tensor_slices((trX, trY)).batch(batchsize)\n",
        "\n",
        "for epoch in range(epochs):\n",
        "    for batch_x, batch_y in train_ds:\n",
        "        batch_number += 1\n",
        "        for i_sample in range(batchsize):\n",
        "            for k in range(K):\n",
        "                v0_state = batch_x[i_sample]\n",
        "                h0_state = hidden_layer(v0_state, W, hb)\n",
        "                v1_state = reconstructed_output(h0_state, W, vb)\n",
        "                h1_state = hidden_layer(v1_state, W, hb)\n",
        "\n",
        "                delta_W = tf.matmul(tf.transpose([v0_state]), h0_state) - tf.matmul(tf.transpose([v1_state]), h1_state)\n",
        "                W = W + alpha * delta_W\n",
        "\n",
        "                vb = vb + alpha * tf.reduce_mean(v0_state - v1_state, 0)\n",
        "                hb = hb + alpha * tf.reduce_mean(h0_state - h1_state, 0)\n",
        "\n",
        "                v0_state = v1_state\n",
        "\n",
        "            if i_sample == batchsize-1:\n",
        "                err = error(batch_x[i_sample], v1_state)\n",
        "                errors.append(err)\n",
        "                weights.append(W)\n",
        "                print ( 'Epoch: %d' % epoch,\n",
        "                       \"batch #: %i \" % batch_number, \"of %i\" % int(60e3/batchsize),\n",
        "                       \"sample #: %i\" % i_sample,\n",
        "                       'reconstruction error: %f' % err)\n",
        "\n"
      ],
      "execution_count": null
    },
    {
      "cell_type": "markdown",
      "metadata": {
        "id": "bc4acc4f-7bd0-4972-b04e-0d62935c3912"
      },
      "source": [
        "Let's take a look at the errors at the end of each batch:\n"
      ]
    },
    {
      "cell_type": "code",
      "metadata": {
        "colab": {
          "base_uri": "https://localhost:8080/",
          "height": 449
        },
        "id": "483655aa-c404-4825-8268-642de0e98ff7",
        "outputId": "9d481c6a-c4bb-4c83-a126-9c4fcd39dcf2"
      },
      "outputs": [
        {
          "output_type": "display_data",
          "data": {
            "text/plain": [
              "<Figure size 640x480 with 1 Axes>"
            ],
            "image/png": "[encoded data removed]"
          },
          "metadata": {}
        }
      ],
      "source": [
        "plt.plot(errors)\n",
        "plt.xlabel(\"Batch Number\")\n",
        "plt.ylabel(\"Error\")\n",
        "plt.show()"
      ],
      "execution_count": null
    },
    {
      "cell_type": "markdown",
      "metadata": {
        "id": "34683bd4-aa3f-40ff-95f3-6d2e408059c4"
      },
      "source": [
        "What is the final weight matrix $W$ after training?\n"
      ]
    },
    {
      "cell_type": "code",
      "metadata": {
        "colab": {
          "base_uri": "https://localhost:8080/"
        },
        "id": "8378b12e-7580-498f-9742-9a7ec889d021",
        "outputId": "0a39b8a8-88d4-426e-fd12-31f9b1be3fd9"
      },
      "outputs": [
        {
          "output_type": "stream",
          "name": "stdout",
          "text": [
            "[[-0.34999993 -0.5999997  -0.35999992 ... -0.32999995 -0.33999994\n",
            "  -0.40999988]\n",
            " [-0.33999994 -0.6199997  -0.29       ... -0.3899999  -0.29999998\n",
            "  -0.3799999 ]\n",
            " [-0.32999995 -0.5999997  -0.31999996 ... -0.29       -0.30999997\n",
            "  -0.33999994]\n",
            " ...\n",
            " [-0.3899999  -0.5199998  -0.29       ... -0.40999988 -0.3899999\n",
            "  -0.36999992]\n",
            " [-0.32999995 -0.5399998  -0.29999998 ... -0.36999992 -0.32999995\n",
            "  -0.3999999 ]\n",
            " [-0.3999999  -0.3799999  -0.29       ... -0.3799999  -0.26000002\n",
            "  -0.35999992]]\n"
          ]
        }
      ],
      "source": [
        "print(W.numpy()) # a weight matrix of shape (50,784)"
      ],
      "execution_count": null
    },
    {
      "cell_type": "markdown",
      "metadata": {
        "id": "00d2cf5f-b6f0-48df-b799-e029311d7e65"
      },
      "source": [
        "<a id=\"ref5\"></a>\n",
        "<h3>Learned features</h3>\n"
      ]
    },
    {
      "cell_type": "markdown",
      "metadata": {
        "id": "fcf78092-01c7-414e-9d42-215995366fd8"
      },
      "source": [
        "We can take each hidden unit and visualize the connections between that hidden unit and each element in the input vector. In our case, we have 50 hidden units. Lets visualize those.\n"
      ]
    },
    {
      "cell_type": "markdown",
      "metadata": {
        "id": "1fbde916-840a-4760-8a50-e89a73a71e14"
      },
      "source": [
        "Let's plot the current weights:\n",
        "<b>tile_raster_images</b> helps in generating an easy to grasp image from a set of samples or weights. It transforms the <b>uw</b> (with one flattened image per row of size 784), into an array (of size $28\\times28$) in which images are reshaped and laid out like tiles on a floor.\n"
      ]
    },
    {
      "cell_type": "code",
      "metadata": {
        "colab": {
          "base_uri": "https://localhost:8080/",
          "height": 650
        },
        "id": "6bc391b5-aa79-4ad2-9ea5-09490314b7c1",
        "outputId": "033b44ab-f128-41fa-9742-4e0a48c3b257"
      },
      "outputs": [
        {
          "output_type": "display_data",
          "data": {
            "text/plain": [
              "<Figure size 1800x1800 with 1 Axes>"
            ],
            "image/png": "[encoded data removed]"
          },
          "metadata": {}
        }
      ],
      "source": [
        "tile_raster_images(X=W.numpy().T, img_shape=(28, 28), tile_shape=(5, 10), tile_spacing=(1, 1))\n",
        "import matplotlib.pyplot as plt\n",
        "from PIL import Image\n",
        "%matplotlib inline\n",
        "image = Image.fromarray(tile_raster_images(X=W.numpy().T, img_shape=(28, 28) ,tile_shape=(5, 10), tile_spacing=(1, 1)))\n",
        "### Plot image\n",
        "plt.rcParams['figure.figsize'] = (18.0, 18.0)\n",
        "imgplot = plt.imshow(image)\n",
        "imgplot.set_cmap('gray')"
      ],
      "execution_count": null
    },
    {
      "cell_type": "markdown",
      "metadata": {
        "id": "05262757-095a-41e2-b8ae-dd609f30bd1a"
      },
      "source": [
        "Each tile in the above visualization corresponds to a vector of connections between a hidden unit and visible layer's units.\n"
      ]
    },
    {
      "cell_type": "markdown",
      "metadata": {
        "id": "0caf7520-bc05-4402-a65a-9fd51381da6f"
      },
      "source": [
        "Let's look at one of the learned weights corresponding to one of hidden units for example. In this particular square, the gray color represents weight = 0, and the whiter it is, the more positive the weights are (closer to 1). Conversely, the darker pixels are, the more negative the weights. The positive pixels will increase the probability of activation in hidden units (after multiplying by input/visible pixels), and negative pixels will decrease the probability of a unit hidden to be 1 (activated). So, why is this important?  So we can see that this specific square (hidden unit) can detect a feature (e.g. a \"/\" shape) and if it exists in the input.\n"
      ]
    },
    {
      "cell_type": "code",
      "metadata": {
        "colab": {
          "base_uri": "https://localhost:8080/",
          "height": 368
        },
        "id": "272c0395-4a26-4d3d-bff8-343e90710002",
        "outputId": "1acc853d-863c-4d7f-92fc-ea2d3dea8b4b"
      },
      "outputs": [
        {
          "output_type": "display_data",
          "data": {
            "text/plain": [
              "<Figure size 400x400 with 1 Axes>"
            ],
            "image/png": "[encoded data removed]"
          },
          "metadata": {}
        }
      ],
      "source": [
        "from PIL import Image\n",
        "image = Image.fromarray(tile_raster_images(X =W.numpy().T[10:11], img_shape=(28, 28),tile_shape=(1, 1), tile_spacing=(1, 1)))\n",
        "### Plot image\n",
        "plt.rcParams['figure.figsize'] = (4.0, 4.0)\n",
        "imgplot = plt.imshow(image)\n",
        "imgplot.set_cmap('gray')"
      ],
      "execution_count": null
    },
    {
      "cell_type": "markdown",
      "metadata": {
        "id": "9aed6c7f-8407-447f-8de2-7e9d77924135"
      },
      "source": [
        "Let's look at the reconstruction of an image now. Imagine that we have a destructed image of figure 3. Lets see if our trained network can fix it:\n",
        "\n",
        "First we plot the image:\n"
      ]
    },
    {
      "cell_type": "code",
      "metadata": {
        "colab": {
          "base_uri": "https://localhost:8080/",
          "height": 665
        },
        "id": "e01dd16a-ba6d-427c-9556-c8f069a93038",
        "outputId": "bbbe8f3a-dc01-4a06-e0fe-bb897d338446"
      },
      "outputs": [
        {
          "output_type": "stream",
          "name": "stdout",
          "text": [
            "--2023-09-08 12:33:32--  https://ibm.box.com/shared/static/vvm1b63uvuxq88vbw9znpwu5ol380mco.jpg\n",
            "Resolving ibm.box.com (ibm.box.com)... 74.112.186.144\n",
            "Connecting to ibm.box.com (ibm.box.com)|74.112.186.144|:443... connected.\n",
            "HTTP request sent, awaiting response... 301 Moved Permanently\n",
            "Location: /public/static/vvm1b63uvuxq88vbw9znpwu5ol380mco.jpg [following]\n",
            "--2023-09-08 12:33:32--  https://ibm.box.com/public/static/vvm1b63uvuxq88vbw9znpwu5ol380mco.jpg\n",
            "Reusing existing connection to ibm.box.com:443.\n",
            "HTTP request sent, awaiting response... 301 Moved Permanently\n",
            "Location: https://ibm.ent.box.com/public/static/vvm1b63uvuxq88vbw9znpwu5ol380mco.jpg [following]\n",
            "--2023-09-08 12:33:32--  https://ibm.ent.box.com/public/static/vvm1b63uvuxq88vbw9znpwu5ol380mco.jpg\n",
            "Resolving ibm.ent.box.com (ibm.ent.box.com)... 74.112.186.144\n",
            "Connecting to ibm.ent.box.com (ibm.ent.box.com)|74.112.186.144|:443... connected.\n",
            "HTTP request sent, awaiting response... 302 Found\n",
            "Location: https://public.boxcloud.com/d/1/b1!QUe2JdNXw28AO7YDfSo48nDyHW-f-LEwDlykqWcCp7d3ryLZhcL1YXwjRqaVWKp8MO2MoFTr1Of0PqyBLoHsZNs5QNEpFbRuAixRWEvL-laE6ypIohsN9mQ4OicA-q0714LebUj2oJGAT5XRdNSDqYF0cpzrCFXDmWvbI0YdOdRqRYbud9QgznV7dup5tWp7B2-Ceb3-cdQ2WBznmofFPt9_CToM3zQfZ-XszQLSI0uk6W0kWBWjodUP1kHBwMy-CNCXSpU2qvSwyW67sbFJLayjstSnoiH35NJ0yq6xNVaOfzbDMWlnnY5nU4LglynoOsM7e8HTESvp25GzzDyjDQLgLv_bHIKW1xKgvxQWSYNFwyPjUMnXfzH-pZ3yZ00qDnofNTw7n-7wAZ9mPC-qcTSs21BiW7JNFbDLA-0ZPcHxsMT9wu4NYnqeiE4G_iVAMcU0_w0JtLGvfkZ4h6klygBCXxHqxgXLXefphpPn2by194rq9-wXhUO-65842a7OCiXBFz8SEmzM6L624S7nHv1RPcpOrwSqvYfBTDbrWFPm2y1-xWVmXZAxuPyuJLl-ZFKp2jwJ3lP9PcqRcqqc4b-KdP1-zCRMv3D1WoItvRsuWrs_Vts1eMLpXV3M_nHr8ZtgW36wU7n40jcNg_ws-3wqBMdJMdHeIE01CI8EXHgyHtq7xB0oDwQANpdsgXJ_DsfXdmWL9v-149HS9wwgSXGuxki4VP52OANaQ0oOvhr-XJZtI1PGhpDkjvedldky--Kd5INrbyob4rMN78m7MUKyHNmosMzas7Ef7ye-rSkbSu_O2u9GanU9bSV7tSJwfppZxVWVbOL4UkGozR5sS4gLqYUJeAnTdCpPgBi4VKLI0XIt3viiwVd6mis1qcULYA9OoGNbdIhIqSKRHSLBe2Vu6AxQ0mr4hOSa3IqyMGuOc1azaf-yVKRcOsTXNV2UPXUxjaqjIHCwTL7zl9_sU-i3yPnJai6rPU_GlEyeeE0CDQFfsf0QR3OK61O3UH4ipR352YOAn9YR53BSZq0SxfiJZThdVRXN5-Oq-T6hyqhl8st4X2wyOgxO6O6YcyaEbuI4ZQvDLqEwl-xSFv3iUGAsXz5GYPivxL0BJOZh7gfq6JbOfEunfFH7ZX0CTmhomiisIcLLC8iSW2CYdHJzYyJ2pAESpicoYX7DlmLrXXC4yOC6_SwDskxs2h5y7LOMsUOxKG96fM_25HqfpatxbviJYFCHv1_PQNksW17D5Lw4MVNA9te_ts8YETtnIN0IlA8dUGqjJBivX81YvXj9IjkC0GSopJCnnIoWmvPCEDtvnA7V_TXFbL3scpZAbhDJXOpHEBr9wt1OvIz_tTyKAyYMbgUT8aK3v6kpZ3IC-_bOLAAwPfWLfDVGfHPB890QLJxyAdHX9OXpGljQNW7uZw../download [following]\n",
            "--2023-09-08 12:33:33--  https://public.boxcloud.com/d/1/b1!QUe2JdNXw28AO7YDfSo48nDyHW-f-LEwDlykqWcCp7d3ryLZhcL1YXwjRqaVWKp8MO2MoFTr1Of0PqyBLoHsZNs5QNEpFbRuAixRWEvL-laE6ypIohsN9mQ4OicA-q0714LebUj2oJGAT5XRdNSDqYF0cpzrCFXDmWvbI0YdOdRqRYbud9QgznV7dup5tWp7B2-Ceb3-cdQ2WBznmofFPt9_CToM3zQfZ-XszQLSI0uk6W0kWBWjodUP1kHBwMy-CNCXSpU2qvSwyW67sbFJLayjstSnoiH35NJ0yq6xNVaOfzbDMWlnnY5nU4LglynoOsM7e8HTESvp25GzzDyjDQLgLv_bHIKW1xKgvxQWSYNFwyPjUMnXfzH-pZ3yZ00qDnofNTw7n-7wAZ9mPC-qcTSs21BiW7JNFbDLA-0ZPcHxsMT9wu4NYnqeiE4G_iVAMcU0_w0JtLGvfkZ4h6klygBCXxHqxgXLXefphpPn2by194rq9-wXhUO-65842a7OCiXBFz8SEmzM6L624S7nHv1RPcpOrwSqvYfBTDbrWFPm2y1-xWVmXZAxuPyuJLl-ZFKp2jwJ3lP9PcqRcqqc4b-KdP1-zCRMv3D1WoItvRsuWrs_Vts1eMLpXV3M_nHr8ZtgW36wU7n40jcNg_ws-3wqBMdJMdHeIE01CI8EXHgyHtq7xB0oDwQANpdsgXJ_DsfXdmWL9v-149HS9wwgSXGuxki4VP52OANaQ0oOvhr-XJZtI1PGhpDkjvedldky--Kd5INrbyob4rMN78m7MUKyHNmosMzas7Ef7ye-rSkbSu_O2u9GanU9bSV7tSJwfppZxVWVbOL4UkGozR5sS4gLqYUJeAnTdCpPgBi4VKLI0XIt3viiwVd6mis1qcULYA9OoGNbdIhIqSKRHSLBe2Vu6AxQ0mr4hOSa3IqyMGuOc1azaf-yVKRcOsTXNV2UPXUxjaqjIHCwTL7zl9_sU-i3yPnJai6rPU_GlEyeeE0CDQFfsf0QR3OK61O3UH4ipR352YOAn9YR53BSZq0SxfiJZThdVRXN5-Oq-T6hyqhl8st4X2wyOgxO6O6YcyaEbuI4ZQvDLqEwl-xSFv3iUGAsXz5GYPivxL0BJOZh7gfq6JbOfEunfFH7ZX0CTmhomiisIcLLC8iSW2CYdHJzYyJ2pAESpicoYX7DlmLrXXC4yOC6_SwDskxs2h5y7LOMsUOxKG96fM_25HqfpatxbviJYFCHv1_PQNksW17D5Lw4MVNA9te_ts8YETtnIN0IlA8dUGqjJBivX81YvXj9IjkC0GSopJCnnIoWmvPCEDtvnA7V_TXFbL3scpZAbhDJXOpHEBr9wt1OvIz_tTyKAyYMbgUT8aK3v6kpZ3IC-_bOLAAwPfWLfDVGfHPB890QLJxyAdHX9OXpGljQNW7uZw../download\n",
            "Resolving public.boxcloud.com (public.boxcloud.com)... 74.112.186.128\n",
            "Connecting to public.boxcloud.com (public.boxcloud.com)|74.112.186.128|:443... connected.\n",
            "HTTP request sent, awaiting response... 200 OK\n",
            "Length: 24383 (24K) [image/jpeg]\n",
            "Saving to: ‘destructed3.jpg’\n",
            "\n",
            "destructed3.jpg     100%[===================>]  23.81K  --.-KB/s    in 0.03s   \n",
            "\n",
            "2023-09-08 12:33:34 (914 KB/s) - ‘destructed3.jpg’ saved [24383/24383]\n",
            "\n"
          ]
        },
        {
          "output_type": "execute_result",
          "data": {
            "text/plain": [
              "<PIL.JpegImagePlugin.JpegImageFile image mode=RGB size=181x181>"
            ],
            "image/png": "[encoded data removed]"
          },
          "metadata": {},
          "execution_count": 24
        }
      ],
      "source": [
        "!wget -O destructed3.jpg  https://ibm.box.com/shared/static/vvm1b63uvuxq88vbw9znpwu5ol380mco.jpg\n",
        "img = Image.open('destructed3.jpg')\n",
        "img"
      ],
      "execution_count": null
    },
    {
      "cell_type": "markdown",
      "metadata": {
        "id": "3395c842-a4f4-4323-80a4-0a94421905f6"
      },
      "source": [
        "Now let's pass this image through the neural net:\n"
      ]
    },
    {
      "cell_type": "code",
      "metadata": {
        "id": "70d90bc5-a19c-43d1-bfa6-69a7200a497e"
      },
      "outputs": [],
      "source": [
        "# convert the image to a 1d numpy array\n",
        "sample_case = np.array(img.convert('I').resize((28,28))).ravel().reshape((1, -1))/255.0\n",
        "\n",
        "sample_case = tf.cast(sample_case, dtype=tf.float32)"
      ],
      "execution_count": null
    },
    {
      "cell_type": "markdown",
      "metadata": {
        "id": "7d0602f1-4de6-4084-9d09-0004c93cb9de"
      },
      "source": [
        "Feed the sample case into the network and reconstruct the output:\n"
      ]
    },
    {
      "cell_type": "code",
      "metadata": {
        "colab": {
          "base_uri": "https://localhost:8080/"
        },
        "id": "a195f7c4-7d60-42d2-a2e9-c49fc5ae82b8",
        "outputId": "9c2c8e6d-8612-46ec-d23e-8d44247563a7"
      },
      "outputs": [
        {
          "output_type": "stream",
          "name": "stdout",
          "text": [
            "Probability nodes in hidden layer: tf.Tensor(\n",
            "[[1.48868054e-07 9.99998569e-01 8.68940309e-10 1.00000000e+00\n",
            "  9.99910712e-01 1.02540381e-01 6.01778209e-01 2.23149856e-15\n",
            "  4.43822097e-11 9.67674664e-15 2.53048071e-08 7.67028814e-06\n",
            "  3.57168688e-06 3.25710224e-18 4.51814049e-05 2.36641436e-11\n",
            "  1.99940812e-04 1.08825834e-03 1.14196465e-10 8.91957998e-01\n",
            "  1.15411040e-11 9.99999881e-01 5.96869151e-11 9.99999762e-01\n",
            "  1.73859771e-09 1.92678531e-08 2.59815590e-18 8.27465713e-01\n",
            "  1.00000000e+00 9.99999881e-01 3.84227927e-11 9.99237895e-01\n",
            "  2.46645977e-05 9.99826014e-01 1.63805124e-03 9.67696536e-08\n",
            "  7.57477880e-01 1.00000000e+00 9.99859095e-01 2.23524868e-02\n",
            "  1.91865784e-05 3.56477591e-11 2.29792008e-08 9.99806941e-01\n",
            "  2.56714760e-04 5.75703764e-12 4.87277061e-01 9.32700872e-01\n",
            "  9.34197128e-01 4.21296892e-04]], shape=(1, 50), dtype=float32)\n",
            "activated nodes in hidden layer: tf.Tensor(\n",
            "[[0. 1. 0. 1. 1. 0. 1. 0. 0. 0. 0. 0. 0. 0. 0. 0. 0. 0. 0. 1. 0. 1. 0. 1.\n",
            "  0. 0. 0. 1. 1. 1. 0. 1. 0. 1. 0. 0. 1. 1. 1. 0. 0. 0. 0. 1. 0. 0. 0. 1.\n",
            "  1. 0.]], shape=(1, 50), dtype=float32)\n",
            "tf.Tensor(\n",
            "[[1.19682874e-04 1.95345492e-04 1.75000780e-04 1.01988851e-04\n",
            "  3.00264597e-04 1.59941061e-04 1.47646017e-04 2.24694057e-04\n",
            "  1.87687328e-04 1.63171484e-04 2.33861851e-04 1.91478030e-04\n",
            "  3.68737616e-04 1.64662531e-04 2.71506957e-04 1.80775212e-04\n",
            "  2.11611768e-04 2.09506601e-04 1.25818420e-04 1.52141787e-04\n",
            "  2.50814424e-04 1.99290851e-04 2.24694275e-04 1.49129701e-04\n",
            "  1.78535309e-04 1.56774433e-04 1.75000780e-04 1.89573126e-04\n",
            "  1.82141215e-04 1.36296017e-04 2.03316056e-04 1.76759291e-04\n",
            "  2.25541444e-04 2.03786913e-04 1.71865933e-04 1.48104009e-04\n",
            "  1.92192674e-04 2.56271625e-04 3.86346714e-04 2.15058055e-04\n",
            "  2.13386651e-04 2.13838823e-04 1.99236500e-04 1.64778918e-04\n",
            "  3.03841487e-04 7.98484136e-04 2.72167847e-04 3.46550980e-04\n",
            "  2.35638319e-04 3.04914603e-04 3.03507375e-04 1.91891464e-04\n",
            "  2.48319586e-04 1.73259745e-04 2.11611768e-04 9.50944523e-05\n",
            "  1.82141375e-04 1.44722799e-04 1.66063168e-04 1.82720643e-04\n",
            "  2.31299491e-04 2.31272381e-04 1.99549046e-04 2.99500971e-04\n",
            "  1.34064918e-04 2.35712709e-04 6.11840442e-05 3.67475259e-05\n",
            "  2.05204251e-05 2.57985976e-05 5.73916477e-05 1.04647108e-04\n",
            "  4.74627595e-05 5.11642247e-05 9.09272567e-05 9.09054943e-05\n",
            "  1.09787325e-04 2.40482565e-04 4.27230087e-04 1.82398609e-04\n",
            "  1.68192797e-04 2.91678851e-04 1.30952481e-04 2.13737920e-04\n",
            "  1.58349838e-04 2.63670867e-04 1.86192032e-04 4.04003455e-04\n",
            "  1.45542333e-04 3.24208260e-04 5.54473256e-04 3.55900265e-04\n",
            "  2.38006687e-04 3.17431899e-04 1.65531499e-04 1.18809949e-04\n",
            "  2.59632361e-04 6.22615276e-04 1.34009379e-03 1.34593213e-03\n",
            "  1.63510302e-03 1.33848283e-03 1.23948185e-03 1.89884938e-03\n",
            "  7.13304325e-04 5.47094096e-04 4.85657627e-04 4.07119951e-04\n",
            "  4.39596683e-04 2.47755786e-04 1.31132299e-04 2.05358840e-04\n",
            "  1.87687328e-04 2.56100902e-04 2.24385978e-04 1.95491200e-04\n",
            "  2.92491692e-04 1.08678220e-03 1.75507623e-03 1.79109676e-03\n",
            "  9.39002668e-04 1.12174696e-03 2.28164345e-03 1.97083154e-03\n",
            "  4.24349681e-03 5.97994449e-03 2.40709204e-02 1.41393729e-02\n",
            "  8.42194445e-03 7.85148237e-03 9.23830085e-03 1.43694179e-02\n",
            "  6.66541560e-03 9.51919425e-03 8.00609123e-03 3.70722637e-03\n",
            "  3.05847102e-03 7.58233131e-04 2.26702905e-04 2.89457355e-04\n",
            "  1.82141375e-04 2.31535363e-04 2.33083832e-04 3.37579957e-04\n",
            "  8.48715368e-04 2.06841994e-03 2.32460513e-03 8.09186138e-03\n",
            "  6.80599362e-03 1.46124223e-02 2.67914291e-02 1.01853810e-01\n",
            "  1.31416127e-01 3.70353311e-01 5.21134317e-01 5.21891892e-01\n",
            "  5.16344786e-01 3.08945417e-01 3.12246472e-01 1.53137177e-01\n",
            "  6.35897219e-02 4.09660079e-02 2.22186726e-02 1.04116453e-02\n",
            "  3.21305706e-03 1.24505849e-03 1.06699672e-03 1.71650405e-04\n",
            "  1.63171484e-04 2.37577056e-04 2.12601313e-04 9.07420414e-04\n",
            "  2.61969236e-03 4.72999131e-03 6.72324374e-03 1.41758248e-02\n",
            "  1.26611823e-02 2.53796652e-02 9.02483985e-02 3.79774064e-01\n",
            "  6.27287388e-01 7.68142104e-01 9.17494357e-01 8.62123191e-01\n",
            "  8.23916256e-01 8.87718618e-01 6.93457842e-01 7.95547843e-01\n",
            "  4.95672226e-01 1.47871897e-01 7.11053908e-02 1.26777235e-02\n",
            "  3.43139702e-03 2.61745555e-03 8.86339345e-04 1.30721543e-04\n",
            "  2.12618135e-04 3.30017065e-04 6.96529576e-04 2.02588853e-03\n",
            "  7.06492225e-03 1.07735647e-02 1.66138653e-02 1.46685140e-02\n",
            "  1.82374977e-02 1.20974623e-01 4.22873259e-01 9.36649323e-01\n",
            "  9.33196008e-01 8.88136744e-01 9.23672080e-01 9.24990773e-01\n",
            "  9.16118741e-01 8.85205626e-01 8.60762477e-01 9.16267157e-01\n",
            "  7.66722083e-01 2.93788195e-01 5.93096428e-02 6.89140987e-03\n",
            "  2.63805734e-03 7.85552489e-04 1.04331493e-03 2.45358242e-04\n",
            "  2.32572827e-04 2.47979100e-04 1.31708570e-03 2.32342444e-03\n",
            "  2.86728423e-03 4.30353591e-03 1.18740601e-02 9.36710462e-03\n",
            "  2.17978954e-02 1.40134081e-01 6.38850987e-01 8.93910885e-01\n",
            "  9.25101042e-01 7.30491459e-01 7.57345557e-01 6.86829984e-01\n",
            "  7.75200725e-01 5.86695611e-01 7.56911516e-01 8.58458877e-01\n",
            "  6.81388736e-01 2.70541459e-01 2.44725496e-02 6.21881057e-03\n",
            "  2.51097023e-03 8.41804489e-04 7.42621080e-04 3.92991293e-04\n",
            "  1.95391302e-04 3.29048198e-04 1.21280784e-03 1.40406867e-03\n",
            "  2.55814544e-03 1.04771908e-02 4.37958073e-03 7.63011258e-03\n",
            "  2.25099921e-02 1.55887142e-01 5.96160948e-01 6.97354972e-01\n",
            "  6.26204014e-01 1.51707977e-01 2.19555780e-01 3.17874789e-01\n",
            "  3.19463432e-01 4.02489007e-01 6.04869127e-01 7.07334876e-01\n",
            "  6.87957942e-01 2.32114971e-01 2.07001995e-02 1.73971883e-03\n",
            "  1.05806044e-03 4.27168183e-04 5.17048407e-04 1.85514378e-04\n",
            "  2.59334221e-04 3.62375460e-04 1.33914023e-03 3.38260760e-03\n",
            "  3.46490485e-03 6.25743670e-03 3.73137975e-03 7.93963112e-03\n",
            "  1.31540867e-02 1.03071325e-01 1.24874599e-01 2.31715828e-01\n",
            "  1.12442568e-01 1.01922669e-01 1.20399818e-01 2.01240167e-01\n",
            "  3.24046403e-01 5.11179805e-01 7.14277625e-01 7.98593462e-01\n",
            "  5.47609329e-01 1.14498965e-01 7.40964618e-03 8.59336520e-04\n",
            "  3.85278807e-04 2.82032473e-04 4.36182221e-04 3.06689239e-04\n",
            "  2.81092653e-04 4.56310896e-04 9.87206702e-04 2.37349328e-03\n",
            "  2.99165654e-03 3.05503863e-03 3.81799648e-03 1.47926447e-03\n",
            "  7.18773203e-03 2.27346271e-02 7.52941519e-02 4.79877703e-02\n",
            "  1.19275853e-01 4.12238419e-01 3.68794352e-01 5.92904210e-01\n",
            "  8.35050941e-01 8.83272827e-01 8.96734118e-01 5.86685717e-01\n",
            "  2.65900850e-01 3.82017978e-02 2.56217574e-03 3.68338136e-04\n",
            "  3.94985080e-04 8.03162460e-04 3.25762696e-04 1.51873639e-04\n",
            "  3.03103123e-04 2.27326062e-04 1.18384801e-03 2.13604630e-03\n",
            "  2.33537145e-03 3.53495381e-03 1.16277928e-03 8.72372126e-04\n",
            "  1.96758541e-03 8.13945103e-03 2.17248853e-02 1.76688552e-01\n",
            "  7.01506078e-01 8.26367438e-01 8.86553288e-01 9.39087749e-01\n",
            "  9.28451657e-01 9.21319067e-01 8.90354812e-01 4.82574284e-01\n",
            "  1.07008219e-01 1.33644827e-02 9.80035868e-04 1.44022095e-04\n",
            "  2.43302668e-04 3.61681072e-04 2.06870522e-04 1.24742670e-04\n",
            "  1.54449954e-04 2.12634783e-04 4.92807885e-04 8.88876035e-04\n",
            "  9.10489296e-04 3.29174032e-03 2.50397390e-03 9.27851186e-04\n",
            "  3.59997014e-03 8.11786763e-03 2.10413206e-02 4.19467241e-01\n",
            "  8.98090005e-01 9.07046199e-01 9.73321676e-01 9.45469379e-01\n",
            "  9.67620075e-01 9.71867502e-01 7.58980930e-01 2.50520974e-01\n",
            "  3.09084393e-02 2.39870534e-03 3.91652371e-04 1.50522479e-04\n",
            "  1.06723688e-04 4.37244627e-04 4.13358852e-04 1.35358714e-04\n",
            "  3.02213244e-04 1.92200197e-04 2.24227711e-04 7.67110032e-04\n",
            "  6.54307078e-04 1.28501107e-03 9.51468071e-04 1.37784088e-03\n",
            "  2.28429260e-03 2.91492790e-03 3.17302160e-02 5.34241021e-01\n",
            "  8.61528099e-01 9.35612500e-01 7.29571700e-01 8.88551176e-01\n",
            "  9.43481028e-01 9.17094469e-01 8.11161518e-01 1.96793571e-01\n",
            "  2.26970483e-02 8.30154633e-04 4.11447021e-04 2.53436272e-04\n",
            "  1.56169437e-04 3.24909430e-04 3.70273454e-04 1.15741510e-04\n",
            "  1.60708019e-04 2.76317762e-04 3.44114436e-04 6.13280747e-04\n",
            "  6.90965739e-04 8.30217148e-04 1.34164549e-03 2.47405120e-03\n",
            "  1.60433748e-03 5.77912806e-03 3.39013599e-02 2.73502529e-01\n",
            "  5.16490102e-01 5.25866508e-01 1.62529230e-01 3.22537482e-01\n",
            "  6.76039636e-01 8.89847755e-01 7.99214005e-01 3.03866476e-01\n",
            "  1.15498556e-02 6.01314998e-04 2.97429709e-04 2.33316183e-04\n",
            "  2.05749850e-04 3.12272081e-04 2.82595545e-04 1.61187607e-04\n",
            "  2.28603880e-04 1.94329463e-04 5.98534476e-04 2.93222768e-03\n",
            "  3.06782243e-03 1.85499282e-03 4.48010629e-03 7.80785736e-03\n",
            "  3.56690073e-03 6.37876010e-03 4.39800583e-02 8.33135322e-02\n",
            "  1.96353704e-01 3.35995741e-02 1.69707704e-02 4.01343405e-02\n",
            "  4.51570272e-01 7.95290947e-01 7.64095843e-01 1.25308409e-01\n",
            "  7.54835550e-03 1.05563388e-03 6.36952871e-04 6.04914618e-04\n",
            "  3.07056092e-04 1.41791723e-04 2.63867521e-04 3.08558345e-04\n",
            "  2.61047913e-04 2.18920017e-04 6.37243153e-04 2.96938606e-03\n",
            "  9.97315999e-03 6.81235269e-03 1.54573033e-02 3.13330255e-02\n",
            "  1.17207542e-02 1.97248310e-02 3.92904617e-02 3.36643867e-02\n",
            "  3.78070325e-02 1.37757724e-02 6.04685768e-03 4.88254949e-02\n",
            "  2.64873058e-01 7.50269175e-01 4.72181380e-01 6.97045848e-02\n",
            "  1.10852988e-02 9.34093085e-04 1.26526773e-03 1.93705224e-03\n",
            "  8.03985167e-04 4.86668781e-04 5.11444348e-04 1.80463685e-04\n",
            "  2.85994698e-04 2.89843418e-04 1.17792841e-03 1.46377310e-02\n",
            "  3.71981375e-02 9.37420502e-02 1.77732423e-01 1.11308493e-01\n",
            "  4.93057966e-02 1.56692900e-02 1.99537259e-02 2.14260351e-02\n",
            "  8.57772771e-03 3.41140223e-03 4.64778487e-03 4.99601215e-02\n",
            "  4.14894432e-01 7.95085311e-01 5.01063287e-01 4.38845381e-02\n",
            "  7.02451263e-03 4.39987890e-03 5.53673180e-03 1.31508906e-03\n",
            "  1.05709967e-03 5.60681627e-04 4.30525251e-04 2.28980804e-04\n",
            "  1.78011076e-04 1.64050245e-04 3.60056851e-03 3.29417214e-02\n",
            "  1.13875724e-01 3.67262900e-01 4.70146716e-01 2.40926951e-01\n",
            "  8.72966349e-02 2.73289345e-02 2.67036296e-02 2.38457248e-02\n",
            "  6.70922780e-03 2.38721282e-03 1.41836479e-02 8.25778246e-02\n",
            "  5.51930666e-01 7.33065069e-01 5.10357738e-01 6.65363669e-02\n",
            "  8.27269256e-03 3.47820763e-03 2.79150694e-03 2.03169463e-03\n",
            "  1.02858956e-03 6.90338435e-04 4.15128947e-04 1.30701112e-04\n",
            "  1.80329342e-04 2.72809004e-04 8.04626942e-03 1.04024582e-01\n",
            "  2.86972880e-01 5.04084587e-01 6.80377245e-01 7.27762878e-01\n",
            "  2.67146230e-01 9.67671052e-02 1.83799088e-01 8.67121816e-02\n",
            "  7.16706440e-02 1.19681265e-02 6.87118098e-02 3.14194441e-01\n",
            "  7.73203552e-01 8.79735410e-01 3.49193722e-01 3.58388610e-02\n",
            "  8.50060116e-03 3.60548706e-03 5.30206831e-03 4.03205445e-03\n",
            "  3.28670605e-03 1.43048633e-03 5.04970201e-04 1.57649731e-04\n",
            "  2.92870624e-04 1.72906904e-04 3.27769783e-03 8.54437500e-02\n",
            "  2.86505371e-01 6.64708078e-01 7.40358710e-01 7.99046099e-01\n",
            "  5.63853502e-01 3.31908613e-01 2.53595024e-01 2.15141237e-01\n",
            "  1.29327491e-01 2.35436767e-01 2.33123556e-01 6.95036709e-01\n",
            "  7.66806960e-01 6.49094343e-01 2.65623868e-01 1.64582767e-02\n",
            "  9.03962553e-03 9.57776885e-03 3.16421292e-03 2.36330833e-03\n",
            "  2.90916557e-03 1.19273900e-03 3.11817508e-04 1.39787022e-04\n",
            "  1.96243636e-04 1.73124005e-04 9.72961949e-04 4.33589444e-02\n",
            "  2.97710776e-01 6.21542811e-01 6.93760335e-01 7.76086926e-01\n",
            "  7.93087661e-01 5.83737493e-01 5.34015298e-01 5.95345736e-01\n",
            "  3.79486233e-01 5.28344691e-01 6.14489198e-01 7.98326671e-01\n",
            "  5.54932117e-01 2.11440787e-01 4.25367691e-02 1.39114810e-02\n",
            "  6.37265248e-03 3.26743675e-03 1.18445547e-03 2.26463890e-03\n",
            "  1.72186876e-03 6.42610830e-04 2.49246310e-04 2.47881952e-04\n",
            "  2.05359043e-04 1.78535309e-04 6.25098182e-04 1.57333221e-02\n",
            "  1.27814591e-01 3.45561564e-01 5.87188900e-01 6.84627175e-01\n",
            "  7.62180805e-01 7.80296147e-01 8.12951326e-01 4.35733736e-01\n",
            "  4.88579333e-01 6.11148894e-01 5.47778606e-01 4.86076325e-01\n",
            "  1.50438562e-01 5.14656603e-02 2.83620581e-02 9.04374477e-03\n",
            "  5.56336297e-03 1.88351667e-03 9.63071536e-04 1.40500756e-03\n",
            "  9.06712143e-04 2.89208285e-04 2.58278887e-04 2.38585155e-04\n",
            "  1.87687328e-04 2.61047913e-04 2.33358456e-04 1.04074087e-03\n",
            "  1.33414576e-02 1.20994166e-01 2.71483958e-01 4.88621682e-01\n",
            "  6.82110250e-01 7.41808116e-01 4.56766248e-01 2.15313524e-01\n",
            "  1.42147914e-01 1.49841517e-01 1.45107299e-01 1.03956513e-01\n",
            "  3.01212464e-02 1.28715616e-02 5.40421577e-03 3.68631654e-03\n",
            "  2.37268512e-03 4.65124846e-04 3.87439359e-04 4.87984333e-04\n",
            "  3.91101115e-04 2.35305823e-04 2.29448066e-04 2.05358840e-04\n",
            "  9.22842664e-05 1.64811136e-04 1.92690670e-04 3.08836723e-04\n",
            "  6.87176886e-04 4.03076597e-03 1.74902491e-02 3.17077152e-02\n",
            "  5.92119209e-02 3.50096226e-02 8.60566460e-03 3.49721150e-03\n",
            "  7.01101869e-03 9.93814040e-03 1.23033011e-02 6.19218638e-03\n",
            "  6.57928502e-03 1.64383580e-03 1.30467629e-03 1.22297916e-03\n",
            "  4.27483697e-04 2.62217567e-04 3.68535897e-04 2.99677195e-04\n",
            "  1.94100983e-04 2.21466835e-04 2.23955518e-04 1.59941061e-04\n",
            "  2.26951815e-04 2.05358840e-04 2.55880033e-04 1.99462869e-04\n",
            "  1.51825850e-04 1.05817115e-03 1.60671305e-03 1.66348938e-03\n",
            "  9.18548380e-04 3.51811381e-04 6.13981916e-04 3.34816315e-04\n",
            "  8.13112012e-04 5.02566400e-04 1.35371159e-03 1.36992475e-03\n",
            "  3.13315843e-03 1.83467299e-03 1.28690584e-03 6.83633960e-04\n",
            "  4.81768890e-04 3.06761474e-04 1.91140760e-04 2.04098615e-04\n",
            "  1.45799306e-04 1.92079635e-04 1.66467260e-04 1.32268440e-04\n",
            "  1.59941061e-04 2.15885797e-04 1.43282959e-04 2.20245915e-04\n",
            "  2.11902327e-04 1.84036573e-04 2.19892361e-04 5.19566005e-04\n",
            "  3.54104384e-04 7.51577376e-04 9.74373310e-04 4.33896756e-04\n",
            "  7.09701213e-04 7.00857432e-04 9.14201257e-04 1.13734871e-03\n",
            "  2.08125380e-03 1.70129654e-03 5.39763598e-04 3.52981675e-04\n",
            "  1.45371174e-04 2.12743063e-04 2.16742352e-04 1.58523864e-04\n",
            "  2.15885622e-04 1.10482251e-04 2.11611768e-04 3.00264597e-04]], shape=(1, 784), dtype=float32)\n"
          ]
        }
      ],
      "source": [
        "hh0_p = tf.nn.sigmoid(tf.matmul(sample_case, W) + hb)\n",
        "hh0_s = tf.round(hh0_p)\n",
        "\n",
        "print(\"Probability nodes in hidden layer:\" ,hh0_p)\n",
        "print(\"activated nodes in hidden layer:\" ,hh0_s)\n",
        "\n",
        "# reconstruct\n",
        "vv1_p = tf.nn.sigmoid(tf.matmul(hh0_s, tf.transpose(W)) + vb)\n",
        "\n",
        "print(vv1_p)\n",
        "#rec_prob = sess.run(vv1_p, feed_dict={ hh0_s: hh0_s_val, W: prv_w, vb: prv_vb})"
      ],
      "execution_count": null
    },
    {
      "cell_type": "markdown",
      "metadata": {
        "id": "64898dd9-dfdb-49fe-b401-fd5af185ee8f"
      },
      "source": [
        "Here we plot the reconstructed image:\n"
      ]
    },
    {
      "cell_type": "code",
      "metadata": {
        "colab": {
          "base_uri": "https://localhost:8080/",
          "height": 368
        },
        "id": "15f7f2da-4b1e-4a94-8e06-16151cd4d521",
        "outputId": "4062d092-d47a-471d-ef9d-01730cb4f175"
      },
      "outputs": [
        {
          "output_type": "display_data",
          "data": {
            "text/plain": [
              "<Figure size 400x400 with 1 Axes>"
            ],
            "image/png": "[encoded data removed]"
          },
          "metadata": {}
        }
      ],
      "source": [
        "img = Image.fromarray(tile_raster_images(X=vv1_p.numpy(), img_shape=(28, 28),tile_shape=(1, 1), tile_spacing=(1, 1)))\n",
        "plt.rcParams['figure.figsize'] = (4.0, 4.0)\n",
        "imgplot = plt.imshow(img)\n",
        "imgplot.set_cmap('gray')"
      ],
      "execution_count": null
    },
    {
      "cell_type": "markdown",
      "metadata": {
        "id": "6baba190-9036-4b55-9167-9887860bb69a"
      },
      "source": [
        "<hr>\n",
        "\n",
        "## Want to learn more?\n",
        "\n",
        "Also, you can use __Watson Studio__ to run these notebooks faster with bigger datasets.__Watson Studio__ is IBM’s leading cloud solution for data scientists, built by data scientists. With Jupyter notebooks, RStudio, Apache Spark and popular libraries pre-packaged in the cloud, __Watson Studio__ enables data scientists to collaborate on their projects without having to install anything. Join the fast-growing community of __Watson Studio__ users today with a free account at [Watson Studio](https://cocl.us/ML0120EN_DSX).This is the end of this lesson. Thank you for reading this notebook, and good luck on your studies.\n"
      ]
    },
    {
      "cell_type": "markdown",
      "metadata": {
        "id": "deec31a2-c2a8-4ae5-b359-cd2daa2f0954"
      },
      "source": [
        "### Thanks for completing this lesson!\n",
        "\n",
        "Notebook created by: <a href = \"https://ca.linkedin.com/in/saeedaghabozorgi\">Saeed Aghabozorgi</a>\n",
        "\n",
        "Updated to TF 2.X by  <a href=\"https://ca.linkedin.com/in/nilmeier?utm_medium=Exinfluencer&utm_source=Exinfluencer&utm_content=000026UJ&utm_term=10006555&utm_id=NA-SkillsNetwork-Channel-SkillsNetworkCoursesIBMDeveloperSkillsNetworkDL0120ENSkillsNetwork954-2023-01-01\"> Jerome Nilmeier</a><br />\n"
      ]
    },
    {
      "cell_type": "markdown",
      "metadata": {
        "id": "583db76c-5616-4506-ae3d-b9c73f0c77f1"
      },
      "source": [
        "### References:\n",
        "https://en.wikipedia.org/wiki/Restricted_Boltzmann_machine  \n",
        "http://deeplearning.net/tutorial/rbm.html  \n",
        "http://www.cs.utoronto.ca/~hinton/absps/netflixICML.pdf<br>\n",
        "http://imonad.com/rbm/restricted-boltzmann-machine/  \n"
      ]
    },
    {
      "cell_type": "markdown",
      "metadata": {
        "id": "5c1e7bfe-510b-491d-82b4-24005643d95c"
      },
      "source": [
        "<hr>\n",
        "\n",
        "Copyright &copy; 2018 [Cognitive Class](https://cocl.us/DX0108EN_CC). This notebook and its source code are released under the terms of the [MIT License](https://bigdatauniversity.com/mit-license/?utm_medium=Exinfluencer&utm_source=Exinfluencer&utm_content=000026UJ&utm_term=10006555&utm_id=NA-SkillsNetwork-Channel-SkillsNetworkCoursesIBMDeveloperSkillsNetworkDL0120ENSkillsNetwork954-2023-01-01).\n"
      ]
    }
  ],
  "metadata": {
    "kernelspec": {
      "display_name": "Python",
      "language": "python",
      "name": "conda-env-python-py"
    },
    "language_info": {
      "name": ""
    },
    "colab": {
      "provenance": [],
      "gpuType": "T4"
    },
    "accelerator": "GPU"
  },
  "nbformat": 4,
  "nbformat_minor": 0
}